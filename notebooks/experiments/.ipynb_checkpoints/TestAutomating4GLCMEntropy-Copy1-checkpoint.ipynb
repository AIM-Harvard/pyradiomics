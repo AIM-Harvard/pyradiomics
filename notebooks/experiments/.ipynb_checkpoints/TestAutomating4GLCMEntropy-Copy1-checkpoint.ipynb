{
 "cells": [
  {
   "cell_type": "markdown",
   "metadata": {},
   "source": [
    "#### Import all libraries"
   ]
  },
  {
   "cell_type": "code",
   "execution_count": 1,
   "metadata": {},
   "outputs": [],
   "source": [
    "from __future__ import print_function\n",
    "import os\n",
    "import collections\n",
    "import SimpleITK as sitk\n",
    "import numpy as np\n",
    "import six\n",
    "import radiomics\n",
    "from radiomics import firstorder, glcm, imageoperations, shape, glrlm, glszm, getTestCase\n",
    "import scipy as sp\n",
    "import matplotlib as mpl\n",
    "import matplotlib.pyplot as plt\n",
    "import nrrd\n",
    "from pathlib import Path\n",
    "import sys\n",
    "import logging as logger\n",
    "import time\n",
    "import json\n",
    "import os\n",
    "import logging.config"
   ]
  },
  {
   "cell_type": "code",
   "execution_count": 2,
   "metadata": {},
   "outputs": [],
   "source": [
    "#Read the entire Benthiemer sandstone\n",
    "global image_1, label_1\n",
    "filename_ben = 'investigate_bent_8bit.nrrd'\n",
    "image_1 = sitk.ReadImage('C:\\\\Users\\\\User\\\\Desktop\\\\WRR\\\\pyradiomics\\\\data\\\\investigate_bent_8bit.nrrd')"
   ]
  },
  {
   "cell_type": "markdown",
   "metadata": {},
   "source": [
    "#### Extraction Settings"
   ]
  },
  {
   "cell_type": "code",
   "execution_count": 3,
   "metadata": {},
   "outputs": [],
   "source": [
    "settings = {}\n",
    "settings['label'] = 255"
   ]
  },
  {
   "cell_type": "code",
   "execution_count": 15,
   "metadata": {},
   "outputs": [
    {
     "name": "stdout",
     "output_type": "stream",
     "text": [
      "Expected Calculations for Window 20 . The expected of iterations is  962361\n"
     ]
    },
    {
     "ename": "KeyboardInterrupt",
     "evalue": "",
     "output_type": "error",
     "traceback": [
      "\u001b[1;31m---------------------------------------------------------------------------\u001b[0m",
      "\u001b[1;31mKeyboardInterrupt\u001b[0m                         Traceback (most recent call last)",
      "\u001b[1;32m<timed exec>\u001b[0m in \u001b[0;36m<module>\u001b[1;34m\u001b[0m\n",
      "\u001b[1;32m~\\Anaconda3\\lib\\site-packages\\radiomics\\imageoperations.py\u001b[0m in \u001b[0;36mcheckMask\u001b[1;34m(imageNode, maskNode, **kwargs)\u001b[0m\n\u001b[0;32m    190\u001b[0m   \u001b[0mlsif\u001b[0m \u001b[1;33m=\u001b[0m \u001b[0msitk\u001b[0m\u001b[1;33m.\u001b[0m\u001b[0mLabelStatisticsImageFilter\u001b[0m\u001b[1;33m(\u001b[0m\u001b[1;33m)\u001b[0m\u001b[1;33m\u001b[0m\u001b[1;33m\u001b[0m\u001b[0m\n\u001b[0;32m    191\u001b[0m   \u001b[1;32mtry\u001b[0m\u001b[1;33m:\u001b[0m\u001b[1;33m\u001b[0m\u001b[1;33m\u001b[0m\u001b[0m\n\u001b[1;32m--> 192\u001b[1;33m     \u001b[0mlsif\u001b[0m\u001b[1;33m.\u001b[0m\u001b[0mExecute\u001b[0m\u001b[1;33m(\u001b[0m\u001b[0mimageNode\u001b[0m\u001b[1;33m,\u001b[0m \u001b[0mmaskNode\u001b[0m\u001b[1;33m)\u001b[0m\u001b[1;33m\u001b[0m\u001b[1;33m\u001b[0m\u001b[0m\n\u001b[0m\u001b[0;32m    193\u001b[0m \u001b[1;33m\u001b[0m\u001b[0m\n\u001b[0;32m    194\u001b[0m     \u001b[1;31m# If lsif fails, and mask is corrected, it includes a check whether the label is present. Therefore, perform\u001b[0m\u001b[1;33m\u001b[0m\u001b[1;33m\u001b[0m\u001b[1;33m\u001b[0m\u001b[0m\n",
      "\u001b[1;32m~\\Anaconda3\\lib\\site-packages\\SimpleITK\\SimpleITK.py\u001b[0m in \u001b[0;36mExecute\u001b[1;34m(self, *args)\u001b[0m\n\u001b[0;32m  43956\u001b[0m \u001b[1;33m\u001b[0m\u001b[0m\n\u001b[0;32m  43957\u001b[0m         \"\"\"\n\u001b[1;32m> 43958\u001b[1;33m         \u001b[1;32mreturn\u001b[0m \u001b[0m_SimpleITK\u001b[0m\u001b[1;33m.\u001b[0m\u001b[0mLabelStatisticsImageFilter_Execute\u001b[0m\u001b[1;33m(\u001b[0m\u001b[0mself\u001b[0m\u001b[1;33m,\u001b[0m \u001b[1;33m*\u001b[0m\u001b[0margs\u001b[0m\u001b[1;33m)\u001b[0m\u001b[1;33m\u001b[0m\u001b[1;33m\u001b[0m\u001b[0m\n\u001b[0m\u001b[0;32m  43959\u001b[0m \u001b[1;33m\u001b[0m\u001b[0m\n\u001b[0;32m  43960\u001b[0m \u001b[1;33m\u001b[0m\u001b[0m\n",
      "\u001b[1;31mKeyboardInterrupt\u001b[0m: "
     ]
    }
   ],
   "source": [
    "%%time\n",
    "ultimate_mask = np.zeros((1000, 1000, 520))\n",
    "global window_size, total_iter, expect_iter, i_loc, j_loc, bb, correctedMask, croppedImage, croppedMask, glcm_window\n",
    "for window_size in range(20,521,20):\n",
    "    expect_iter = (ultimate_mask.shape[1] - window_size + 1)**2\n",
    "    print(\"Expected Calculations for Window\", str(window_size), \". The expected of iterations is \", str(expect_iter))        \n",
    "    glcm_window = np.zeros((expect_iter,1))\n",
    "    total_iter = 0\n",
    "    for i_loc in range(ultimate_mask.shape[0]-window_size+1):\n",
    "        for j_loc in range(ultimate_mask.shape[1]-window_size+1):\n",
    "\n",
    "            full_mask = np.zeros((1000, 1000, 520), dtype = np.uint8)\n",
    "            full_mask[i_loc:i_loc+window_size,j_loc:j_loc+window_size,:] = 255\n",
    "\n",
    "            outputFileName = 'rock_label_w_' + str(window_size) + '_xloc_' + str(i_loc) + '_yloc_' + str(j_loc) + '.nrrd'\n",
    "            nrrd.write(outputFileName, full_mask)\n",
    "\n",
    "            #import the mask\n",
    "            label_1 = sitk.ReadImage(outputFileName)\n",
    "\n",
    "            bb, correctedMask = imageoperations.checkMask(image_1, label_1, label=255)\n",
    "            if correctedMask is not None:\n",
    "                label_1 = correctedMask\n",
    "            croppedImage, croppedMask = imageoperations.cropToTumorMask(image_1, label_1, bb)\n",
    "            print(\"ROI is prepared\", '\\n', \"Cropped Image has dimentions: \", croppedImage.shape, '\\n', \"Cropped Label has dimensions:\", croppedMask.shape, \"\\n\", \"The bounding box has coordinates: \", bb)\n",
    "\n",
    "            #display the ROI\n",
    "            plt.figure(figsize=(20,20))\n",
    "            # First image\n",
    "            plt.subplot(2,2,1)\n",
    "            plt.imshow(sitk.GetArrayFromImage(croppedImage)[12,:,:], cmap=\"gray\")\n",
    "            plt.title(\"Bentheimer #1\")\n",
    "            plt.subplot(2,2,2)\n",
    "            plt.imshow(sitk.GetArrayFromImage(croppedMask)[12,:,:])        \n",
    "            plt.title(\"ROI #1\")\n",
    "\n",
    "            #calculate firstorder stats\n",
    "            firstOrderFeatures = firstorder.RadiomicsFirstOrder(croppedImage, croppedMask, **settings)\n",
    "            # Set the features to be calculated\n",
    "            firstOrderFeatures.enableFeatureByName('Mean', True)\n",
    "            print('Calculating first order features...',)\n",
    "            result = firstOrderFeatures.execute()\n",
    "            print('done')\n",
    "\n",
    "            print('Calculated first order features: ')\n",
    "            for (key, val) in six.iteritems(result):\n",
    "                print('  ', key, ':', val)\n",
    "\n",
    "            #calculate secondorder stats\n",
    "            glcmFeatures = glcm.RadiomicsGLCM(croppedImage, croppedMask, **settings)\n",
    "            # Set the features to be calculated\n",
    "            glcmFeatures.enableFeatureByName('JointEntropy', True)\n",
    "            # Calculate the features and print(out result)\n",
    "            print('Calculating GLCM features...',)\n",
    "            result = glcmFeatures.execute()\n",
    "            print('done')\n",
    "\n",
    "            print('Calculated GLCM features: ')\n",
    "            for (key, val) in six.iteritems(result):\n",
    "                glcm_window[total_iter,0] = val\n",
    "                print('  ', key, ':', val)\n",
    "            total_iter = total_iter + 1\n",
    "\n",
    "            my_df = pd.DataFrame(glcm_window)\n",
    "            name_csv = 'entropy_window_' + str(window_size) + '.csv'\n",
    "            my_df.to_csv(name_csv, index=False, header=False)\n",
    "            print(\"Saved glcm values of window size \", str(window_size))\n",
    "\n",
    "    print(\"Completed Calculations for Window \", str(window_size), \". The number of iterations is \", str(total_iter))\n",
    "    os.remove(outputFileName)\n",
    "    print(\"Label NRRD File \", outputFileName, \" removed!\")"
   ]
  },
  {
   "cell_type": "code",
   "execution_count": 10,
   "metadata": {},
   "outputs": [
    {
     "data": {
      "text/plain": [
       "(1000, 1000, 520)"
      ]
     },
     "execution_count": 10,
     "metadata": {},
     "output_type": "execute_result"
    }
   ],
   "source": [
    "full_mask.shape"
   ]
  },
  {
   "cell_type": "code",
   "execution_count": 13,
   "metadata": {},
   "outputs": [
    {
     "data": {
      "text/plain": [
       "981"
      ]
     },
     "execution_count": 13,
     "metadata": {},
     "output_type": "execute_result"
    }
   ],
   "source": [
    "ultimate_mask.shape[0] - window_size + 1"
   ]
  },
  {
   "cell_type": "code",
   "execution_count": 12,
   "metadata": {},
   "outputs": [
    {
     "data": {
      "text/plain": [
       "1000"
      ]
     },
     "execution_count": 12,
     "metadata": {},
     "output_type": "execute_result"
    }
   ],
   "source": [
    "ultimate_mask.shape[1]"
   ]
  },
  {
   "cell_type": "code",
   "execution_count": null,
   "metadata": {},
   "outputs": [],
   "source": []
  }
 ],
 "metadata": {
  "kernelspec": {
   "display_name": "Python 3",
   "language": "python",
   "name": "python3"
  },
  "language_info": {
   "codemirror_mode": {
    "name": "ipython",
    "version": 3
   },
   "file_extension": ".py",
   "mimetype": "text/x-python",
   "name": "python",
   "nbconvert_exporter": "python",
   "pygments_lexer": "ipython3",
   "version": "3.7.1"
  }
 },
 "nbformat": 4,
 "nbformat_minor": 2
}
