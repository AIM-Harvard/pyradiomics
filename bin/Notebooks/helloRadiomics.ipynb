{
 "cells": [
  {
   "cell_type": "markdown",
   "metadata": {},
   "source": [
    "# Hello Radiomics example: using the feature extractor to calculate features"
   ]
  },
  {
   "cell_type": "markdown",
   "metadata": {},
   "source": [
    "This example shows how to use the radiomics package and the feature extractor.\n",
    "The feature extractor handles preprocessing, and then calls the needed featureclasses to calculate the features.\n",
    "It is also possible to directly instantiate the feature classes. However, this is not recommended for use outside debugging or development. For more information, see `helloFeatureClass`."
   ]
  },
  {
   "cell_type": "code",
   "execution_count": 1,
   "metadata": {
    "collapsed": false
   },
   "outputs": [],
   "source": [
    "from __future__ import print_function, unicode_literals, division, absolute_import\n",
    "import sys\n",
    "import os\n",
    "import logging\n",
    "from radiomics import featureextractor\n",
    "import radiomics"
   ]
  },
  {
   "cell_type": "markdown",
   "metadata": {},
   "source": [
    "## Setting up logging"
   ]
  },
  {
   "cell_type": "code",
   "execution_count": 2,
   "metadata": {
    "collapsed": false
   },
   "outputs": [],
   "source": [
    "logger = logging.getLogger('radiomics')  # Parent logger for the radiomics package\n",
    "\n",
    "# Enable writing out the log using radiomics logger\n",
    "radiomics.debug()  # Switch on radiomics logging from level=DEBUG (default level=WARNING)\n",
    "# Alternative; set logging to a specific level\n",
    "# logger.setLevel(logging.INFO)\n",
    "\n",
    "# Prevent radiomics logger from printing out log entries with level < WARNING to the console\n",
    "logger.handlers[0].setLevel(logging.WARNING)  # This limits the log messages printed to stdErr to level warning or higher\n",
    "logger.propagate = False  # Do not pass log messages on to root logger\n",
    "\n",
    "# Write out all log entries to a file, overwrite previous log\n",
    "handler = logging.FileHandler(filename='testLog.txt', mode='w')\n",
    "formatter = logging.Formatter(\"%(levelname)s:%(name)s: %(message)s\")  # This determines how a log message should be formatted\n",
    "handler.setFormatter(formatter)\n",
    "logger.addHandler(handler)"
   ]
  },
  {
   "cell_type": "markdown",
   "metadata": {},
   "source": [
    "## Getting the testcase"
   ]
  },
  {
   "cell_type": "markdown",
   "metadata": {},
   "source": [
    "Testing data is contained in the pyradiomics/data folder, while this file is in the pyradiomics/bin/Notebooks folder. \n",
    "\n",
    "The next line of code gets the location of the current path and gets the location of the data as a relative path by going up two folders (\"..\") and then move into the data folders (\"data\").\n",
    "\n",
    "For this to work, the current active directory should be pyradiomics/bin/notebooks, which is the case if this file is run from the pyradiomics/bin/Notebooks folder."
   ]
  },
  {
   "cell_type": "code",
   "execution_count": 3,
   "metadata": {
    "collapsed": false
   },
   "outputs": [],
   "source": [
    "testCase = 'brain1'\n",
    "dataDir = os.path.join(os.path.abspath(\"\"), \"..\", \"..\", \"data\")\n",
    "imageName = os.path.join(dataDir, testCase + '_image.nrrd')\n",
    "maskName = os.path.join(dataDir, testCase + '_label.nrrd')\n",
    "\n",
    "if not os.path.exists(imageName):\n",
    "  print('Error: problem finding input image', imageName)\n",
    "if not os.path.exists(maskName):\n",
    "  print('Error: problem finding input labelmap', maskName)"
   ]
  },
  {
   "cell_type": "markdown",
   "metadata": {},
   "source": [
    "## Initializing the feature extractor"
   ]
  },
  {
   "cell_type": "markdown",
   "metadata": {},
   "source": [
    "#### Extraction Settings"
   ]
  },
  {
   "cell_type": "code",
   "execution_count": 4,
   "metadata": {
    "collapsed": false
   },
   "outputs": [],
   "source": [
    "kwargs = {}\n",
    "kwargs['binWidth'] = 25\n",
    "kwargs['resampledPixelSpacing'] = None\n",
    "# kwargs['resampledPixelSpacing'] = [3, 3, 3]  # This is an example for defining resampling (voxels with size 3x3x3mm)\n",
    "kwargs['interpolator'] = 'sitkBSpline'\n",
    "kwargs['verbose'] = True\n",
    "\n",
    "extractor = featureextractor.RadiomicsFeaturesExtractor(**kwargs)"
   ]
  },
  {
   "cell_type": "markdown",
   "metadata": {},
   "source": [
    "#### Input images: applying filters"
   ]
  },
  {
   "cell_type": "code",
   "execution_count": 5,
   "metadata": {
    "collapsed": false
   },
   "outputs": [
    {
     "name": "stdout",
     "output_type": "stream",
     "text": [
      "Enabled input images:\n",
      "\tOriginal\n"
     ]
    }
   ],
   "source": [
    "# By default, only 'original' (no filter applied) is enabled. Optionally enable some filters:\n",
    "\n",
    "# extractor.enableInputImageByName('wavelet')\n",
    "# extractor.enableInputImageByName('log', customArgs={'sigma':[3.0]})\n",
    "# extractor.enableInputImageByName('square')\n",
    "# extractor.enableInputImageByName('squareroot')\n",
    "# extractor.enableInputImageByName('exponential')\n",
    "# extractor.enableInputImageByName('logarithm')\n",
    "\n",
    "# Alternative; set filters in one operation \n",
    "# This updates current enabled input images, i.e. overwrites custom settings. \n",
    "# However, input images already enabled, but not passed in this call, are not disabled.\n",
    "\n",
    "# extractor.enableInputImages(wavelet={}, log={'sigma':[3.0]})\n",
    "\n",
    "print(\"Enabled input images:\")\n",
    "for imageType in extractor.inputImages.keys():\n",
    "    print('\\t' + imageType)"
   ]
  },
  {
   "cell_type": "markdown",
   "metadata": {},
   "source": [
    "#### Feature classes: setting which feature(classes) need to be calculated"
   ]
  },
  {
   "cell_type": "code",
   "execution_count": 6,
   "metadata": {
    "collapsed": true
   },
   "outputs": [],
   "source": [
    "# Disable all classes\n",
    "extractor.disableAllFeatures()\n",
    "\n",
    "# Enable all features in firstorder\n",
    "extractor.enableFeatureClassByName('firstorder')\n",
    "\n",
    "# Alternative; only enable 'Mean' and 'Skewness' features in firstorder\n",
    "# extractor.enableFeaturesByName(firstorder=['Mean', 'Skewness'])"
   ]
  },
  {
   "cell_type": "markdown",
   "metadata": {},
   "source": [
    "## Getting the docstrings of the active features"
   ]
  },
  {
   "cell_type": "code",
   "execution_count": 7,
   "metadata": {
    "collapsed": false,
    "scrolled": true
   },
   "outputs": [
    {
     "name": "stdout",
     "output_type": "stream",
     "text": [
      "Active features:\n",
      "10Percentile\n",
      "\n",
      "    Calculate the 10\\ :sup:`th` percentile in the image array.\n",
      "    \n",
      "90Percentile\n",
      "\n",
      "    Calculate the 90\\ :sup:`th` percentile in the image array.\n",
      "    \n",
      "Energy\n",
      "\n",
      "    Calculate the Energy of the image array.\n",
      "\n",
      "    :math:`energy = \\displaystyle\\sum^{N}_{i=1}{\\textbf{X}(i)^2}`\n",
      "\n",
      "    Energy is a measure of the magnitude of voxel values in\n",
      "    an image. A larger values implies a greater sum of the\n",
      "    squares of these values.\n",
      "    \n",
      "Entropy\n",
      "\n",
      "    Calculate the Entropy of the image array.\n",
      "\n",
      "    :math:`entropy = -\\displaystyle\\sum^{N_l}_{i=1}{p(i)\\log_2\\big(p(i)+\\epsilon\\big)}`\n",
      "\n",
      "    Here, :math:`\\epsilon` is an arbitrarily small positive number (:math:`\\approx 2.2\\times10^{-16}`).\n",
      "    Entropy specifies the uncertainty/randomness in the\n",
      "    image values. It measures the average amount of\n",
      "    information required to encode the image values.\n",
      "    \n",
      "InterquartileRange\n",
      "\n",
      "    Calculate the interquartile range of the image array.\n",
      "\n",
      "    :math:`interquartile\\ range = \\textbf{P}_{75} - \\textbf{P}_{25}`, where :math:`\\textbf{P}_{25}` and\n",
      "    :math:`\\textbf{P}_{75}` are the 25\\ :sup:`th` and 75\\ :sup:`th` percentile of the image array, respectively.\n",
      "    \n",
      "Kurtosis\n",
      "\n",
      "    Calculate the Kurtosis of the image array.\n",
      "\n",
      "    :math:`kurtosis = \\displaystyle\\frac{\\mu_4}{\\sigma^4}\n",
      "    = \\frac{\\frac{1}{N}\\sum^{N}_{i=1}{(\\textbf{X}(i)-\\bar{X})^4}}\n",
      "    {\\left(\\frac{1}{N}\\sum^{N}_{i=1}{(\\textbf{X}(i)-\\bar{X}})^2\\right)^2}`\n",
      "\n",
      "    Where :math:`\\mu_4` is the 4\\ :sup:`th` central moment.\n",
      "\n",
      "    Kurtosis is a measure of the 'peakedness' of the distribution\n",
      "    of values in the image ROI. A higher kurtosis implies that the\n",
      "    mass of the distribution is concentrated towards the tail(s)\n",
      "    rather than towards the mean. A lower kurtosis implies the reverse:\n",
      "    that the mass of the distribution is concentrated towards a\n",
      "    spike near the Mean value.\n",
      "\n",
      "    Related links:\n",
      "\n",
      "    https://en.wikipedia.org/wiki/Kurtosis\n",
      "    \n",
      "Maximum\n",
      "\n",
      "    Calculate the Maximum Value in the image array.\n",
      "    \n",
      "MeanAbsoluteDeviation\n",
      "\n",
      "    Calculate the Mean Absolute Deviation for the image array.\n",
      "\n",
      "    :math:`mean\\ absolute\\ deviation = \\frac{1}{N}\\displaystyle\\sum^{N}_{i=1}{|\\textbf{X}(i)-\\bar{X}|}`\n",
      "\n",
      "    Mean Absolute Deviation is the mean distance of all intensity values\n",
      "    from the Mean Value of the image array.\n",
      "    \n",
      "Mean\n",
      "\n",
      "    Calculate the Mean Value for the image array.\n",
      "\n",
      "    :math:`mean = \\frac{1}{N}\\displaystyle\\sum^{N}_{i=1}{\\textbf{X}(i)}`\n",
      "    \n",
      "Median\n",
      "\n",
      "    Calculate the Median Value for the image array.\n",
      "    \n",
      "Minimum\n",
      "\n",
      "    Calculate the Minimum Value in the image array.\n",
      "    \n",
      "Range\n",
      "\n",
      "    Calculate the Range of Values in the image array.\n",
      "\n",
      "    :math:`range = \\max(\\textbf{X}) - \\min(\\textbf{X})`\n",
      "    \n",
      "RobustMeanAbsoluteDeviation\n",
      "\n",
      "    Calculate the Robust Mean Absolute Deviation for the image array.\n",
      "\n",
      "    :math:`robust\\ mean\\ absolute\\ deviation = \\frac{1}{N_{10-90}}\\displaystyle\\sum^{N_{10-90}}_{i=1}{|\\textbf{X}_{10-90}(i)-\\bar{X}_{10-90}|}`\n",
      "\n",
      "    Robust Mean Absolute Deviation is the mean distance of all intensity values\n",
      "    from the Mean Value calculated on the subset of image array with gray levels in between, or equal\n",
      "    to the 10\\ :sub:`th` and 90\\ :sub:`th` percentile.\n",
      "    \n",
      "RootMeanSquared\n",
      "\n",
      "    Calculate the Root Mean Squared of the image array.\n",
      "\n",
      "    :math:`RMS = \\sqrt{\\frac{1}{N}\\sum^{N}_{i=1}{\\textbf{X}(i)^2}}`\n",
      "\n",
      "    RMS is the square-root of the mean of all the squared\n",
      "    intensity values. It is another measure of the magnitude\n",
      "    of the image values.\n",
      "    \n",
      "Skewness\n",
      "\n",
      "    Calculate the Skewness of the image array.\n",
      "\n",
      "    :math:`skewness = \\displaystyle\\frac{\\mu_3}{\\sigma^3}\n",
      "    = \\frac{\\frac{1}{N}\\sum^{N}_{i=1}{(\\textbf{X}(i)-\\bar{X})^3}}\n",
      "    {\\left(\\sqrt{\\frac{1}{N}\\sum^{N}_{i=1}{(\\textbf{X}(i)-\\bar{X})^2}}\\right)^3}`\n",
      "\n",
      "    Where :math:`\\mu_3` is the 3\\ :sup:`rd` central moment.\n",
      "\n",
      "    Skewness measures the asymmetry of the distribution of values about the Mean value. Depending\n",
      "    on where the tail is elongated and the mass of the distribution\n",
      "    is concentrated, this value can be positive or negative.\n",
      "\n",
      "    Related links:\n",
      "\n",
      "    https://en.wikipedia.org/wiki/Skewness\n",
      "    \n",
      "StandardDeviation\n",
      "\n",
      "    Calculate the Standard Deviation of the image array.\n",
      "\n",
      "    :math:`standard\\ deviation = \\sqrt{\\frac{1}{N}\\sum^{N}_{i=1}{(\\textbf{X}(i)-\\bar{X})^2}}`\n",
      "\n",
      "    Standard Deviation measures the amount of variation\n",
      "    or dispersion from the Mean Value.\n",
      "    \n",
      "TotalEnergy\n",
      "\n",
      "    Calculate the Total Energy of the image array.\n",
      "\n",
      "    :math:`total\\ energy = V_{voxel}\\displaystyle\\sum^{N}_{i=1}{\\textbf{X}(i)^2}`\n",
      "\n",
      "    Total Energy is the value of Energy feature scaled by the volume of the voxel in cubic mm.\n",
      "    \n",
      "Uniformity\n",
      "\n",
      "    Calculate the Uniformity of the image array.\n",
      "\n",
      "    :math:`uniformity = \\displaystyle\\sum^{N_l}_{i=1}{p(i)^2}`\n",
      "\n",
      "    Uniformity is a measure of the sum of the squares of each intensity\n",
      "    value. This is a measure of the heterogeneity of the image array,\n",
      "    where a greater uniformity implies a greater heterogeneity or a\n",
      "    greater range of discrete intensity values.\n",
      "    \n",
      "Variance\n",
      "\n",
      "    Calculate the Variance in the image array.\n",
      "\n",
      "    :math:`variance = \\sigma^2 = \\frac{1}{N}\\displaystyle\\sum^{N}_{i=1}{(\\textbf{X}(i)-\\bar{X})^2}`\n",
      "\n",
      "    Variance is the the mean of the squared distances of each intensity\n",
      "    value from the Mean value. This is a measure of the spread\n",
      "    of the distribution about the mean.\n",
      "    \n"
     ]
    }
   ],
   "source": [
    "print(\"Active features:\")\n",
    "for cls, features in extractor.enabledFeatures.items():\n",
    "  if len(features) == 0:\n",
    "    features = extractor.getFeatureNames(cls)\n",
    "  for f in features:\n",
    "    print(f)\n",
    "    print(eval('extractor.featureClasses[\"%s\"].get%sFeatureValue.__doc__' % (cls, f)))"
   ]
  },
  {
   "cell_type": "markdown",
   "metadata": {},
   "source": [
    "## Calculating the values of the active features"
   ]
  },
  {
   "cell_type": "code",
   "execution_count": 8,
   "metadata": {
    "collapsed": false
   },
   "outputs": [
    {
     "name": "stdout",
     "output_type": "stream",
     "text": [
      "Calculating features\n",
      "\t\tComputing firstorder\n",
      "Computed general_info_BoundingBox: (162; 84; 11; 47; 70; 7)\n",
      "Computed general_info_GeneralSettings: {'label': 1; 'binWidth': 25; 'padDistance': 5; 'interpolator': 'sitkBSpline'; 'resampledPixelSpacing': None; 'verbose': True}\n",
      "Computed general_info_ImageHash: 5c9ce3ca174f0f8324aa4d277e0fef82dc5ac566\n",
      "Computed general_info_ImageSpacing: (0.7812499999999999; 0.7812499999999999; 6.499999999999998)\n",
      "Computed general_info_InputImages: {'Original': {}}\n",
      "Computed general_info_MaskHash: 9dc2c3137b31fd872997d92c9a92d5178126d9d3\n",
      "Computed general_info_Version: v1.0.1.post5.dev0+g72ac3cb\n",
      "Computed general_info_VolumeNum: 2\n",
      "Computed general_info_VoxelNum: 4137\n",
      "Computed original_firstorder_Median: 812.0\n",
      "Computed original_firstorder_RobustMeanAbsoluteDeviation: 103.00138343\n",
      "Computed original_firstorder_Skewness: 0.275650859086\n",
      "Computed original_firstorder_InterquartileRange: 253.0\n",
      "Computed original_firstorder_Maximum: 1266.0\n",
      "Computed original_firstorder_StandardDeviation: 156.611235894\n",
      "Computed original_firstorder_Minimum: 468.0\n",
      "Computed original_firstorder_RootMeanSquared: 2829.57282108\n",
      "Computed original_firstorder_Range: 798.0\n",
      "Computed original_firstorder_Kurtosis: 2.18077293939\n",
      "Computed original_firstorder_90Percentile: 1044.4\n",
      "Computed original_firstorder_MeanAbsoluteDeviation: 133.447261953\n",
      "Computed original_firstorder_TotalEnergy: 131407662126.0\n",
      "Computed original_firstorder_10Percentile: 632.0\n",
      "Computed original_firstorder_Mean: 825.235436307\n",
      "Computed original_firstorder_Uniformity: 0.0451569635559\n",
      "Computed original_firstorder_Energy: 33122817481.0\n",
      "Computed original_firstorder_Variance: 24527.0792084\n",
      "Computed original_firstorder_Entropy: 4.6019355539\n"
     ]
    }
   ],
   "source": [
    "print(\"Calculating features\")\n",
    "featureVector = extractor.execute(imageName, maskName)\n",
    "\n",
    "for featureName in featureVector.keys():\n",
    "  print(\"Computed %s: %s\" % (featureName, featureVector[featureName]))"
   ]
  }
 ],
 "metadata": {
  "anaconda-cloud": {},
  "kernelspec": {
   "display_name": "Python [conda root]",
   "language": "python",
   "name": "conda-root-py"
  },
  "language_info": {
   "codemirror_mode": {
    "name": "ipython",
    "version": 3
   },
   "file_extension": ".py",
   "mimetype": "text/x-python",
   "name": "python",
   "nbconvert_exporter": "python",
   "pygments_lexer": "ipython3",
   "version": "3.5.2"
  }
 },
 "nbformat": 4,
 "nbformat_minor": 0
}
