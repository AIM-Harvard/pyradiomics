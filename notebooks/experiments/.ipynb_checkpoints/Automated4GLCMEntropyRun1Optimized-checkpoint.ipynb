{
 "cells": [
  {
   "cell_type": "markdown",
   "metadata": {},
   "source": [
    "#### Import all libraries"
   ]
  },
  {
   "cell_type": "code",
   "execution_count": 3,
   "metadata": {},
   "outputs": [],
   "source": [
    "from __future__ import print_function\n",
    "import os\n",
    "import collections\n",
    "import SimpleITK as sitk\n",
    "import numpy as np\n",
    "import six\n",
    "import radiomics\n",
    "from radiomics import firstorder, glcm, imageoperations, shape, glrlm, glszm, getTestCase\n",
    "import scipy as sp\n",
    "import matplotlib as mpl\n",
    "import matplotlib.pyplot as plt\n",
    "from pathlib import Path\n",
    "import sys\n",
    "import logging as logger\n",
    "import time\n",
    "import json\n",
    "import os\n",
    "import logging.config\n",
    "import pandas as pd\n",
    "import gc"
   ]
  },
  {
   "cell_type": "code",
   "execution_count": 4,
   "metadata": {},
   "outputs": [],
   "source": [
    "#Read the entire Benthiemer sandstone\n",
    "global image_1, label_1\n",
    "filename_ben = 'investigate_bent_8bit.nrrd'\n",
    "image_1 = sitk.ReadImage('D:\\\\Ankita\\\\pyradiomics\\\\data\\\\investigate_bent_8bit.nrrd')"
   ]
  },
  {
   "cell_type": "markdown",
   "metadata": {},
   "source": [
    "#### Extraction Settings"
   ]
  },
  {
   "cell_type": "code",
   "execution_count": 5,
   "metadata": {},
   "outputs": [],
   "source": [
    "settings = {}\n",
    "settings['label'] = 255"
   ]
  },
  {
   "cell_type": "code",
   "execution_count": null,
   "metadata": {},
   "outputs": [
    {
     "name": "stdout",
     "output_type": "stream",
     "text": [
      "Expected Calculations for Window 520 . The expected of iterations is  1\n"
     ]
    }
   ],
   "source": [
    "%%time\n",
    "mask_x = 520\n",
    "mask_y = 520\n",
    "mask_z = 520\n",
    "global window_size, total_iter, expect_iter, i_loc, j_loc, z_loc, bb, correctedMask, croppedImage, croppedMask, glcm_window\n",
    "for window_size in range(520,101,-20):\n",
    "    expect_iter = (mask_x - window_size + 1)**3\n",
    "    print(\"Expected Calculations for Window\", str(window_size), \". The expected of iterations is \", str(expect_iter))        \n",
    "    glcm_window = np.zeros((expect_iter,1))\n",
    "    total_iter = 0\n",
    "    for i_loc in range(mask_x-window_size+1):\n",
    "        for j_loc in range(mask_y-window_size+1):\n",
    "            for z_loc in range(mask_z-window_size+1):           \n",
    "                full_mask = np.zeros((520, 520, 520), dtype = np.uint8)\n",
    "                full_mask[i_loc:i_loc+window_size,j_loc:j_loc+window_size,z_loc:z_loc+window_size] = 255\n",
    "\n",
    "                label_1 = sitk.GetImageFromArray(full_mask, isVector=False)\n",
    "\n",
    "                bb, correctedMask = imageoperations.checkMask(image_1, label_1, label=255)\n",
    "                if correctedMask is not None:\n",
    "                    label_1 = correctedMask\n",
    "                croppedImage, croppedMask = imageoperations.cropToTumorMask(image_1, label_1, bb)\n",
    "                del correctedMask, label_1\n",
    "\n",
    "                #calculate secondorder stats\n",
    "                glcmFeatures = glcm.RadiomicsGLCM(croppedImage, croppedMask, **settings)\n",
    "                glcmFeatures.enableFeatureByName('JointEntropy', True)\n",
    "                result = glcmFeatures.execute()\n",
    "\n",
    "                #print('Calculated GLCM features: ')\n",
    "                for (key, val) in six.iteritems(result):\n",
    "                    glcm_window[total_iter,0] = val\n",
    "                del key, val, result, glcmFeatures\n",
    "                \n",
    "                total_iter = total_iter + 1\n",
    "                print(total_iter)\n",
    "\n",
    "    my_df = pd.DataFrame(glcm_window)\n",
    "    name_csv = 'entropy_wjjindow_' + str(window_size) + '.csv'\n",
    "    my_df.to_csv(name_csv, index=False, header=False)\n",
    "    print(\"Saved glcm values of window size \", str(window_size))\n",
    "    del my_df, name_csv         \n",
    "    print(\"Completed Calculations for Window \", str(window_size), \". The number of iterations is \", str(total_iter))"
   ]
  },
  {
   "cell_type": "code",
   "execution_count": 5,
   "metadata": {},
   "outputs": [
    {
     "data": {
      "text/plain": [
       "Text(0.5, 1.0, 'ROI #1')"
      ]
     },
     "execution_count": 5,
     "metadata": {},
     "output_type": "execute_result"
    },
    {
     "data": {
      "image/png": "[encoded data removed]",
      "text/plain": [
       "<Figure size 1440x1440 with 2 Axes>"
      ]
     },
     "metadata": {
      "needs_background": "light"
     },
     "output_type": "display_data"
    }
   ],
   "source": [
    "#display the ROI\n",
    "plt.figure(figsize=(20,20))\n",
    "# First image\n",
    "plt.subplot(2,2,1)\n",
    "plt.imshow(sitk.GetArrayFromImage(croppedImage)[12,:,:], cmap=\"gray\")\n",
    "plt.title(\"Bentheimer #1\")\n",
    "plt.subplot(2,2,2)\n",
    "plt.imshow(sitk.GetArrayFromImage(croppedMask)[12,:,:])        \n",
    "plt.title(\"ROI #1\")"
   ]
  },
  {
   "cell_type": "code",
   "execution_count": null,
   "metadata": {},
   "outputs": [],
   "source": []
  }
 ],
 "metadata": {
  "kernelspec": {
   "display_name": "Python 3",
   "language": "python",
   "name": "python3"
  },
  "language_info": {
   "codemirror_mode": {
    "name": "ipython",
    "version": 3
   },
   "file_extension": ".py",
   "mimetype": "text/x-python",
   "name": "python",
   "nbconvert_exporter": "python",
   "pygments_lexer": "ipython3",
   "version": "3.6.8"
  }
 },
 "nbformat": 4,
 "nbformat_minor": 2
}
