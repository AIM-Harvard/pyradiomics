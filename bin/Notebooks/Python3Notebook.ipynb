{
 "cells": [
  {
   "cell_type": "code",
   "execution_count": 1,
   "metadata": {
    "collapsed": true
   },
   "outputs": [],
   "source": [
    "from __future__ import print_function, unicode_literals, division, absolute_import\n",
    "import matplotlib.pyplot as plt\n",
    "import SimpleITK as sitk\n",
    "import numpy as np\n",
    "import pandas as pd"
   ]
  },
  {
   "cell_type": "code",
   "execution_count": 2,
   "metadata": {
    "collapsed": true
   },
   "outputs": [],
   "source": [
    "import radiomics as pyrad\n",
    "from radiomics.featureextractor import RadiomicsFeaturesExtractor"
   ]
  },
  {
   "cell_type": "markdown",
   "metadata": {},
   "source": [
    "# Make Test Image and Mask\n",
    "Here we make test images (a simple trianglular mask and a uniform progression)"
   ]
  },
  {
   "cell_type": "code",
   "execution_count": 3,
   "metadata": {
    "collapsed": false
   },
   "outputs": [],
   "source": [
    "test_mask_arr = np.stack(32*[np.eye(32)],0).astype(int)\n",
    "test_img_arr = np.linspace(0,100, num = np.prod(test_mask_arr.shape)).reshape(test_mask_arr.shape)\n",
    "test_mask = sitk.GetImageFromArray(test_mask_arr)\n",
    "test_img = sitk.GetImageFromArray(test_img_arr)"
   ]
  },
  {
   "cell_type": "code",
   "execution_count": 4,
   "metadata": {
    "collapsed": false
   },
   "outputs": [
    {
     "data": {
      "text/plain": [
       "<matplotlib.image.AxesImage at 0x9752ef0>"
      ]
     },
     "execution_count": 4,
     "metadata": {},
     "output_type": "execute_result"
    },
    {
     "data": {
      "image/png": "[encoded data removed]",
      "text/plain": [
       "<matplotlib.figure.Figure at 0x96b3588>"
      ]
     },
     "metadata": {},
     "output_type": "display_data"
    }
   ],
   "source": [
    "%matplotlib inline\n",
    "fig, (ax1, ax2) = plt.subplots(1,2, figsize = (8, 4))\n",
    "ax1.imshow(test_mask_arr[0], cmap = 'bone')\n",
    "ax2.imshow(test_img_arr[0], cmap = 'RdBu')"
   ]
  },
  {
   "cell_type": "markdown",
   "metadata": {},
   "source": [
    "# Extract simple stats\n",
    "Here is just the simple statistics for testing"
   ]
  },
  {
   "cell_type": "code",
   "execution_count": 5,
   "metadata": {
    "collapsed": false
   },
   "outputs": [
    {
     "name": "stdout",
     "output_type": "stream",
     "text": [
      "\t\tComputing firstorder\n"
     ]
    },
    {
     "data": {
      "text/html": [
       "<div>\n",
       "<table border=\"1\" class=\"dataframe\">\n",
       "  <thead>\n",
       "    <tr style=\"text-align: right;\">\n",
       "      <th></th>\n",
       "      <th>general_info_BoundingBox</th>\n",
       "      <th>general_info_GeneralSettings</th>\n",
       "      <th>general_info_ImageHash</th>\n",
       "      <th>general_info_ImageSpacing</th>\n",
       "      <th>general_info_InputImages</th>\n",
       "      <th>general_info_MaskHash</th>\n",
       "      <th>general_info_Version</th>\n",
       "      <th>general_info_VolumeNum</th>\n",
       "      <th>general_info_VoxelNum</th>\n",
       "      <th>original_firstorder_Uniformity</th>\n",
       "      <th>...</th>\n",
       "      <th>original_firstorder_Variance</th>\n",
       "      <th>original_firstorder_RootMeanSquared</th>\n",
       "      <th>original_firstorder_InterquartileRange</th>\n",
       "      <th>original_firstorder_MeanAbsoluteDeviation</th>\n",
       "      <th>original_firstorder_RobustMeanAbsoluteDeviation</th>\n",
       "      <th>original_firstorder_Energy</th>\n",
       "      <th>original_firstorder_Skewness</th>\n",
       "      <th>original_firstorder_Maximum</th>\n",
       "      <th>original_firstorder_StandardDeviation</th>\n",
       "      <th>original_firstorder_TotalEnergy</th>\n",
       "    </tr>\n",
       "  </thead>\n",
       "  <tbody>\n",
       "    <tr>\n",
       "      <th>0</th>\n",
       "      <td>(0; 0; 0; 32; 32; 32)</td>\n",
       "      <td>{'padDistance': 5; 'verbose': True; 'interpola...</td>\n",
       "      <td>dd1063b4904affacbcfa769510e55d35690f6961</td>\n",
       "      <td>(1.0; 1.0; 1.0)</td>\n",
       "      <td>{'Original': {}}</td>\n",
       "      <td>1daf886d07071ceba6a23f52cdcb6460dc91c19a</td>\n",
       "      <td>v1.0.1.post6.dev0+g5b1e8bb</td>\n",
       "      <td>1</td>\n",
       "      <td>1024</td>\n",
       "      <td>0.25</td>\n",
       "      <td>...</td>\n",
       "      <td>833.435014</td>\n",
       "      <td>2050.203267</td>\n",
       "      <td>50.0</td>\n",
       "      <td>25.000763</td>\n",
       "      <td>19.97066</td>\n",
       "      <td>4.304213e+09</td>\n",
       "      <td>0.0</td>\n",
       "      <td>100.0</td>\n",
       "      <td>28.869275</td>\n",
       "      <td>4.304213e+09</td>\n",
       "    </tr>\n",
       "  </tbody>\n",
       "</table>\n",
       "<p>1 rows × 28 columns</p>\n",
       "</div>"
      ],
      "text/plain": [
       "  general_info_BoundingBox                       general_info_GeneralSettings  \\\n",
       "0    (0; 0; 0; 32; 32; 32)  {'padDistance': 5; 'verbose': True; 'interpola...   \n",
       "\n",
       "                     general_info_ImageHash general_info_ImageSpacing  \\\n",
       "0  dd1063b4904affacbcfa769510e55d35690f6961           (1.0; 1.0; 1.0)   \n",
       "\n",
       "  general_info_InputImages                     general_info_MaskHash  \\\n",
       "0         {'Original': {}}  1daf886d07071ceba6a23f52cdcb6460dc91c19a   \n",
       "\n",
       "         general_info_Version general_info_VolumeNum general_info_VoxelNum  \\\n",
       "0  v1.0.1.post6.dev0+g5b1e8bb                      1                  1024   \n",
       "\n",
       "   original_firstorder_Uniformity               ...                 \\\n",
       "0                            0.25               ...                  \n",
       "\n",
       "   original_firstorder_Variance  original_firstorder_RootMeanSquared  \\\n",
       "0                    833.435014                          2050.203267   \n",
       "\n",
       "   original_firstorder_InterquartileRange  \\\n",
       "0                                    50.0   \n",
       "\n",
       "   original_firstorder_MeanAbsoluteDeviation  \\\n",
       "0                                  25.000763   \n",
       "\n",
       "   original_firstorder_RobustMeanAbsoluteDeviation  \\\n",
       "0                                         19.97066   \n",
       "\n",
       "   original_firstorder_Energy  original_firstorder_Skewness  \\\n",
       "0                4.304213e+09                           0.0   \n",
       "\n",
       "   original_firstorder_Maximum  original_firstorder_StandardDeviation  \\\n",
       "0                        100.0                              28.869275   \n",
       "\n",
       "   original_firstorder_TotalEnergy  \n",
       "0                     4.304213e+09  \n",
       "\n",
       "[1 rows x 28 columns]"
      ]
     },
     "execution_count": 5,
     "metadata": {},
     "output_type": "execute_result"
    }
   ],
   "source": [
    "extractor = RadiomicsFeaturesExtractor( verbose = True)\n",
    "extractor.disableAllFeatures()\n",
    "extractor.enableFeaturesByName(firstorder = [])\n",
    "out_dict = extractor.execute(test_img, test_mask)\n",
    "pd.DataFrame([out_dict])"
   ]
  },
  {
   "cell_type": "markdown",
   "metadata": {},
   "source": [
    "# Run using everything\n",
    "Here we run the extractor with everything, which causes a few issues but returns over 100 columns worth of radiomics features!"
   ]
  },
  {
   "cell_type": "code",
   "execution_count": 6,
   "metadata": {
    "collapsed": false
   },
   "outputs": [
    {
     "name": "stdout",
     "output_type": "stream",
     "text": [
      "\t\tComputing shape\n",
      "\t\tComputing firstorder\n"
     ]
    },
    {
     "name": "stderr",
     "output_type": "stream",
     "text": [
      "calculate GLCM: 100%|███████████████████████████████████████████████████████████████████| 4/4 [00:00<00:00, 222.22it/s]\n"
     ]
    },
    {
     "name": "stdout",
     "output_type": "stream",
     "text": [
      "\t\tComputing glcm\n"
     ]
    },
    {
     "name": "stderr",
     "output_type": "stream",
     "text": [
      "calculate GLSZM: 100%|███████████████████████████████████████████████████████████████████| 4/4 [00:00<00:00, 48.78it/s]\n"
     ]
    },
    {
     "name": "stdout",
     "output_type": "stream",
     "text": [
      "\t\tComputing glszm\n",
      "\t\tComputing glrlm\n"
     ]
    },
    {
     "data": {
      "text/html": [
       "<div>\n",
       "<table border=\"1\" class=\"dataframe\">\n",
       "  <thead>\n",
       "    <tr style=\"text-align: right;\">\n",
       "      <th></th>\n",
       "      <th>general_info_BoundingBox</th>\n",
       "      <th>general_info_GeneralSettings</th>\n",
       "      <th>general_info_ImageHash</th>\n",
       "      <th>general_info_ImageSpacing</th>\n",
       "      <th>general_info_InputImages</th>\n",
       "      <th>general_info_MaskHash</th>\n",
       "      <th>general_info_Version</th>\n",
       "      <th>general_info_VolumeNum</th>\n",
       "      <th>general_info_VoxelNum</th>\n",
       "      <th>original_shape_Maximum2DDiameterColumn</th>\n",
       "      <th>...</th>\n",
       "      <th>original_glrlm_HighGrayLevelRunEmphasis</th>\n",
       "      <th>original_glrlm_GrayLevelNonUniformity</th>\n",
       "      <th>original_glrlm_LongRunHighGrayLevelEmphasis</th>\n",
       "      <th>original_glrlm_LongRunEmphasis</th>\n",
       "      <th>original_glrlm_GrayLevelNonUniformityNormalized</th>\n",
       "      <th>original_glrlm_ShortRunLowGrayLevelEmphasis</th>\n",
       "      <th>original_glrlm_RunVariance</th>\n",
       "      <th>original_glrlm_RunPercentage</th>\n",
       "      <th>original_glrlm_ShortRunHighGrayLevelEmphasis</th>\n",
       "      <th>original_glrlm_ShortRunEmphasis</th>\n",
       "    </tr>\n",
       "  </thead>\n",
       "  <tbody>\n",
       "    <tr>\n",
       "      <th>0</th>\n",
       "      <td>(0; 0; 0; 32; 32; 32)</td>\n",
       "      <td>{'padDistance': 5; 'verbose': True; 'interpola...</td>\n",
       "      <td>dd1063b4904affacbcfa769510e55d35690f6961</td>\n",
       "      <td>(1.0; 1.0; 1.0)</td>\n",
       "      <td>{'Original': {}}</td>\n",
       "      <td>1daf886d07071ceba6a23f52cdcb6460dc91c19a</td>\n",
       "      <td>v1.0.1.post6.dev0+g5b1e8bb</td>\n",
       "      <td>1</td>\n",
       "      <td>1024</td>\n",
       "      <td>31.0</td>\n",
       "      <td>...</td>\n",
       "      <td>7.497225</td>\n",
       "      <td>28.953289</td>\n",
       "      <td>2276.534562</td>\n",
       "      <td>296.399351</td>\n",
       "      <td>0.250258</td>\n",
       "      <td>0.016999</td>\n",
       "      <td>2.421762</td>\n",
       "      <td>0.113037</td>\n",
       "      <td>0.298798</td>\n",
       "      <td>0.044432</td>\n",
       "    </tr>\n",
       "  </tbody>\n",
       "</table>\n",
       "<p>1 rows × 102 columns</p>\n",
       "</div>"
      ],
      "text/plain": [
       "  general_info_BoundingBox                       general_info_GeneralSettings  \\\n",
       "0    (0; 0; 0; 32; 32; 32)  {'padDistance': 5; 'verbose': True; 'interpola...   \n",
       "\n",
       "                     general_info_ImageHash general_info_ImageSpacing  \\\n",
       "0  dd1063b4904affacbcfa769510e55d35690f6961           (1.0; 1.0; 1.0)   \n",
       "\n",
       "  general_info_InputImages                     general_info_MaskHash  \\\n",
       "0         {'Original': {}}  1daf886d07071ceba6a23f52cdcb6460dc91c19a   \n",
       "\n",
       "         general_info_Version general_info_VolumeNum general_info_VoxelNum  \\\n",
       "0  v1.0.1.post6.dev0+g5b1e8bb                      1                  1024   \n",
       "\n",
       "   original_shape_Maximum2DDiameterColumn               ...                 \\\n",
       "0                                    31.0               ...                  \n",
       "\n",
       "   original_glrlm_HighGrayLevelRunEmphasis  \\\n",
       "0                                 7.497225   \n",
       "\n",
       "   original_glrlm_GrayLevelNonUniformity  \\\n",
       "0                              28.953289   \n",
       "\n",
       "   original_glrlm_LongRunHighGrayLevelEmphasis  \\\n",
       "0                                  2276.534562   \n",
       "\n",
       "   original_glrlm_LongRunEmphasis  \\\n",
       "0                      296.399351   \n",
       "\n",
       "   original_glrlm_GrayLevelNonUniformityNormalized  \\\n",
       "0                                         0.250258   \n",
       "\n",
       "   original_glrlm_ShortRunLowGrayLevelEmphasis  original_glrlm_RunVariance  \\\n",
       "0                                     0.016999                    2.421762   \n",
       "\n",
       "   original_glrlm_RunPercentage  original_glrlm_ShortRunHighGrayLevelEmphasis  \\\n",
       "0                      0.113037                                      0.298798   \n",
       "\n",
       "   original_glrlm_ShortRunEmphasis  \n",
       "0                         0.044432  \n",
       "\n",
       "[1 rows x 102 columns]"
      ]
     },
     "execution_count": 6,
     "metadata": {},
     "output_type": "execute_result"
    }
   ],
   "source": [
    "extractor = RadiomicsFeaturesExtractor(verbose = True)\n",
    "extractor.enableAllFeatures()\n",
    "out_dict = extractor.execute(test_img, test_mask)\n",
    "pd.DataFrame([out_dict])"
   ]
  },
  {
   "cell_type": "code",
   "execution_count": 7,
   "metadata": {
    "collapsed": false
   },
   "outputs": [
    {
     "name": "stdout",
     "output_type": "stream",
     "text": [
      "Calculating firstorder features\n",
      "Calculating glcm features\n",
      "Calculating glszm features\n",
      "Calculating shape features\n",
      "Calculating glrlm features\n"
     ]
    }
   ],
   "source": [
    "\n",
    "for c_name in extractor.getFeatureClassNames():\n",
    "    print('Calculating {} features'.format(c_name))\n",
    "    featureClass = extractor.featureClasses[c_name](test_img, test_mask)"
   ]
  }
 ],
 "metadata": {
  "anaconda-cloud": {},
  "kernelspec": {
   "display_name": "Python 3",
   "language": "python",
   "name": "python3"
  },
  "language_info": {
   "codemirror_mode": {
    "name": "ipython",
    "version": 3
   },
   "file_extension": ".py",
   "mimetype": "text/x-python",
   "name": "python",
   "nbconvert_exporter": "python",
   "pygments_lexer": "ipython3",
   "version": "3.5.2"
  }
 },
 "nbformat": 4,
 "nbformat_minor": 1
}
