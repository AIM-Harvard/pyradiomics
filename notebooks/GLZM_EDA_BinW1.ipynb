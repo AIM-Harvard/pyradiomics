{
 "cells": [
  {
   "cell_type": "markdown",
   "metadata": {},
   "source": [
    "#### Import all libraries"
   ]
  },
  {
   "cell_type": "code",
   "execution_count": 1,
   "metadata": {},
   "outputs": [],
   "source": [
    "from __future__ import print_function\n",
    "import os\n",
    "import collections\n",
    "import SimpleITK as sitk\n",
    "import numpy as np\n",
    "import six\n",
    "import radiomics\n",
    "from radiomics import firstorder, glcm, imageoperations, shape, glrlm, glszm, getTestCase\n",
    "import scipy as sp\n",
    "import matplotlib as mpl\n",
    "import matplotlib.pyplot as plt\n",
    "from pathlib import Path\n",
    "import sys\n",
    "import logging as logger\n",
    "import time\n",
    "import json\n",
    "import os\n",
    "import logging.config\n",
    "import pandas as pd\n",
    "import gc\n",
    "import math"
   ]
  },
  {
   "cell_type": "code",
   "execution_count": 2,
   "metadata": {},
   "outputs": [],
   "source": [
    "from IPython.core.interactiveshell import InteractiveShell\n",
    "InteractiveShell.ast_node_interactivity = \"all\""
   ]
  },
  {
   "cell_type": "code",
   "execution_count": 3,
   "metadata": {},
   "outputs": [],
   "source": [
    "#Read the entire Benthiemer sandstone\n",
    "global image_1, label_1\n",
    "#change the path to the correct directory before running the code\n",
    "# please note: the dimensions of the image is 800 x 800 x 800\n",
    "image_1 = sitk.ReadImage('D:\\\\Ankita PhD\\\\pyradiomics\\\\data\\\\sandpack_nrrd_16bit_800cube.nrrd')"
   ]
  },
  {
   "cell_type": "markdown",
   "metadata": {},
   "source": [
    "#### Extraction Settings"
   ]
  },
  {
   "cell_type": "code",
   "execution_count": 4,
   "metadata": {},
   "outputs": [],
   "source": [
    "settings = {}\n",
    "settings['label'] = 255\n",
    "settings['binWidth'] = 3\n",
    "settings['padDistance'] = 0\n",
    "settings['distances'] = [1]"
   ]
  },
  {
   "cell_type": "markdown",
   "metadata": {},
   "source": [
    "#### Log messages"
   ]
  },
  {
   "cell_type": "code",
   "execution_count": 5,
   "metadata": {},
   "outputs": [],
   "source": [
    "log_file = 'D:\\\\Ankita PhD\\\\pyradiomics\\\\log_messages\\\\log_sandpack_16bit_b3_w3.txt'\n",
    "handler = logging.FileHandler(filename=log_file, mode='w')  # overwrites log_files from previous runs. Change mode to 'a' to append.\n",
    "formatter = logging.Formatter(\"%(levelname)s:%(name)s: %(message)s\")  # format string for log messages\n",
    "handler.setFormatter(formatter)\n",
    "radiomics.logger.addHandler(handler)\n",
    "\n",
    "# Control the amount of logging stored by setting the level of the logger. N.B. if the level is higher than the\n",
    "# Verbositiy level, the logger level will also determine the amount of information printed to the output\n",
    "radiomics.logger.setLevel(logging.DEBUG)"
   ]
  },
  {
   "cell_type": "code",
   "execution_count": 6,
   "metadata": {
    "scrolled": true
   },
   "outputs": [
    {
     "name": "stdout",
     "output_type": "stream",
     "text": [
      "Calculating GLSZM features...\n",
      "done\n",
      "Calculated GLSZM features: \n",
      "Completed Domain Calculations for Window  3\n",
      "Wall time: 9.46 s\n"
     ]
    }
   ],
   "source": [
    "%%time\n",
    "# the size of the mask should be the same as that of the image\n",
    "mask_x = 800\n",
    "mask_y = 800\n",
    "mask_z = 800\n",
    "\n",
    "v1 = []\n",
    "v2 = []\n",
    "v3 = []\n",
    "v4 = []\n",
    "v5 = []\n",
    "v6 = []\n",
    "v7 = []\n",
    "v8 = []\n",
    "v9 = []\n",
    "v10 = []\n",
    "v11 = []\n",
    "v12 = []\n",
    "v13 = []\n",
    "v14 = []\n",
    "v15 = []\n",
    "v16 = []\n",
    "\n",
    "# here the window_size refers to the region of mask that will be used to segment the ROI from the image. The window\n",
    "# sizes increase with every iteration\n",
    "u_window_size = [3] #10, 20, 30, 40, 50, 60, 100, 150, 200, 250, 300, 350, 400, 450, 500, 550, 600, 650, 700, 750, 800]\n",
    "global window_size, total_iter, expect_iter, i_loc, j_loc, z_loc, bb, correctedMask, croppedImage, croppedMask, glcm_window\n",
    "for window_size in u_window_size:  \n",
    "    \n",
    "    i_loc = int((mask_x - window_size)/2)\n",
    "    j_loc = int((mask_y - window_size)/2)\n",
    "    k_loc = int((mask_z - window_size)/2)\n",
    "    \n",
    "    # Generate the mask\n",
    "    full_mask = np.zeros((mask_x, mask_y, mask_z), dtype = np.uint8)\n",
    "    full_mask[i_loc:i_loc+window_size,j_loc:j_loc+window_size,k_loc:k_loc+window_size] = 255\n",
    "    #print(\"Window Location\", str(i_loc), str(i_loc+window_size), str(j_loc), str(j_loc+window_size), str(k_loc), str(k_loc+window_size))\n",
    "    label_1 = sitk.GetImageFromArray(full_mask, isVector=False)\n",
    "    del full_mask\n",
    "\n",
    "    bb, correctedMask = imageoperations.checkMask(image_1, label_1, label=255)\n",
    "    if correctedMask is not None:\n",
    "        label_1 = correctedMask\n",
    "    croppedImage, croppedMask = imageoperations.cropToTumorMask(image_1, label_1, bb)\n",
    "    del correctedMask, label_1\n",
    "\n",
    "    #calculate secondorder stats\n",
    "    glszmFeatures = glszm.RadiomicsGLSZM(croppedImage, croppedMask, **settings)\n",
    "    glszmFeatures.enableAllFeatures()\n",
    "    print('Calculating GLSZM features...',)\n",
    "    result = glszmFeatures.execute()\n",
    "    print('done')\n",
    "\n",
    "    print('Calculated GLSZM features: ')\n",
    "    for (key, val) in six.iteritems(result):\n",
    "        if key =='GrayLevelNonUniformity':\n",
    "            v1.append(val)\n",
    "        if key =='GrayLevelNonUniformityNormalized':\n",
    "            v2.append(val)\n",
    "        if key =='GrayLevelVariance':\n",
    "            v3.append(val)\n",
    "        if key =='HighGrayLevelZoneEmphasis':\n",
    "            v4.append(val)\n",
    "        if key == 'LargeAreaEmphasis':\n",
    "            v5.append(val)\n",
    "        if key == 'LargeAreaHighGrayLevelEmphasis':\n",
    "            v6.append(val)\n",
    "        if key == 'LargeAreaLowGrayLevelEmphasis':\n",
    "            v7.append(val)\n",
    "        if key == 'LowGrayLevelZoneEmphasis':\n",
    "            v8.append(val) \n",
    "        if key == 'SizeZoneNonUniformity':\n",
    "            v9.append(val)\n",
    "        if key == 'SizeZoneNonUniformityNormalized':\n",
    "            v10.append(val)\n",
    "        if key == 'SmallAreaEmphasis':\n",
    "            v11.append(val)\n",
    "        if key == 'SmallAreaHighGrayLevelEmphasis':\n",
    "            v12.append(val)\n",
    "        if key == 'SmallAreaLowGrayLevelEmphasis':\n",
    "            v13.append(val)\n",
    "        if key == 'ZoneEntropy':\n",
    "            v14.append(val)\n",
    "        if key == 'ZonePercentage':\n",
    "            v15.append(val)\n",
    "        if key == 'ZoneVariance':\n",
    "            v16.append(val)\n",
    "\n",
    "    print(\"Completed Domain Calculations for Window \", str(window_size))"
   ]
  },
  {
   "cell_type": "code",
   "execution_count": 7,
   "metadata": {},
   "outputs": [
    {
     "data": {
      "text/plain": [
       "array([[[11458, 11339, 11237],\n",
       "        [11547, 11439, 11308],\n",
       "        [11597, 11594, 11503]],\n",
       "\n",
       "       [[11423, 11359, 11287],\n",
       "        [11480, 11487, 11403],\n",
       "        [11530, 11611, 11469]],\n",
       "\n",
       "       [[11427, 11439, 11339],\n",
       "        [11389, 11529, 11505],\n",
       "        [11345, 11539, 11533]]], dtype=uint16)"
      ]
     },
     "execution_count": 7,
     "metadata": {},
     "output_type": "execute_result"
    }
   ],
   "source": [
    "im_exp = sitk.GetArrayFromImage(croppedImage)\n",
    "im_exp"
   ]
  },
  {
   "cell_type": "code",
   "execution_count": 8,
   "metadata": {},
   "outputs": [
    {
     "data": {
      "text/plain": [
       "array([[[1., 0.],\n",
       "        [1., 0.],\n",
       "        [1., 0.],\n",
       "        [2., 0.],\n",
       "        [1., 0.],\n",
       "        [1., 0.],\n",
       "        [1., 0.],\n",
       "        [1., 0.],\n",
       "        [1., 0.],\n",
       "        [1., 0.],\n",
       "        [2., 0.],\n",
       "        [1., 0.],\n",
       "        [1., 0.],\n",
       "        [1., 0.],\n",
       "        [1., 0.],\n",
       "        [1., 0.],\n",
       "        [1., 0.],\n",
       "        [0., 1.],\n",
       "        [1., 0.],\n",
       "        [1., 0.],\n",
       "        [1., 0.],\n",
       "        [1., 0.],\n",
       "        [1., 0.],\n",
       "        [1., 0.]]])"
      ]
     },
     "execution_count": 8,
     "metadata": {},
     "output_type": "execute_result"
    }
   ],
   "source": [
    "glszm_3 = glszmFeatures.P_glszm\n",
    "glszm_3"
   ]
  },
  {
   "cell_type": "code",
   "execution_count": 9,
   "metadata": {},
   "outputs": [
    {
     "data": {
      "text/plain": [
       "(1, 24, 2)"
      ]
     },
     "execution_count": 9,
     "metadata": {},
     "output_type": "execute_result"
    }
   ],
   "source": [
    "glszm_3.shape"
   ]
  },
  {
   "cell_type": "code",
   "execution_count": 10,
   "metadata": {},
   "outputs": [
    {
     "data": {
      "text/plain": [
       "numpy.ndarray"
      ]
     },
     "execution_count": 10,
     "metadata": {},
     "output_type": "execute_result"
    }
   ],
   "source": [
    "type(glszm_3)"
   ]
  },
  {
   "cell_type": "code",
   "execution_count": 11,
   "metadata": {},
   "outputs": [
    {
     "data": {
      "text/plain": [
       "array([  1,  18,  25,  35,  37,  42,  52,  57,  63,  65,  69,  75,  79,\n",
       "        82,  85,  90,  91,  99, 100, 102, 105, 120, 121, 126],\n",
       "      dtype=uint16)"
      ]
     },
     "execution_count": 11,
     "metadata": {},
     "output_type": "execute_result"
    }
   ],
   "source": [
    "#The graylevels in ROI after discretization\n",
    "graylevels = glszmFeatures.coefficients['grayLevels']\n",
    "graylevels"
   ]
  },
  {
   "cell_type": "code",
   "execution_count": 12,
   "metadata": {},
   "outputs": [
    {
     "data": {
      "text/plain": [
       "array([[25.,  1.]])"
      ]
     },
     "execution_count": 12,
     "metadata": {},
     "output_type": "execute_result"
    }
   ],
   "source": [
    "# sum of all the size zones for all the graylevels of a particular size zones\n",
    "# for every column of GLSZM, add all the rows\n",
    "pss = glszmFeatures.coefficients['ps']\n",
    "pss"
   ]
  },
  {
   "cell_type": "code",
   "execution_count": 13,
   "metadata": {},
   "outputs": [
    {
     "data": {
      "text/plain": [
       "array([27.])"
      ]
     },
     "execution_count": 13,
     "metadata": {},
     "output_type": "execute_result"
    }
   ],
   "source": [
    "#Np is the number of voxels in the image\n",
    "Npp = glszmFeatures.coefficients['Np']\n",
    "Npp"
   ]
  },
  {
   "cell_type": "code",
   "execution_count": 14,
   "metadata": {},
   "outputs": [
    {
     "data": {
      "text/plain": [
       "array([26.])"
      ]
     },
     "execution_count": 14,
     "metadata": {},
     "output_type": "execute_result"
    }
   ],
   "source": [
    "#The total number of size zones in the GLSZM (add all the elements of P_glszm)\n",
    "Nzz = glszmFeatures.coefficients['Nz']\n",
    "Nzz"
   ]
  },
  {
   "cell_type": "code",
   "execution_count": 15,
   "metadata": {},
   "outputs": [
    {
     "data": {
      "text/plain": [
       "126"
      ]
     },
     "execution_count": 15,
     "metadata": {},
     "output_type": "execute_result"
    }
   ],
   "source": [
    "#Number of all possible discreet intensity values in the image: This incluedes  NgVector = range(1, Ng + 1) i.e.\n",
    "#all the missing grayvalues as well. Later the missing grayvalues are excluded. \n",
    "Ngg = glszmFeatures.coefficients['Ng']\n",
    "Ngg"
   ]
  },
  {
   "cell_type": "code",
   "execution_count": 16,
   "metadata": {},
   "outputs": [
    {
     "data": {
      "text/plain": [
       "array([[1., 1., 1., 2., 1., 1., 1., 1., 1., 1., 2., 1., 1., 1., 1., 1.,\n",
       "        1., 1., 1., 1., 1., 1., 1., 1.]])"
      ]
     },
     "execution_count": 16,
     "metadata": {},
     "output_type": "execute_result"
    }
   ],
   "source": [
    "#sum all the size zones for a particular graylevel\n",
    "#for every row of GLSZM add the columns\n",
    "pgg = glszmFeatures.coefficients['pg']\n",
    "pgg"
   ]
  },
  {
   "cell_type": "code",
   "execution_count": 17,
   "metadata": {},
   "outputs": [
    {
     "data": {
      "text/plain": [
       "array([  1.,  18.,  25.,  35.,  37.,  42.,  52.,  57.,  63.,  65.,  69.,\n",
       "        75.,  79.,  82.,  85.,  90.,  91.,  99., 100., 102., 105., 120.,\n",
       "       121., 126.])"
      ]
     },
     "execution_count": 17,
     "metadata": {},
     "output_type": "execute_result"
    }
   ],
   "source": [
    "ivv = glszmFeatures.coefficients['ivector']\n",
    "ivv"
   ]
  },
  {
   "cell_type": "code",
   "execution_count": 18,
   "metadata": {},
   "outputs": [
    {
     "data": {
      "text/plain": [
       "array([1., 2.])"
      ]
     },
     "execution_count": 18,
     "metadata": {},
     "output_type": "execute_result"
    }
   ],
   "source": [
    "jvv = glszmFeatures.coefficients['jvector']\n",
    "jvv"
   ]
  },
  {
   "cell_type": "code",
   "execution_count": 19,
   "metadata": {},
   "outputs": [],
   "source": [
    "img = np.array([[[155,  33, 129],\n",
    "        [161, 218,   6]],\n",
    "\n",
    "       [[215, 142, 235],\n",
    "        [143, 249, 164]],\n",
    "\n",
    "       [[221,  71, 229],\n",
    "        [ 56,  91, 120]],\n",
    "\n",
    "       [[236,   4, 177],\n",
    "        [171, 105,  40]]])"
   ]
  },
  {
   "cell_type": "code",
   "execution_count": 20,
   "metadata": {},
   "outputs": [
    {
     "data": {
      "text/plain": [
       "numpy.ndarray"
      ]
     },
     "execution_count": 20,
     "metadata": {},
     "output_type": "execute_result"
    }
   ],
   "source": [
    "type(img)"
   ]
  },
  {
   "cell_type": "code",
   "execution_count": 21,
   "metadata": {},
   "outputs": [
    {
     "data": {
      "text/plain": [
       "(4, 2, 3)"
      ]
     },
     "execution_count": 21,
     "metadata": {},
     "output_type": "execute_result"
    }
   ],
   "source": [
    "img.shape"
   ]
  },
  {
   "cell_type": "code",
   "execution_count": 22,
   "metadata": {},
   "outputs": [
    {
     "data": {
      "text/plain": [
       "array([[[155, 161],\n",
       "        [215, 143],\n",
       "        [221,  56],\n",
       "        [236, 171]],\n",
       "\n",
       "       [[ 33, 218],\n",
       "        [142, 249],\n",
       "        [ 71,  91],\n",
       "        [  4, 105]],\n",
       "\n",
       "       [[129,   6],\n",
       "        [235, 164],\n",
       "        [229, 120],\n",
       "        [177,  40]]])"
      ]
     },
     "execution_count": 22,
     "metadata": {},
     "output_type": "execute_result"
    }
   ],
   "source": [
    "img_1 = img.transpose(2,0,1)\n",
    "img_1"
   ]
  },
  {
   "cell_type": "code",
   "execution_count": 23,
   "metadata": {},
   "outputs": [
    {
     "data": {
      "text/plain": [
       "array([[155, 161, 215, 143, 221,  56, 236, 171],\n",
       "       [ 33, 218, 142, 249,  71,  91,   4, 105],\n",
       "       [129,   6, 235, 164, 229, 120, 177,  40]])"
      ]
     },
     "execution_count": 23,
     "metadata": {},
     "output_type": "execute_result"
    }
   ],
   "source": [
    "img_2 = img_1.reshape(3,-1)\n",
    "img_2"
   ]
  },
  {
   "cell_type": "code",
   "execution_count": 24,
   "metadata": {},
   "outputs": [
    {
     "data": {
      "text/plain": [
       "11"
      ]
     },
     "execution_count": 24,
     "metadata": {},
     "output_type": "execute_result"
    }
   ],
   "source": [
    "11611%25"
   ]
  },
  {
   "cell_type": "code",
   "execution_count": 25,
   "metadata": {},
   "outputs": [
    {
     "data": {
      "text/plain": [
       "12"
      ]
     },
     "execution_count": 25,
     "metadata": {},
     "output_type": "execute_result"
    }
   ],
   "source": [
    "11237%25"
   ]
  },
  {
   "cell_type": "code",
   "execution_count": null,
   "metadata": {},
   "outputs": [],
   "source": []
  }
 ],
 "metadata": {
  "kernelspec": {
   "display_name": "Pyratomo",
   "language": "python",
   "name": "pyratomo"
  },
  "language_info": {
   "codemirror_mode": {
    "name": "ipython",
    "version": 3
   },
   "file_extension": ".py",
   "mimetype": "text/x-python",
   "name": "python",
   "nbconvert_exporter": "python",
   "pygments_lexer": "ipython3",
   "version": "3.6.8"
  }
 },
 "nbformat": 4,
 "nbformat_minor": 2
}
