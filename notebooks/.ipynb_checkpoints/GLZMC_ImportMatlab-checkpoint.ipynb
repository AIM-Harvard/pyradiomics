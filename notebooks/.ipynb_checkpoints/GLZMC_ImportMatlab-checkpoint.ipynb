{
 "cells": [
  {
   "cell_type": "markdown",
   "metadata": {},
   "source": [
    "#### Import all libraries"
   ]
  },
  {
   "cell_type": "code",
   "execution_count": 1,
   "metadata": {},
   "outputs": [],
   "source": [
    "from __future__ import print_function\n",
    "import os\n",
    "import collections\n",
    "import SimpleITK as sitk\n",
    "import numpy as np\n",
    "import six\n",
    "import radiomics\n",
    "from radiomics import firstorder, glcm, imageoperations, shape, glrlm, glszm, getTestCase\n",
    "import scipy as sp\n",
    "import matplotlib as mpl\n",
    "import matplotlib.pyplot as plt\n",
    "from pathlib import Path\n",
    "import sys\n",
    "import logging as logger\n",
    "import time\n",
    "import json\n",
    "import os\n",
    "import logging.config\n",
    "import pandas as pd\n",
    "import gc\n",
    "import math\n",
    "import scipy.io as scio"
   ]
  },
  {
   "cell_type": "code",
   "execution_count": 2,
   "metadata": {},
   "outputs": [],
   "source": [
    "from IPython.core.interactiveshell import InteractiveShell\n",
    "InteractiveShell.ast_node_interactivity = \"all\""
   ]
  },
  {
   "cell_type": "code",
   "execution_count": 8,
   "metadata": {},
   "outputs": [],
   "source": [
    "#Read the entire Benthiemer sandstone\n",
    "global image_1, label_1\n",
    "#change the path to the correct directory before running the code\n",
    "# please note: the dimensions of the image is 800 x 800 x 800\n",
    "matload = scio.loadmat('D:\\\\Ankita PhD\\\\pyradiomics\\\\data\\\\reQuantizedImage.mat')"
   ]
  },
  {
   "cell_type": "code",
   "execution_count": 9,
   "metadata": {},
   "outputs": [],
   "source": [
    "mat_image_1 = matload['newImage']"
   ]
  },
  {
   "cell_type": "code",
   "execution_count": 10,
   "metadata": {},
   "outputs": [
    {
     "data": {
      "text/plain": [
       "numpy.ndarray"
      ]
     },
     "execution_count": 10,
     "metadata": {},
     "output_type": "execute_result"
    }
   ],
   "source": [
    "type(mat_image_1)"
   ]
  },
  {
   "cell_type": "code",
   "execution_count": 11,
   "metadata": {},
   "outputs": [],
   "source": [
    "image_1 = sitk.GetImageFromArray(mat_image_1)"
   ]
  },
  {
   "cell_type": "markdown",
   "metadata": {},
   "source": [
    "#### Extraction Settings"
   ]
  },
  {
   "cell_type": "code",
   "execution_count": 15,
   "metadata": {},
   "outputs": [],
   "source": [
    "settings = {}\n",
    "settings['label'] = 255\n",
    "settings['binWidth'] = 2\n",
    "settings['padDistance'] = 0"
   ]
  },
  {
   "cell_type": "markdown",
   "metadata": {},
   "source": [
    "#### Log messages"
   ]
  },
  {
   "cell_type": "code",
   "execution_count": 16,
   "metadata": {},
   "outputs": [],
   "source": [
    "log_file = 'D:\\\\Ankita PhD\\\\pyradiomics\\\\log_messages\\\\log_sandpack_6bit_b2.txt'\n",
    "handler = logging.FileHandler(filename=log_file, mode='w')  # overwrites log_files from previous runs. Change mode to 'a' to append.\n",
    "formatter = logging.Formatter(\"%(levelname)s:%(name)s: %(message)s\")  # format string for log messages\n",
    "handler.setFormatter(formatter)\n",
    "radiomics.logger.addHandler(handler)\n",
    "\n",
    "# Control the amount of logging stored by setting the level of the logger. N.B. if the level is higher than the\n",
    "# Verbositiy level, the logger level will also determine the amount of information printed to the output\n",
    "radiomics.logger.setLevel(logging.DEBUG)"
   ]
  },
  {
   "cell_type": "code",
   "execution_count": 18,
   "metadata": {
    "scrolled": true
   },
   "outputs": [
    {
     "name": "stdout",
     "output_type": "stream",
     "text": [
      "Calculating GLSZM features...\n",
      "done\n",
      "Calculated GLSZM features: \n",
      "Completed Domain Calculations for Window  400\n",
      "Wall time: 38 s\n"
     ]
    }
   ],
   "source": [
    "%%time\n",
    "# the size of the mask should be the same as that of the image\n",
    "mask_x = 800\n",
    "mask_y = 800\n",
    "mask_z = 800\n",
    "\n",
    "v1 = []\n",
    "v2 = []\n",
    "v3 = []\n",
    "v4 = []\n",
    "v5 = []\n",
    "v6 = []\n",
    "v7 = []\n",
    "v8 = []\n",
    "v9 = []\n",
    "v10 = []\n",
    "v11 = []\n",
    "v12 = []\n",
    "v13 = []\n",
    "v14 = []\n",
    "v15 = []\n",
    "v16 = []\n",
    "\n",
    "# here the window_size refers to the region of mask that will be used to segment the ROI from the image. The window\n",
    "# sizes increase with every iteration\n",
    "u_window_size = [400] #10, 20, 30, 40, 50, 60, 100, 150, 200, 250, 300, 350, 400, 450, 500, 550, 600, 650, 700, 750, 800]\n",
    "global window_size, total_iter, expect_iter, i_loc, j_loc, z_loc, bb, correctedMask, croppedImage, croppedMask, glcm_window\n",
    "for window_size in u_window_size:  \n",
    "    \n",
    "    i_loc = int((mask_x - window_size)/2)\n",
    "    j_loc = int((mask_y - window_size)/2)\n",
    "    k_loc = int((mask_z - window_size)/2)\n",
    "    \n",
    "    # Generate the mask\n",
    "    full_mask = np.zeros((mask_x, mask_y, mask_z), dtype = np.uint8)\n",
    "    full_mask[i_loc:i_loc+window_size,j_loc:j_loc+window_size,k_loc:k_loc+window_size] = 255\n",
    "    #print(\"Window Location\", str(i_loc), str(i_loc+window_size), str(j_loc), str(j_loc+window_size), str(k_loc), str(k_loc+window_size))\n",
    "    label_1 = sitk.GetImageFromArray(full_mask, isVector=False)\n",
    "    del full_mask\n",
    "\n",
    "    bb, correctedMask = imageoperations.checkMask(image_1, label_1, label=255)\n",
    "    if correctedMask is not None:\n",
    "        label_1 = correctedMask\n",
    "    croppedImage, croppedMask = imageoperations.cropToTumorMask(image_1, label_1, bb)\n",
    "    del correctedMask, label_1\n",
    "\n",
    "    #calculate secondorder stats\n",
    "    glszmFeatures = glszm.RadiomicsGLSZM(croppedImage, croppedMask, **settings)\n",
    "    glszmFeatures.enableAllFeatures()\n",
    "    print('Calculating GLSZM features...',)\n",
    "    result = glszmFeatures.execute()\n",
    "    print('done')\n",
    "\n",
    "    print('Calculated GLSZM features: ')\n",
    "    for (key, val) in six.iteritems(result):\n",
    "        if key =='GrayLevelNonUniformity':\n",
    "            v1.append(val)\n",
    "        if key =='GrayLevelNonUniformityNormalized':\n",
    "            v2.append(val)\n",
    "        if key =='GrayLevelVariance':\n",
    "            v3.append(val)\n",
    "        if key =='HighGrayLevelZoneEmphasis':\n",
    "            v4.append(val)\n",
    "        if key == 'LargeAreaEmphasis':\n",
    "            v5.append(val)\n",
    "        if key == 'LargeAreaHighGrayLevelEmphasis':\n",
    "            v6.append(val)\n",
    "        if key == 'LargeAreaLowGrayLevelEmphasis':\n",
    "            v7.append(val)\n",
    "        if key == 'LowGrayLevelZoneEmphasis':\n",
    "            v8.append(val) \n",
    "        if key == 'SizeZoneNonUniformity':\n",
    "            v9.append(val)\n",
    "        if key == 'SizeZoneNonUniformityNormalized':\n",
    "            v10.append(val)\n",
    "        if key == 'SmallAreaEmphasis':\n",
    "            v11.append(val)\n",
    "        if key == 'SmallAreaHighGrayLevelEmphasis':\n",
    "            v12.append(val)\n",
    "        if key == 'SmallAreaLowGrayLevelEmphasis':\n",
    "            v13.append(val)\n",
    "        if key == 'ZoneEntropy':\n",
    "            v14.append(val)\n",
    "        if key == 'ZonePercentage':\n",
    "            v15.append(val)\n",
    "        if key == 'ZoneVariance':\n",
    "            v16.append(val)\n",
    "\n",
    "    print(\"Completed Domain Calculations for Window \", str(window_size))"
   ]
  },
  {
   "cell_type": "code",
   "execution_count": 21,
   "metadata": {},
   "outputs": [
    {
     "data": {
      "text/plain": [
       "array([[[5.0000e+00, 4.0000e+00, 1.0000e+00, ..., 0.0000e+00,\n",
       "         0.0000e+00, 0.0000e+00],\n",
       "        [1.2210e+03, 3.1900e+02, 9.4000e+01, ..., 0.0000e+00,\n",
       "         0.0000e+00, 0.0000e+00],\n",
       "        [2.2921e+04, 1.0151e+04, 5.3200e+03, ..., 1.0000e+00,\n",
       "         0.0000e+00, 0.0000e+00],\n",
       "        [8.7900e+02, 3.6800e+02, 2.2600e+02, ..., 0.0000e+00,\n",
       "         1.0000e+00, 0.0000e+00],\n",
       "        [2.1703e+04, 8.9740e+03, 4.2220e+03, ..., 0.0000e+00,\n",
       "         0.0000e+00, 1.0000e+00],\n",
       "        [0.0000e+00, 0.0000e+00, 0.0000e+00, ..., 0.0000e+00,\n",
       "         0.0000e+00, 0.0000e+00]]])"
      ]
     },
     "execution_count": 21,
     "metadata": {},
     "output_type": "execute_result"
    }
   ],
   "source": [
    "glszm_3 = glszmFeatures.P_glszm\n",
    "glszm_3"
   ]
  },
  {
   "cell_type": "code",
   "execution_count": 22,
   "metadata": {},
   "outputs": [
    {
     "data": {
      "text/plain": [
       "(1, 6, 372)"
      ]
     },
     "execution_count": 22,
     "metadata": {},
     "output_type": "execute_result"
    }
   ],
   "source": [
    "glszm_3.shape"
   ]
  },
  {
   "cell_type": "code",
   "execution_count": 23,
   "metadata": {},
   "outputs": [
    {
     "data": {
      "text/plain": [
       "numpy.ndarray"
      ]
     },
     "execution_count": 23,
     "metadata": {},
     "output_type": "execute_result"
    }
   ],
   "source": [
    "type(glszm_3)"
   ]
  },
  {
   "cell_type": "code",
   "execution_count": 24,
   "metadata": {},
   "outputs": [
    {
     "data": {
      "text/plain": [
       "array([ 1,  2,  3,  4,  5, 32], dtype=uint16)"
      ]
     },
     "execution_count": 24,
     "metadata": {},
     "output_type": "execute_result"
    }
   ],
   "source": [
    "#The graylevels in ROI after discretization\n",
    "graylevels = glszmFeatures.coefficients['grayLevels']\n",
    "graylevels"
   ]
  },
  {
   "cell_type": "code",
   "execution_count": 25,
   "metadata": {},
   "outputs": [
    {
     "data": {
      "text/plain": [
       "array([[4.6729e+04, 1.9816e+04, 9.8630e+03, 6.1500e+03, 4.2250e+03,\n",
       "        2.9000e+03, 2.3600e+03, 1.7390e+03, 1.3710e+03, 1.1620e+03,\n",
       "        9.6900e+02, 8.1000e+02, 6.4600e+02, 6.0000e+02, 4.7400e+02,\n",
       "        4.5500e+02, 3.8100e+02, 3.4300e+02, 2.8700e+02, 2.4900e+02,\n",
       "        2.2900e+02, 1.9900e+02, 2.0600e+02, 1.8900e+02, 1.4900e+02,\n",
       "        1.4900e+02, 1.3900e+02, 1.3400e+02, 1.3100e+02, 1.0600e+02,\n",
       "        9.3000e+01, 7.7000e+01, 7.6000e+01, 7.8000e+01, 7.4000e+01,\n",
       "        6.5000e+01, 6.8000e+01, 5.9000e+01, 5.8000e+01, 5.2000e+01,\n",
       "        4.6000e+01, 5.4000e+01, 3.5000e+01, 4.8000e+01, 4.7000e+01,\n",
       "        3.7000e+01, 2.8000e+01, 3.4000e+01, 4.6000e+01, 2.3000e+01,\n",
       "        3.7000e+01, 3.7000e+01, 2.9000e+01, 2.8000e+01, 2.5000e+01,\n",
       "        3.2000e+01, 2.4000e+01, 1.8000e+01, 2.5000e+01, 2.5000e+01,\n",
       "        2.7000e+01, 2.1000e+01, 2.0000e+01, 1.8000e+01, 2.4000e+01,\n",
       "        2.1000e+01, 1.5000e+01, 1.9000e+01, 1.9000e+01, 1.1000e+01,\n",
       "        2.0000e+01, 2.6000e+01, 1.4000e+01, 8.0000e+00, 2.1000e+01,\n",
       "        8.0000e+00, 1.1000e+01, 1.0000e+01, 1.3000e+01, 1.0000e+01,\n",
       "        9.0000e+00, 1.5000e+01, 1.0000e+01, 9.0000e+00, 8.0000e+00,\n",
       "        1.6000e+01, 7.0000e+00, 6.0000e+00, 1.2000e+01, 1.2000e+01,\n",
       "        8.0000e+00, 7.0000e+00, 5.0000e+00, 1.0000e+01, 1.1000e+01,\n",
       "        1.0000e+01, 7.0000e+00, 7.0000e+00, 3.0000e+00, 6.0000e+00,\n",
       "        8.0000e+00, 4.0000e+00, 7.0000e+00, 7.0000e+00, 1.1000e+01,\n",
       "        1.0000e+00, 1.0000e+01, 8.0000e+00, 6.0000e+00, 6.0000e+00,\n",
       "        5.0000e+00, 4.0000e+00, 5.0000e+00, 6.0000e+00, 2.0000e+00,\n",
       "        3.0000e+00, 6.0000e+00, 1.0000e+00, 1.0000e+00, 6.0000e+00,\n",
       "        1.0000e+00, 8.0000e+00, 5.0000e+00, 4.0000e+00, 3.0000e+00,\n",
       "        2.0000e+00, 4.0000e+00, 3.0000e+00, 7.0000e+00, 2.0000e+00,\n",
       "        3.0000e+00, 4.0000e+00, 2.0000e+00, 3.0000e+00, 3.0000e+00,\n",
       "        1.0000e+00, 3.0000e+00, 1.0000e+00, 3.0000e+00, 2.0000e+00,\n",
       "        4.0000e+00, 2.0000e+00, 6.0000e+00, 3.0000e+00, 4.0000e+00,\n",
       "        4.0000e+00, 2.0000e+00, 8.0000e+00, 1.0000e+00, 4.0000e+00,\n",
       "        2.0000e+00, 2.0000e+00, 3.0000e+00, 4.0000e+00, 5.0000e+00,\n",
       "        1.0000e+00, 1.0000e+00, 1.0000e+00, 1.0000e+00, 2.0000e+00,\n",
       "        1.0000e+00, 2.0000e+00, 1.0000e+00, 1.0000e+00, 2.0000e+00,\n",
       "        4.0000e+00, 1.0000e+00, 2.0000e+00, 3.0000e+00, 1.0000e+00,\n",
       "        4.0000e+00, 1.0000e+00, 2.0000e+00, 1.0000e+00, 2.0000e+00,\n",
       "        2.0000e+00, 1.0000e+00, 6.0000e+00, 1.0000e+00, 2.0000e+00,\n",
       "        2.0000e+00, 1.0000e+00, 1.0000e+00, 2.0000e+00, 3.0000e+00,\n",
       "        2.0000e+00, 1.0000e+00, 2.0000e+00, 2.0000e+00, 2.0000e+00,\n",
       "        2.0000e+00, 2.0000e+00, 2.0000e+00, 2.0000e+00, 1.0000e+00,\n",
       "        1.0000e+00, 2.0000e+00, 2.0000e+00, 1.0000e+00, 1.0000e+00,\n",
       "        1.0000e+00, 1.0000e+00, 3.0000e+00, 1.0000e+00, 3.0000e+00,\n",
       "        1.0000e+00, 2.0000e+00, 1.0000e+00, 1.0000e+00, 1.0000e+00,\n",
       "        1.0000e+00, 1.0000e+00, 3.0000e+00, 1.0000e+00, 2.0000e+00,\n",
       "        1.0000e+00, 3.0000e+00, 1.0000e+00, 4.0000e+00, 1.0000e+00,\n",
       "        1.0000e+00, 1.0000e+00, 1.0000e+00, 1.0000e+00, 1.0000e+00,\n",
       "        1.0000e+00, 1.0000e+00, 1.0000e+00, 1.0000e+00, 1.0000e+00,\n",
       "        1.0000e+00, 1.0000e+00, 1.0000e+00, 2.0000e+00, 2.0000e+00,\n",
       "        2.0000e+00, 1.0000e+00, 2.0000e+00, 1.0000e+00, 1.0000e+00,\n",
       "        1.0000e+00, 2.0000e+00, 1.0000e+00, 1.0000e+00, 1.0000e+00,\n",
       "        1.0000e+00, 1.0000e+00, 1.0000e+00, 1.0000e+00, 3.0000e+00,\n",
       "        3.0000e+00, 1.0000e+00, 1.0000e+00, 2.0000e+00, 1.0000e+00,\n",
       "        1.0000e+00, 1.0000e+00, 1.0000e+00, 1.0000e+00, 1.0000e+00,\n",
       "        1.0000e+00, 1.0000e+00, 1.0000e+00, 1.0000e+00, 2.0000e+00,\n",
       "        1.0000e+00, 2.0000e+00, 1.0000e+00, 1.0000e+00, 1.0000e+00,\n",
       "        1.0000e+00, 1.0000e+00, 1.0000e+00, 2.0000e+00, 1.0000e+00,\n",
       "        1.0000e+00, 1.0000e+00, 1.0000e+00, 1.0000e+00, 1.0000e+00,\n",
       "        1.0000e+00, 1.0000e+00, 1.0000e+00, 1.0000e+00, 1.0000e+00,\n",
       "        2.0000e+00, 1.0000e+00, 1.0000e+00, 1.0000e+00, 1.0000e+00,\n",
       "        1.0000e+00, 2.0000e+00, 1.0000e+00, 1.0000e+00, 1.0000e+00,\n",
       "        1.0000e+00, 1.0000e+00, 1.0000e+00, 2.0000e+00, 1.0000e+00,\n",
       "        1.0000e+00, 1.0000e+00, 1.0000e+00, 1.0000e+00, 1.0000e+00,\n",
       "        1.0000e+00, 1.0000e+00, 1.0000e+00, 2.0000e+00, 1.0000e+00,\n",
       "        2.0000e+00, 1.0000e+00, 1.0000e+00, 1.0000e+00, 1.0000e+00,\n",
       "        1.0000e+00, 1.0000e+00, 1.0000e+00, 1.0000e+00, 1.0000e+00,\n",
       "        1.0000e+00, 1.0000e+00, 1.0000e+00, 1.0000e+00, 1.0000e+00,\n",
       "        1.0000e+00, 1.0000e+00, 1.0000e+00, 1.0000e+00, 1.0000e+00,\n",
       "        1.0000e+00, 1.0000e+00, 1.0000e+00, 1.0000e+00, 1.0000e+00,\n",
       "        1.0000e+00, 1.0000e+00, 1.0000e+00, 1.0000e+00, 1.0000e+00,\n",
       "        1.0000e+00, 1.0000e+00, 1.0000e+00, 1.0000e+00, 1.0000e+00,\n",
       "        1.0000e+00, 1.0000e+00, 1.0000e+00, 1.0000e+00, 1.0000e+00,\n",
       "        1.0000e+00, 1.0000e+00, 1.0000e+00, 1.0000e+00, 1.0000e+00,\n",
       "        1.0000e+00, 1.0000e+00, 1.0000e+00, 1.0000e+00, 1.0000e+00,\n",
       "        1.0000e+00, 1.0000e+00, 1.0000e+00, 1.0000e+00, 1.0000e+00,\n",
       "        1.0000e+00, 1.0000e+00, 1.0000e+00, 1.0000e+00, 1.0000e+00,\n",
       "        1.0000e+00, 1.0000e+00]])"
      ]
     },
     "execution_count": 25,
     "metadata": {},
     "output_type": "execute_result"
    }
   ],
   "source": [
    "# sum of all the size zones for all the graylevels of a particular size zones\n",
    "# for every column of GLSZM, add all the rows\n",
    "pss = glszmFeatures.coefficients['ps']\n",
    "pss"
   ]
  },
  {
   "cell_type": "code",
   "execution_count": 26,
   "metadata": {},
   "outputs": [
    {
     "data": {
      "text/plain": [
       "array([64000000.])"
      ]
     },
     "execution_count": 26,
     "metadata": {},
     "output_type": "execute_result"
    }
   ],
   "source": [
    "#Np is the number of voxels in the image\n",
    "Npp = glszmFeatures.coefficients['Np']\n",
    "Npp"
   ]
  },
  {
   "cell_type": "code",
   "execution_count": 27,
   "metadata": {},
   "outputs": [
    {
     "data": {
      "text/plain": [
       "array([105560.])"
      ]
     },
     "execution_count": 27,
     "metadata": {},
     "output_type": "execute_result"
    }
   ],
   "source": [
    "#The total number of size zones in the GLSZM (add all the elements of P_glszm)\n",
    "Nzz = glszmFeatures.coefficients['Nz']\n",
    "Nzz"
   ]
  },
  {
   "cell_type": "code",
   "execution_count": 28,
   "metadata": {},
   "outputs": [
    {
     "data": {
      "text/plain": [
       "32"
      ]
     },
     "execution_count": 28,
     "metadata": {},
     "output_type": "execute_result"
    }
   ],
   "source": [
    "#Number of all possible discreet intensity values in the image: This incluedes  NgVector = range(1, Ng + 1) i.e.\n",
    "#all the missing grayvalues as well. Later the missing grayvalues are excluded. \n",
    "Ngg = glszmFeatures.coefficients['Ng']\n",
    "Ngg"
   ]
  },
  {
   "cell_type": "code",
   "execution_count": 29,
   "metadata": {},
   "outputs": [
    {
     "data": {
      "text/plain": [
       "array([[2.3000e+01, 1.7960e+03, 5.7547e+04, 2.5960e+03, 4.3560e+04,\n",
       "        3.8000e+01]])"
      ]
     },
     "execution_count": 29,
     "metadata": {},
     "output_type": "execute_result"
    }
   ],
   "source": [
    "#sum all the size zones for a particular graylevel\n",
    "#for every row of GLSZM add the columns\n",
    "pgg = glszmFeatures.coefficients['pg']\n",
    "pgg"
   ]
  },
  {
   "cell_type": "code",
   "execution_count": 30,
   "metadata": {},
   "outputs": [
    {
     "data": {
      "text/plain": [
       "array([ 1.,  2.,  3.,  4.,  5., 32.])"
      ]
     },
     "execution_count": 30,
     "metadata": {},
     "output_type": "execute_result"
    }
   ],
   "source": [
    "ivv = glszmFeatures.coefficients['ivector']\n",
    "ivv"
   ]
  },
  {
   "cell_type": "code",
   "execution_count": 31,
   "metadata": {},
   "outputs": [
    {
     "data": {
      "text/plain": [
       "array([1.0000000e+00, 2.0000000e+00, 3.0000000e+00, 4.0000000e+00,\n",
       "       5.0000000e+00, 6.0000000e+00, 7.0000000e+00, 8.0000000e+00,\n",
       "       9.0000000e+00, 1.0000000e+01, 1.1000000e+01, 1.2000000e+01,\n",
       "       1.3000000e+01, 1.4000000e+01, 1.5000000e+01, 1.6000000e+01,\n",
       "       1.7000000e+01, 1.8000000e+01, 1.9000000e+01, 2.0000000e+01,\n",
       "       2.1000000e+01, 2.2000000e+01, 2.3000000e+01, 2.4000000e+01,\n",
       "       2.5000000e+01, 2.6000000e+01, 2.7000000e+01, 2.8000000e+01,\n",
       "       2.9000000e+01, 3.0000000e+01, 3.1000000e+01, 3.2000000e+01,\n",
       "       3.3000000e+01, 3.4000000e+01, 3.5000000e+01, 3.6000000e+01,\n",
       "       3.7000000e+01, 3.8000000e+01, 3.9000000e+01, 4.0000000e+01,\n",
       "       4.1000000e+01, 4.2000000e+01, 4.3000000e+01, 4.4000000e+01,\n",
       "       4.5000000e+01, 4.6000000e+01, 4.7000000e+01, 4.8000000e+01,\n",
       "       4.9000000e+01, 5.0000000e+01, 5.1000000e+01, 5.2000000e+01,\n",
       "       5.3000000e+01, 5.4000000e+01, 5.5000000e+01, 5.6000000e+01,\n",
       "       5.7000000e+01, 5.8000000e+01, 5.9000000e+01, 6.0000000e+01,\n",
       "       6.1000000e+01, 6.2000000e+01, 6.3000000e+01, 6.4000000e+01,\n",
       "       6.5000000e+01, 6.6000000e+01, 6.7000000e+01, 6.8000000e+01,\n",
       "       6.9000000e+01, 7.0000000e+01, 7.1000000e+01, 7.2000000e+01,\n",
       "       7.3000000e+01, 7.4000000e+01, 7.5000000e+01, 7.6000000e+01,\n",
       "       7.7000000e+01, 7.8000000e+01, 7.9000000e+01, 8.0000000e+01,\n",
       "       8.1000000e+01, 8.2000000e+01, 8.3000000e+01, 8.4000000e+01,\n",
       "       8.5000000e+01, 8.6000000e+01, 8.7000000e+01, 8.8000000e+01,\n",
       "       8.9000000e+01, 9.0000000e+01, 9.1000000e+01, 9.2000000e+01,\n",
       "       9.3000000e+01, 9.4000000e+01, 9.5000000e+01, 9.6000000e+01,\n",
       "       9.7000000e+01, 9.8000000e+01, 9.9000000e+01, 1.0000000e+02,\n",
       "       1.0100000e+02, 1.0200000e+02, 1.0300000e+02, 1.0400000e+02,\n",
       "       1.0500000e+02, 1.0600000e+02, 1.0700000e+02, 1.0800000e+02,\n",
       "       1.0900000e+02, 1.1000000e+02, 1.1100000e+02, 1.1200000e+02,\n",
       "       1.1300000e+02, 1.1400000e+02, 1.1500000e+02, 1.1600000e+02,\n",
       "       1.1700000e+02, 1.1800000e+02, 1.1900000e+02, 1.2000000e+02,\n",
       "       1.2100000e+02, 1.2200000e+02, 1.2300000e+02, 1.2400000e+02,\n",
       "       1.2500000e+02, 1.2600000e+02, 1.2800000e+02, 1.2900000e+02,\n",
       "       1.3000000e+02, 1.3100000e+02, 1.3200000e+02, 1.3300000e+02,\n",
       "       1.3400000e+02, 1.3500000e+02, 1.3600000e+02, 1.3700000e+02,\n",
       "       1.3800000e+02, 1.3900000e+02, 1.4000000e+02, 1.4100000e+02,\n",
       "       1.4200000e+02, 1.4300000e+02, 1.4400000e+02, 1.4500000e+02,\n",
       "       1.4600000e+02, 1.4800000e+02, 1.4900000e+02, 1.5000000e+02,\n",
       "       1.5100000e+02, 1.5200000e+02, 1.5300000e+02, 1.5400000e+02,\n",
       "       1.5500000e+02, 1.5600000e+02, 1.5700000e+02, 1.5800000e+02,\n",
       "       1.5900000e+02, 1.6000000e+02, 1.6100000e+02, 1.6200000e+02,\n",
       "       1.6300000e+02, 1.6400000e+02, 1.6500000e+02, 1.6700000e+02,\n",
       "       1.6800000e+02, 1.6900000e+02, 1.7000000e+02, 1.7100000e+02,\n",
       "       1.7300000e+02, 1.7400000e+02, 1.7500000e+02, 1.7600000e+02,\n",
       "       1.7700000e+02, 1.7800000e+02, 1.8000000e+02, 1.8100000e+02,\n",
       "       1.8200000e+02, 1.8300000e+02, 1.8500000e+02, 1.8600000e+02,\n",
       "       1.8700000e+02, 1.8800000e+02, 1.8900000e+02, 1.9000000e+02,\n",
       "       1.9200000e+02, 1.9300000e+02, 1.9400000e+02, 1.9500000e+02,\n",
       "       1.9600000e+02, 1.9700000e+02, 1.9800000e+02, 1.9900000e+02,\n",
       "       2.0000000e+02, 2.0100000e+02, 2.0300000e+02, 2.0500000e+02,\n",
       "       2.0600000e+02, 2.0700000e+02, 2.0800000e+02, 2.0900000e+02,\n",
       "       2.1100000e+02, 2.1300000e+02, 2.1500000e+02, 2.1700000e+02,\n",
       "       2.1800000e+02, 2.2000000e+02, 2.2100000e+02, 2.2200000e+02,\n",
       "       2.2400000e+02, 2.2500000e+02, 2.2700000e+02, 2.3000000e+02,\n",
       "       2.3100000e+02, 2.3200000e+02, 2.3400000e+02, 2.3700000e+02,\n",
       "       2.3900000e+02, 2.4000000e+02, 2.4100000e+02, 2.4300000e+02,\n",
       "       2.4400000e+02, 2.4700000e+02, 2.4800000e+02, 2.4900000e+02,\n",
       "       2.5000000e+02, 2.5300000e+02, 2.5400000e+02, 2.5700000e+02,\n",
       "       2.5800000e+02, 2.6000000e+02, 2.6100000e+02, 2.6200000e+02,\n",
       "       2.6300000e+02, 2.6500000e+02, 2.7000000e+02, 2.7300000e+02,\n",
       "       2.7600000e+02, 2.7700000e+02, 2.7800000e+02, 2.7900000e+02,\n",
       "       2.8000000e+02, 2.8100000e+02, 2.8300000e+02, 2.8700000e+02,\n",
       "       2.8800000e+02, 2.9000000e+02, 2.9200000e+02, 2.9300000e+02,\n",
       "       2.9600000e+02, 3.0000000e+02, 3.0100000e+02, 3.0300000e+02,\n",
       "       3.0600000e+02, 3.0800000e+02, 3.1200000e+02, 3.1400000e+02,\n",
       "       3.1500000e+02, 3.1800000e+02, 3.2300000e+02, 3.2800000e+02,\n",
       "       3.2900000e+02, 3.3200000e+02, 3.3800000e+02, 3.4100000e+02,\n",
       "       3.4200000e+02, 3.4400000e+02, 3.4700000e+02, 3.5200000e+02,\n",
       "       3.5500000e+02, 3.5600000e+02, 3.5800000e+02, 3.6000000e+02,\n",
       "       3.6100000e+02, 3.6200000e+02, 3.6700000e+02, 3.6900000e+02,\n",
       "       3.7000000e+02, 3.7400000e+02, 3.7800000e+02, 3.8100000e+02,\n",
       "       3.8500000e+02, 3.9200000e+02, 3.9600000e+02, 4.0200000e+02,\n",
       "       4.0800000e+02, 4.1300000e+02, 4.1400000e+02, 4.1500000e+02,\n",
       "       4.2300000e+02, 4.3100000e+02, 4.4500000e+02, 4.4900000e+02,\n",
       "       4.5000000e+02, 4.5100000e+02, 4.5300000e+02, 4.5600000e+02,\n",
       "       4.5700000e+02, 4.6400000e+02, 4.6600000e+02, 4.7200000e+02,\n",
       "       4.7500000e+02, 4.7600000e+02, 4.8500000e+02, 4.8700000e+02,\n",
       "       4.9500000e+02, 5.2200000e+02, 5.2400000e+02, 5.3100000e+02,\n",
       "       5.3500000e+02, 5.3600000e+02, 5.4000000e+02, 5.4700000e+02,\n",
       "       5.5100000e+02, 5.5700000e+02, 5.6700000e+02, 5.7700000e+02,\n",
       "       5.9500000e+02, 5.9600000e+02, 5.9700000e+02, 6.2100000e+02,\n",
       "       6.2200000e+02, 6.4900000e+02, 6.8800000e+02, 6.9400000e+02,\n",
       "       6.9600000e+02, 7.0300000e+02, 7.2500000e+02, 7.3400000e+02,\n",
       "       7.5500000e+02, 7.7300000e+02, 7.8700000e+02, 8.5200000e+02,\n",
       "       8.6700000e+02, 9.0000000e+02, 9.1700000e+02, 9.3100000e+02,\n",
       "       9.7300000e+02, 9.9100000e+02, 1.0040000e+03, 1.0220000e+03,\n",
       "       1.0640000e+03, 1.0740000e+03, 1.1280000e+03, 1.2220000e+03,\n",
       "       1.2780000e+03, 1.3740000e+03, 1.3970000e+03, 1.3980000e+03,\n",
       "       1.4060000e+03, 1.4090000e+03, 1.4230000e+03, 1.4610000e+03,\n",
       "       1.4630000e+03, 1.5810000e+03, 1.6050000e+03, 1.6250000e+03,\n",
       "       1.8870000e+03, 1.9210000e+03, 2.0320000e+03, 2.1660000e+03,\n",
       "       2.7600000e+03, 2.9730000e+03, 3.1820000e+03, 3.2170000e+03,\n",
       "       3.3730000e+03, 7.3940000e+03, 9.5350000e+03, 1.0467000e+04,\n",
       "       3.5653000e+04, 3.4321410e+06, 1.4994535e+07, 4.4908472e+07])"
      ]
     },
     "execution_count": 31,
     "metadata": {},
     "output_type": "execute_result"
    }
   ],
   "source": [
    "jvv = glszmFeatures.coefficients['jvector']\n",
    "jvv"
   ]
  },
  {
   "cell_type": "raw",
   "metadata": {},
   "source": [
    "my_df = pd.DataFrame(list(zip(v1, v2, v3, v4, v5, v6, v7, v8, v9, v10, v11, v12, v13, v14, v15, v16)))\n",
    "name_csv = 'glszm_sandpack_16bit_dc_b2000.csv'\n",
    "my_df.to_csv(name_csv, index=False, header=False)"
   ]
  },
  {
   "cell_type": "code",
   "execution_count": null,
   "metadata": {},
   "outputs": [],
   "source": []
  }
 ],
 "metadata": {
  "kernelspec": {
   "display_name": "Pyratomo",
   "language": "python",
   "name": "pyratomo"
  },
  "language_info": {
   "codemirror_mode": {
    "name": "ipython",
    "version": 3
   },
   "file_extension": ".py",
   "mimetype": "text/x-python",
   "name": "python",
   "nbconvert_exporter": "python",
   "pygments_lexer": "ipython3",
   "version": "3.6.8"
  }
 },
 "nbformat": 4,
 "nbformat_minor": 2
}
