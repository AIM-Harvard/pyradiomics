{
 "cells": [
  {
   "cell_type": "markdown",
   "metadata": {},
   "source": [
    "#### Import all libraries"
   ]
  },
  {
   "cell_type": "code",
   "execution_count": 1,
   "metadata": {},
   "outputs": [],
   "source": [
    "from __future__ import print_function\n",
    "import os\n",
    "import collections\n",
    "import SimpleITK as sitk\n",
    "import numpy as np\n",
    "import six\n",
    "import radiomics\n",
    "from radiomics import firstorder, glcm, imageoperations, shape, glrlm, glszm, getTestCase\n",
    "import scipy as sp\n",
    "import matplotlib as mpl\n",
    "import matplotlib.pyplot as plt\n",
    "from pathlib import Path\n",
    "import sys\n",
    "import logging as logger\n",
    "import time\n",
    "import json\n",
    "import os\n",
    "import logging.config\n",
    "import pandas as pd\n",
    "import gc\n",
    "import math"
   ]
  },
  {
   "cell_type": "code",
   "execution_count": 2,
   "metadata": {},
   "outputs": [],
   "source": [
    "#Read the entire Benthiemer sandstone\n",
    "global image_1, label_1\n",
    "image_1 = sitk.ReadImage('D:\\\\Ankita\\\\pyradiomics\\\\data\\\\investigate_simon_1000cube.nrrd')"
   ]
  },
  {
   "cell_type": "markdown",
   "metadata": {},
   "source": [
    "#### Extraction Settings"
   ]
  },
  {
   "cell_type": "code",
   "execution_count": 3,
   "metadata": {},
   "outputs": [],
   "source": [
    "settings = {}\n",
    "settings['label'] = 255\n",
    "settings['binWidth'] = 2\n",
    "settings['padDistance'] = 0\n",
    "settings['distances'] = [1]"
   ]
  },
  {
   "cell_type": "code",
   "execution_count": 4,
   "metadata": {},
   "outputs": [],
   "source": [
    "log_file = 'D:\\\\Ankita\\\\pyradiomics\\\\data\\\\log_file_dc.txt'\n",
    "handler = logging.FileHandler(filename=log_file, mode='w')  # overwrites log_files from previous runs. Change mode to 'a' to append.\n",
    "formatter = logging.Formatter(\"%(levelname)s:%(name)s: %(message)s\")  # format string for log messages\n",
    "handler.setFormatter(formatter)\n",
    "radiomics.logger.addHandler(handler)\n",
    "\n",
    "# Control the amount of logging stored by setting the level of the logger. N.B. if the level is higher than the\n",
    "# Verbositiy level, the logger level will also determine the amount of information printed to the output\n",
    "radiomics.logger.setLevel(logging.DEBUG)"
   ]
  },
  {
   "cell_type": "code",
   "execution_count": 5,
   "metadata": {
    "scrolled": true
   },
   "outputs": [
    {
     "name": "stdout",
     "output_type": "stream",
     "text": [
      "9.287566413073709\n",
      "Completed Domain Calculations for Window  20\n",
      "9.552660951017744\n",
      "Completed Domain Calculations for Window  30\n",
      "9.874673047111543\n",
      "Completed Domain Calculations for Window  40\n",
      "9.951573050845155\n",
      "Completed Domain Calculations for Window  50\n",
      "9.97850272366805\n",
      "Completed Domain Calculations for Window  60\n",
      "10.078513036836377\n",
      "Completed Domain Calculations for Window  100\n",
      "10.106657915502364\n",
      "Completed Domain Calculations for Window  150\n",
      "10.127713017033573\n",
      "Completed Domain Calculations for Window  200\n",
      "10.086313347903268\n",
      "Completed Domain Calculations for Window  250\n",
      "10.077338966118662\n",
      "Completed Domain Calculations for Window  300\n",
      "10.095543354834328\n",
      "Completed Domain Calculations for Window  350\n",
      "10.124577746150917\n",
      "Completed Domain Calculations for Window  400\n",
      "Wall time: 57.7 s\n"
     ]
    }
   ],
   "source": [
    "%%time\n",
    "mask_x = 1000\n",
    "mask_y = 1000\n",
    "mask_z = 1000\n",
    "\n",
    "my_Entropy = []\n",
    "\n",
    "u_window_size = [20, 30, 40, 50, 60, 100, 150, 200, 250, 300, 350, 400, 500, 600, 700, 800, 900, 1000]\n",
    "global window_size, total_iter, expect_iter, i_loc, j_loc, z_loc, bb, correctedMask, croppedImage, croppedMask, glcm_window\n",
    "for window_size in u_window_size:  \n",
    "    \n",
    "    i_loc = int((mask_x - window_size)/2)\n",
    "    j_loc = int((mask_y - window_size)/2)\n",
    "    k_loc = int((mask_z - window_size)/2)\n",
    "    \n",
    "    #print(i_loc)\n",
    "    \n",
    "    full_mask = np.zeros((mask_x, mask_y, mask_z), dtype = np.uint8)\n",
    "    full_mask[i_loc:i_loc+window_size,j_loc:j_loc+window_size,k_loc:k_loc+window_size] = 255\n",
    "    #print(\"Window Location\", str(i_loc), str(i_loc+window_size), str(j_loc), str(j_loc+window_size), str(k_loc), str(k_loc+window_size))\n",
    "    label_1 = sitk.GetImageFromArray(full_mask, isVector=False)\n",
    "    del full_mask\n",
    "\n",
    "    bb, correctedMask = imageoperations.checkMask(image_1, label_1, label=255)\n",
    "    if correctedMask is not None:\n",
    "        label_1 = correctedMask\n",
    "    croppedImage, croppedMask = imageoperations.cropToTumorMask(image_1, label_1, bb)\n",
    "    del correctedMask, label_1\n",
    "\n",
    "    #calculate secondorder stats\n",
    "    glcmFeatures = glcm.RadiomicsGLCM(croppedImage, croppedMask, **settings)\n",
    "    ng = glcmFeatures.coefficients['Ng']\n",
    "    graylevels = glcmFeatures.coefficients['grayLevels']\n",
    "    glcmFeatures.P_glcm\n",
    "    glcmFeatures.enableFeatureByName('JointEntropy', True)\n",
    "                                      \n",
    "    result = glcmFeatures.execute()\n",
    "\n",
    "    #print('Calculated GLCM features: ')\n",
    "    for (key, val) in six.iteritems(result):\n",
    "        my_Entropy.append(val)\n",
    "        print(val)\n",
    "    #del key, val, result, glcmFeatures\n",
    "\n",
    "    print(\"Completed Domain Calculations for Window \", str(window_size))"
   ]
  },
  {
   "cell_type": "code",
   "execution_count": 6,
   "metadata": {},
   "outputs": [],
   "source": [
    "my_Entropy\n",
    "my_df = pd.DataFrame(my_Entropy)\n",
    "name_csv = 'entropy_domian_centre_simon.csv'\n",
    "my_df.to_csv(name_csv, index=False, header=False)"
   ]
  },
  {
   "cell_type": "markdown",
   "metadata": {},
   "source": [
    "p= glcmFeatures._calculateMatrix().angles"
   ]
  },
  {
   "cell_type": "markdown",
   "metadata": {},
   "source": [
    "x = glcmFeatures.P_glcm[:,:,12]"
   ]
  },
  {
   "cell_type": "markdown",
   "metadata": {},
   "source": [
    "x.shape"
   ]
  },
  {
   "cell_type": "markdown",
   "metadata": {},
   "source": [
    "graylevels"
   ]
  },
  {
   "cell_type": "markdown",
   "metadata": {},
   "source": [
    "ng"
   ]
  },
  {
   "cell_type": "markdown",
   "metadata": {},
   "source": [
    "glcmFeatures.matrix_args"
   ]
  },
  {
   "cell_type": "markdown",
   "metadata": {},
   "source": [
    "radiomics.cMatrixes.calculate_glcm(croppedImage, croppedMask, **settings)"
   ]
  },
  {
   "cell_type": "markdown",
   "metadata": {},
   "source": [
    "cMatrices.calculate_glcm(*matrix_args)"
   ]
  },
  {
   "cell_type": "markdown",
   "metadata": {},
   "source": [
    "imageoperations.generateAngles(croppedImage, **settings)"
   ]
  },
  {
   "cell_type": "markdown",
   "metadata": {},
   "source": [
    "matrix_args = [\n",
    "      self.imageArray,\n",
    "      self.maskArray,\n",
    "      numpy.array(self.settings.get('distances', [1])),\n",
    "      Ng,\n",
    "      self.settings.get('force2D', False),\n",
    "      self.settings.get('force2Ddimension', 0)\n",
    "    ]"
   ]
  }
 ],
 "metadata": {
  "kernelspec": {
   "display_name": "Python 3",
   "language": "python",
   "name": "python3"
  },
  "language_info": {
   "codemirror_mode": {
    "name": "ipython",
    "version": 3
   },
   "file_extension": ".py",
   "mimetype": "text/x-python",
   "name": "python",
   "nbconvert_exporter": "python",
   "pygments_lexer": "ipython3",
   "version": "3.6.8"
  }
 },
 "nbformat": 4,
 "nbformat_minor": 2
}
