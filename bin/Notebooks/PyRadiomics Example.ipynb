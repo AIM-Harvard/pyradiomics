{
 "cells": [
  {
   "cell_type": "markdown",
   "metadata": {},
   "source": [
    "# Example of using the PyRadiomics toolbox in Python"
   ]
  },
  {
   "cell_type": "markdown",
   "metadata": {},
   "source": [
    "First, import some built-in Python modules needed to get our testing data.\n",
    "Second, import the toolbox, only the `featureextractor` is needed, this module handles the interaction with other parts of the toolbox."
   ]
  },
  {
   "cell_type": "code",
   "execution_count": 1,
   "metadata": {
    "collapsed": true
   },
   "outputs": [],
   "source": [
    "from __future__ import print_function, unicode_literals, division, absolute_import\n",
    "import os  # needed navigate the system to get the input data\n",
    "from radiomics import featureextractor  # This module is used for interaction with pyradiomics"
   ]
  },
  {
   "cell_type": "markdown",
   "metadata": {},
   "source": [
    "### Setting up data"
   ]
  },
  {
   "cell_type": "markdown",
   "metadata": {},
   "source": [
    "Before we can extract features, we need to get the input data, define the parameters for the extraction and instantiate the class contained within `featureextractor`.\n",
    "\n",
    "In the next cell we get our testing data, this consists of an image and corresponding segmentation. This is also available from the PyRadiomics repository and is stored in `\\pyradiomics\\data`, whereas this file (and therefore, the current directory) is `\\pyradiomics\\bin\\Notebooks`"
   ]
  },
  {
   "cell_type": "code",
   "execution_count": 2,
   "metadata": {
    "collapsed": false
   },
   "outputs": [
    {
     "name": "stdout",
     "output_type": "stream",
     "text": [
      "dataDir, relative path: /Users/mader/Dropbox/Informatics/pyradiomics/bin/Notebooks/../../data\n",
      "dataDir, absolute path: /Users/mader/Dropbox/Informatics/pyradiomics/data\n",
      "Parameter file, absolute path: /Users/mader/Dropbox/Informatics/pyradiomics/bin/Params.yaml\n"
     ]
    }
   ],
   "source": [
    "# Define the testcase name\n",
    "testCase = 'brain1'\n",
    "\n",
    "# Get the relative path to pyradiomics\\data\n",
    "# os.cwd() returns the current working directory\n",
    "# \"..\" points to the parent directory: \\pyradiomics\\bin\\Notebooks\\..\\ is equal to \\pyradiomics\\bin\\\n",
    "# Move up 2 directories (i.e. go to \\pyradiomics\\) and then move into \\pyradiomics\\data\n",
    "dataDir = os.path.join(os.getcwd(), \"..\", \"..\", \"data\")\n",
    "print(\"dataDir, relative path:\", dataDir)\n",
    "print(\"dataDir, absolute path:\", os.path.abspath(dataDir))\n",
    "\n",
    "# Store the file paths of our testing image and label map into two variables\n",
    "imagePath = os.path.join(dataDir, testCase + \"_image.nrrd\")\n",
    "labelPath = os.path.join(dataDir, testCase + \"_label.nrrd\")\n",
    "\n",
    "# Additonally, store the location of the example parameter file, stored in \\pyradiomics\\bin\n",
    "paramPath = os.path.join(os.getcwd(), \"..\", \"Params.yaml\")\n",
    "print(\"Parameter file, absolute path:\", os.path.abspath(paramPath))"
   ]
  },
  {
   "cell_type": "markdown",
   "metadata": {},
   "source": [
    "### Instantiating the extractor"
   ]
  },
  {
   "cell_type": "markdown",
   "metadata": {},
   "source": [
    "Now that we have our input, we need to define the parameters and instantiate the extractor.\n",
    "For this there are three possibilities:\n",
    "\n",
    "1. Use defaults, don't define custom settings\n",
    "\n",
    "2. Define parameters in a dictionary, control filters and features after initialisation\n",
    "\n",
    "3. Use a parameter file"
   ]
  },
  {
   "cell_type": "markdown",
   "metadata": {},
   "source": [
    "##### Method 1, use defaults"
   ]
  },
  {
   "cell_type": "code",
   "execution_count": 3,
   "metadata": {
    "collapsed": false
   },
   "outputs": [
    {
     "name": "stdout",
     "output_type": "stream",
     "text": [
      "Extraction parameters:\n",
      "\t {'resampledPixelSpacing': None, 'interpolator': 3, 'label': 1, 'verbose': False, 'padDistance': 5}\n",
      "Enabled filters:\n",
      "\t {'Original': {}}\n",
      "Enabled features:\n",
      "\t {'glcm': [], 'glrlm': [], 'glszm': [], 'shape': [], 'firstorder': []}\n"
     ]
    }
   ],
   "source": [
    "# Instantiate the extractor\n",
    "extractor = featureextractor.RadiomicsFeaturesExtractor()\n",
    "\n",
    "print(\"Extraction parameters:\\n\\t\", extractor.kwargs)\n",
    "print(\"Enabled filters:\\n\\t\", extractor.inputImages)\n",
    "print(\"Enabled features:\\n\\t\", extractor.enabledFeatures)"
   ]
  },
  {
   "cell_type": "markdown",
   "metadata": {},
   "source": [
    "##### Method 2, hard-coded settings:"
   ]
  },
  {
   "cell_type": "code",
   "execution_count": 4,
   "metadata": {
    "collapsed": false
   },
   "outputs": [
    {
     "name": "stdout",
     "output_type": "stream",
     "text": [
      "Extraction parameters:\n",
      "\t {'verbose': True, 'sigma': [1, 2, 3], 'binWidth': 20, 'resampledPixelSpacing': None, 'interpolator': 3, 'padDistance': 5, 'label': 1}\n",
      "Enabled filters:\n",
      "\t {'Original': {}}\n",
      "Enabled features:\n",
      "\t {'glcm': [], 'glrlm': [], 'glszm': [], 'shape': [], 'firstorder': []}\n"
     ]
    }
   ],
   "source": [
    "# First define the parameters\n",
    "params = {}\n",
    "params['binWidth'] = 20\n",
    "params['sigma'] = [1, 2, 3]\n",
    "params['verbose'] = True\n",
    "\n",
    "# Instantiate the extractor\n",
    "extractor = featureextractor.RadiomicsFeaturesExtractor(**params)  # ** 'unpacks' the dictionary in the function call\n",
    "\n",
    "print(\"Extraction parameters:\\n\\t\", extractor.kwargs)\n",
    "print(\"Enabled filters:\\n\\t\", extractor.inputImages)  # Still the default settings\n",
    "print(\"Enabled features:\\n\\t\", extractor.enabledFeatures)  # Still the default settings"
   ]
  },
  {
   "cell_type": "code",
   "execution_count": 5,
   "metadata": {
    "collapsed": false
   },
   "outputs": [
    {
     "name": "stdout",
     "output_type": "stream",
     "text": [
      "Extraction parameters:\n",
      "\t {'verbose': True, 'sigma': [1, 2, 3], 'binWidth': 20, 'resampledPixelSpacing': None, 'interpolator': 3, 'padDistance': 5, 'label': 1}\n",
      "Enabled filters:\n",
      "\t {'Original': {}}\n",
      "Enabled features:\n",
      "\t {'glcm': [], 'glrlm': [], 'glszm': [], 'shape': [], 'firstorder': []}\n"
     ]
    }
   ],
   "source": [
    "# This cell is equivalent to the previous cell\n",
    "extractor = featureextractor.RadiomicsFeaturesExtractor(binWidth=20, sigma=[1, 2, 3], verbose=True)  # Equivalent of code above\n",
    "\n",
    "print(\"Extraction parameters:\\n\\t\", extractor.kwargs)\n",
    "print(\"Enabled filters:\\n\\t\", extractor.inputImages)  # Still the default settings\n",
    "print(\"Enabled features:\\n\\t\", extractor.enabledFeatures)  # Still the default settings"
   ]
  },
  {
   "cell_type": "code",
   "execution_count": 6,
   "metadata": {
    "collapsed": false
   },
   "outputs": [
    {
     "name": "stdout",
     "output_type": "stream",
     "text": [
      "\n",
      "Enabled filters:\n",
      "\t {'LoG': {}, 'Original': {}}\n",
      "\n",
      "Enabled features:\n",
      "\t {'firstorder': []}\n",
      "\n",
      "Enabled features:\n",
      "\t {'glcm': ['Autocorrelation', 'Homogeneity1', 'SumSquares'], 'firstorder': []}\n"
     ]
    }
   ],
   "source": [
    "# Enable a filter (in addition to the 'Original' filter already enabled)\n",
    "extractor.enableInputImageByName('LoG')\n",
    "print(\"\")\n",
    "print(\"Enabled filters:\\n\\t\", extractor.inputImages)\n",
    "\n",
    "# Disable all feature classes, save firstorder\n",
    "extractor.disableAllFeatures()\n",
    "extractor.enableFeatureClassByName('firstorder')\n",
    "print(\"\")\n",
    "print(\"Enabled features:\\n\\t\", extractor.enabledFeatures)\n",
    "\n",
    "# Specify some additional features in the GLCM feature class\n",
    "extractor.enableFeaturesByName(glcm=['Autocorrelation', 'Homogeneity1', 'SumSquares'])\n",
    "print(\"\")\n",
    "print(\"Enabled features:\\n\\t\", extractor.enabledFeatures)"
   ]
  },
  {
   "cell_type": "markdown",
   "metadata": {},
   "source": [
    "##### Method 3, using a parameter file"
   ]
  },
  {
   "cell_type": "code",
   "execution_count": 7,
   "metadata": {
    "collapsed": false
   },
   "outputs": [
    {
     "name": "stdout",
     "output_type": "stream",
     "text": [
      "Extraction parameters:\n",
      "\t {'verbose': True, 'binWidth': 25, 'resampledPixelSpacing': None, 'weightingNorm': None, 'interpolator': 'sitkBSpline', 'padDistance': 5, 'label': 1}\n",
      "Enabled filters:\n",
      "\t {'Original': {}}\n",
      "Enabled features:\n",
      "\t {'glcm': None, 'glrlm': None, 'glszm': None, 'shape': None, 'firstorder': []}\n"
     ]
    }
   ],
   "source": [
    "# Instantiate the extractor\n",
    "extractor = featureextractor.RadiomicsFeaturesExtractor(paramPath)\n",
    "\n",
    "print(\"Extraction parameters:\\n\\t\", extractor.kwargs)\n",
    "print(\"Enabled filters:\\n\\t\", extractor.inputImages)\n",
    "print(\"Enabled features:\\n\\t\", extractor.enabledFeatures)"
   ]
  },
  {
   "cell_type": "markdown",
   "metadata": {
    "collapsed": true
   },
   "source": [
    "### Extract features"
   ]
  },
  {
   "cell_type": "markdown",
   "metadata": {},
   "source": [
    "Now that we have our extractor set up with the correct parameters, we can start extracting features:"
   ]
  },
  {
   "cell_type": "code",
   "execution_count": 8,
   "metadata": {
    "collapsed": false
   },
   "outputs": [
    {
     "name": "stderr",
     "output_type": "stream",
     "text": [
      "FAILED: Traceback (most recent call last):\n",
      "  File \"/Users/mader/anaconda/lib/python3.5/site-packages/pyradiomics-1.0.1.post5.dev0+g72ac3cb-py3.5.egg/radiomics/base.py\", line 73, in calculateFeatures\n",
      "    self.featureValues[feature] = eval(call)\n",
      "  File \"<string>\", line 1, in <module>\n",
      "  File \"/Users/mader/anaconda/lib/python3.5/site-packages/pyradiomics-1.0.1.post5.dev0+g72ac3cb-py3.5.egg/radiomics/shape.py\", line 228, in getMaximum2DDiameterColumnFeatureValue\n",
      "    return self._getMaximum2Ddiameter(1)\n",
      "  File \"/Users/mader/anaconda/lib/python3.5/site-packages/pyradiomics-1.0.1.post5.dev0+g72ac3cb-py3.5.egg/radiomics/shape.py\", line 126, in _getMaximum2Ddiameter\n",
      "    for i in numpy.unique(a[:, dim]):\n",
      "IndexError: too many indices for array\n",
      "\n",
      "FAILED: Traceback (most recent call last):\n",
      "  File \"/Users/mader/anaconda/lib/python3.5/site-packages/pyradiomics-1.0.1.post5.dev0+g72ac3cb-py3.5.egg/radiomics/base.py\", line 73, in calculateFeatures\n",
      "    self.featureValues[feature] = eval(call)\n",
      "  File \"<string>\", line 1, in <module>\n",
      "  File \"/Users/mader/anaconda/lib/python3.5/site-packages/pyradiomics-1.0.1.post5.dev0+g72ac3cb-py3.5.egg/radiomics/shape.py\", line 221, in getMaximum2DDiameterSliceFeatureValue\n",
      "    return self._getMaximum2Ddiameter(0)\n",
      "  File \"/Users/mader/anaconda/lib/python3.5/site-packages/pyradiomics-1.0.1.post5.dev0+g72ac3cb-py3.5.egg/radiomics/shape.py\", line 126, in _getMaximum2Ddiameter\n",
      "    for i in numpy.unique(a[:, dim]):\n",
      "IndexError: too many indices for array\n",
      "\n",
      "FAILED: Traceback (most recent call last):\n",
      "  File \"/Users/mader/anaconda/lib/python3.5/site-packages/pyradiomics-1.0.1.post5.dev0+g72ac3cb-py3.5.egg/radiomics/base.py\", line 73, in calculateFeatures\n",
      "    self.featureValues[feature] = eval(call)\n",
      "  File \"<string>\", line 1, in <module>\n",
      "  File \"/Users/mader/anaconda/lib/python3.5/site-packages/pyradiomics-1.0.1.post5.dev0+g72ac3cb-py3.5.egg/radiomics/shape.py\", line 235, in getMaximum2DDiameterRowFeatureValue\n",
      "    return self._getMaximum2Ddiameter(2)\n",
      "  File \"/Users/mader/anaconda/lib/python3.5/site-packages/pyradiomics-1.0.1.post5.dev0+g72ac3cb-py3.5.egg/radiomics/shape.py\", line 126, in _getMaximum2Ddiameter\n",
      "    for i in numpy.unique(a[:, dim]):\n",
      "IndexError: too many indices for array\n",
      "\n",
      "calculate GLCM:  24%|██▍       | 8/33 [00:00<00:00, 73.74it/s]"
     ]
    },
    {
     "name": "stdout",
     "output_type": "stream",
     "text": [
      "\t\tComputing shape\n"
     ]
    },
    {
     "name": "stderr",
     "output_type": "stream",
     "text": [
      "calculate GLCM: 100%|██████████| 33/33 [00:01<00:00, 32.69it/s]\n"
     ]
    },
    {
     "name": "stdout",
     "output_type": "stream",
     "text": [
      "\t\tComputing glcm\n"
     ]
    },
    {
     "name": "stderr",
     "output_type": "stream",
     "text": [
      "calculate GLSZM:  27%|██▋       | 9/33 [00:00<00:00, 89.69it/s]"
     ]
    },
    {
     "name": "stdout",
     "output_type": "stream",
     "text": [
      "\t\tComputing glrlm\n"
     ]
    },
    {
     "name": "stderr",
     "output_type": "stream",
     "text": [
      "calculate GLSZM: 100%|██████████| 33/33 [00:00<00:00, 72.79it/s]"
     ]
    },
    {
     "name": "stdout",
     "output_type": "stream",
     "text": [
      "\t\tComputing glszm\n",
      "\t\tComputing firstorder\n"
     ]
    },
    {
     "name": "stderr",
     "output_type": "stream",
     "text": [
      "\n"
     ]
    }
   ],
   "source": [
    "result = extractor.execute(imagePath, labelPath)"
   ]
  },
  {
   "cell_type": "code",
   "execution_count": 9,
   "metadata": {
    "collapsed": false,
    "scrolled": false
   },
   "outputs": [
    {
     "name": "stdout",
     "output_type": "stream",
     "text": [
      "Result type: <class 'collections.OrderedDict'>\n",
      "\n",
      "Calculated features\n",
      "\t general_info_BoundingBox : (162; 84; 11; 47; 70; 7)\n",
      "\t general_info_GeneralSettings : {'verbose': True; 'binWidth': 25; 'resampledPixelSpacing': None; 'weightingNorm': None; 'interpolator': 'sitkBSpline'; 'padDistance': 5; 'label': 1}\n",
      "\t general_info_ImageHash : 5c9ce3ca174f0f8324aa4d277e0fef82dc5ac566\n",
      "\t general_info_ImageSpacing : (0.7812499999999999; 0.7812499999999999; 6.499999999999998)\n",
      "\t general_info_InputImages : {'Original': {}}\n",
      "\t general_info_MaskHash : 9dc2c3137b31fd872997d92c9a92d5178126d9d3\n",
      "\t general_info_Version : v1.0.1.post5.dev0+g72ac3cb\n",
      "\t general_info_VolumeNum : 2\n",
      "\t general_info_VoxelNum : 4137\n",
      "\t original_shape_SurfaceArea : 6438.82160378\n",
      "\t original_shape_Sphericity : 0.485061744222\n",
      "\t original_shape_Maximum2DDiameterColumn : nan\n",
      "\t original_shape_Roundness : 0.6146906661500379\n",
      "\t original_shape_Compactness1 : 26.7546787215\n",
      "\t original_shape_SurfaceVolumeRatio : 0.392308261863\n",
      "\t original_shape_Maximum2DDiameterSlice : nan\n",
      "\t original_shape_Maximum3DDiameter : 65.53661458728622\n",
      "\t original_shape_Maximum2DDiameterRow : nan\n",
      "\t original_shape_Flatness : 1.2191850589688844\n",
      "\t original_shape_SphericalDisproportion : 2.06159321347\n",
      "\t original_shape_Volume : 16412.65869140624\n",
      "\t original_shape_Elongation : 1.7789885567018646\n",
      "\t original_shape_Compactness2 : 0.114127701901\n",
      "\t original_glcm_Homogeneity2 : 0.189156155892\n",
      "\t original_glcm_SumVariance : 895.891808819\n",
      "\t original_glcm_DifferenceAverage : 5.58932678922\n",
      "\t original_glcm_ClusterProminence : 26251.1709801\n",
      "\t original_glcm_DifferenceEntropy : 3.79686113536\n",
      "\t original_glcm_Autocorrelation : 292.684050471\n",
      "\t original_glcm_SumSquares : 39.9781084143\n",
      "\t original_glcm_Dissimilarity : 5.58932678922\n",
      "\t original_glcm_SumVariance2 : 103.142793792\n",
      "\t original_glcm_ClusterShade : -52.9707943386\n",
      "\t original_glcm_ClusterTendency : 103.142793792\n",
      "\t original_glcm_Imc2 : 0.692033706271\n",
      "\t original_glcm_SumEntropy : 5.31547876648\n",
      "\t original_glcm_Imc1 : -0.091940840043\n",
      "\t original_glcm_Energy : 0.00290880217681\n",
      "\t original_glcm_Correlation : 0.335214788202\n",
      "\t original_glcm_Idn : 0.866370546902\n",
      "\t original_glcm_Homogeneity1 : 0.276140402104\n",
      "\t original_glcm_Entropy : 8.79428086119\n",
      "\t original_glcm_DifferenceVariance : 17.6107741076\n",
      "\t original_glcm_Idm : 0.189156155892\n",
      "\t original_glcm_SumAverage : 33.4497492152\n",
      "\t original_glcm_AverageIntensity : 17.1242601309\n",
      "\t original_glcm_Id : 0.276140402104\n",
      "\t original_glcm_MaximumProbability : 0.00792784235012\n",
      "\t original_glcm_InverseVariance : 0.188666637795\n",
      "\t original_glcm_Contrast : 52.2310659277\n",
      "\t original_glcm_Idmn : 0.957796447609\n",
      "\t original_glrlm_LongRunHighGrayLevelEmphasis : 341.908225705\n",
      "\t original_glrlm_ShortRunEmphasis : 0.955813827306\n",
      "\t original_glrlm_LongRunLowGrayLevelEmphasis : 0.0104694333711\n",
      "\t original_glrlm_LowGrayLevelRunEmphasis : 0.00846567390082\n",
      "\t original_glrlm_GrayLevelNonUniformityNormalized : 0.0451916226163\n",
      "\t original_glrlm_RunVariance : 0.0849939088453\n",
      "\t original_glrlm_RunEntropy : 4.91343459806\n",
      "\t original_glrlm_RunLengthNonUniformityNormalized : 0.894736783551\n",
      "\t original_glrlm_LongRunEmphasis : 1.22741432468\n",
      "\t original_glrlm_GrayLevelNonUniformity : 174.640108304\n",
      "\t original_glrlm_RunPercentage : 0.934010152284\n",
      "\t original_glrlm_GrayLevelVariance : 39.074009627\n",
      "\t original_glrlm_HighGrayLevelRunEmphasis : 281.50156957\n",
      "\t original_glrlm_RunLengthNonUniformity : 3473.88954354\n",
      "\t original_glrlm_ShortRunLowGrayLevelEmphasis : 0.0080944625119\n",
      "\t original_glrlm_ShortRunHighGrayLevelEmphasis : 269.366654415\n",
      "\t original_glszm_ZoneEntropy : 6.5082149862\n",
      "\t original_glszm_HighIntensitySmallAreaEmphasis : 193.438051926\n",
      "\t original_glszm_HighIntensityLargeAreaEmphasis : 3514.76149733\n",
      "\t original_glszm_LowIntensityEmphasis : 0.00910094202771\n",
      "\t original_glszm_IntensityVariability : 82.3871657754\n",
      "\t original_glszm_LargeAreaEmphasis : 13.6155080214\n",
      "\t original_glszm_GrayLevelVariance : 40.6031399239\n",
      "\t original_glszm_ZoneVariance : 8.72123909749\n",
      "\t original_glszm_HighIntensityEmphasis : 288.623529412\n",
      "\t original_glszm_SizeZoneVariability : 747.596791444\n",
      "\t original_glszm_LowIntensitySmallAreaEmphasis : 0.0064169820551\n",
      "\t original_glszm_IntensityVariabilityNormalized : 0.0440573079013\n",
      "\t original_glszm_ZonePercentage : 0.4520183708\n",
      "\t original_glszm_SmallAreaEmphasis : 0.656447899959\n",
      "\t original_glszm_LowIntensityLargeAreaEmphasis : 0.127238415533\n",
      "\t original_glszm_SizeZoneVariabilityNormalized : 0.399784380451\n",
      "\t original_firstorder_Minimum : 468.0\n",
      "\t original_firstorder_RobustMeanAbsoluteDeviation : 103.00138343\n",
      "\t original_firstorder_Energy : 33122817481.0\n",
      "\t original_firstorder_RootMeanSquared : 2829.57282108\n",
      "\t original_firstorder_Mean : 825.235436307\n",
      "\t original_firstorder_Maximum : 1266.0\n",
      "\t original_firstorder_10Percentile : 632.0\n",
      "\t original_firstorder_Entropy : 4.6019355539\n",
      "\t original_firstorder_TotalEnergy : 131407662126.0\n",
      "\t original_firstorder_MeanAbsoluteDeviation : 133.447261953\n",
      "\t original_firstorder_Median : 812.0\n",
      "\t original_firstorder_Range : 798.0\n",
      "\t original_firstorder_StandardDeviation : 156.611235894\n",
      "\t original_firstorder_Skewness : 0.275650859086\n",
      "\t original_firstorder_Uniformity : 0.0451569635559\n",
      "\t original_firstorder_Variance : 24527.0792084\n",
      "\t original_firstorder_InterquartileRange : 253.0\n",
      "\t original_firstorder_90Percentile : 1044.4\n",
      "\t original_firstorder_Kurtosis : 2.18077293939\n"
     ]
    }
   ],
   "source": [
    "print(\"Result type:\", type(result))  # result is returned in a Python ordered dictionary\n",
    "print(\"\")\n",
    "print(\"Calculated features\")\n",
    "for key, value in result.items():\n",
    "    print(\"\\t\", key, \":\", value)"
   ]
  }
 ],
 "metadata": {
  "anaconda-cloud": {},
  "kernelspec": {
   "display_name": "Python [default]",
   "language": "python",
   "name": "python3"
  },
  "language_info": {
   "codemirror_mode": {
    "name": "ipython",
    "version": 3
   },
   "file_extension": ".py",
   "mimetype": "text/x-python",
   "name": "python",
   "nbconvert_exporter": "python",
   "pygments_lexer": "ipython3",
   "version": "3.5.2"
  }
 },
 "nbformat": 4,
 "nbformat_minor": 0
}
