{
 "cells": [
  {
   "cell_type": "markdown",
   "metadata": {},
   "source": [
    "#### Import all libraries"
   ]
  },
  {
   "cell_type": "code",
   "execution_count": 1,
   "metadata": {},
   "outputs": [],
   "source": [
    "from __future__ import print_function\n",
    "import os\n",
    "import collections\n",
    "import SimpleITK as sitk\n",
    "import numpy as np\n",
    "import six\n",
    "import radiomics\n",
    "from radiomics import firstorder, glcm, imageoperations, shape, glrlm, glszm, getTestCase\n",
    "import scipy as sp\n",
    "import matplotlib as mpl\n",
    "import matplotlib.pyplot as plt\n",
    "from pathlib import Path\n",
    "import sys\n",
    "import logging as logger\n",
    "import time\n",
    "import json\n",
    "import os\n",
    "import logging.config\n",
    "import pandas as pd\n",
    "import gc\n",
    "import math"
   ]
  },
  {
   "cell_type": "code",
   "execution_count": 2,
   "metadata": {},
   "outputs": [],
   "source": [
    "#Read the entire Benthiemer sandstone\n",
    "global image_1, label_1\n",
    "filename_ben = 'investigate_bent_8bit_1000cube.nrrd'\n",
    "image_1 = sitk.ReadImage('D:\\\\Ankita\\\\pyradiomics\\\\data\\\\investigate_bent_8bit_1000cube.nrrd')"
   ]
  },
  {
   "cell_type": "markdown",
   "metadata": {},
   "source": [
    "#### Extraction Settings"
   ]
  },
  {
   "cell_type": "code",
   "execution_count": 3,
   "metadata": {},
   "outputs": [],
   "source": [
    "settings = {}\n",
    "settings['label'] = 255"
   ]
  },
  {
   "cell_type": "code",
   "execution_count": 4,
   "metadata": {},
   "outputs": [
    {
     "ename": "NameError",
     "evalue": "name 'np' is not defined",
     "output_type": "error",
     "traceback": [
      "\u001b[1;31m---------------------------------------------------------------------------\u001b[0m",
      "\u001b[1;31mNameError\u001b[0m                                 Traceback (most recent call last)",
      "\u001b[1;32m<timed exec>\u001b[0m in \u001b[0;36m<module>\u001b[1;34m\u001b[0m\n",
      "\u001b[1;31mNameError\u001b[0m: name 'np' is not defined"
     ]
    }
   ],
   "source": [
    "%%time\n",
    "mask_x = 1000\n",
    "mask_y = 1000\n",
    "mask_z = 1000\n",
    "\n",
    "u_window_size = [25]\n",
    "global window_size, total_iter, expect_iter, i_loc, j_loc, z_loc, bb, correctedMask, croppedImage, croppedMask, glcm_window\n",
    "for window_size in u_window_size:     \n",
    "    total_iter = 0\n",
    "    my_entropy = []\n",
    "    step_x = window_size-1\n",
    "    step_y = window_size-1\n",
    "    step_z = window_size-1\n",
    "    \n",
    "    i_loc=0\n",
    "    j_loc=0\n",
    "    z_loc=0\n",
    "    i_loc_max = window_size\n",
    "    j_loc_max = window_size\n",
    "    z_loc_max = window_size\n",
    "    \n",
    "    while i_loc_max <= mask_x:\n",
    "        #print(\"I loop\", str(i_loc), str(i_loc_max), str(j_loc), str(j_loc_max), str(z_loc), str(z_loc_max))\n",
    "        j_loc_max = window_size\n",
    "        while j_loc_max <= mask_y:\n",
    "            #print(\"J loop\", str(i_loc), str(i_loc_max), str(j_loc), str(j_loc_max), str(z_loc), str(z_loc_max))\n",
    "            z_loc_max = window_size\n",
    "            while z_loc_max <= mask_z:\n",
    "                #print(\"Z loop\", str(i_loc), str(i_loc_max), str(j_loc), str(j_loc_max), str(z_loc), str(z_loc_max))\n",
    "                full_mask = np.zeros((mask_x, mask_y, mask_z), dtype = np.uint8)\n",
    "                full_mask[i_loc:i_loc_max,j_loc:j_loc_max,z_loc:z_loc_max] = 255\n",
    "                #print(full_mask)\n",
    "                \n",
    "                label_1 = sitk.GetImageFromArray(full_mask, isVector=False)\n",
    "                del full_mask\n",
    "\n",
    "                bb, correctedMask = imageoperations.checkMask(image_1, label_1, label=255)\n",
    "                if correctedMask is not None:\n",
    "                    label_1 = correctedMask\n",
    "                croppedImage, croppedMask = imageoperations.cropToTumorMask(image_1, label_1, bb)\n",
    "                del correctedMask, label_1\n",
    "\n",
    "                poro = my_entropy.append(val)\n",
    "                del key, val, result, glcmFeatures\n",
    "                \n",
    "                z_loc = z_loc + step_z\n",
    "                total_iter = total_iter + 1\n",
    "                print(total_iter)\n",
    "                z_loc_max = z_loc+window_size\n",
    "            \n",
    "            z_loc = 0\n",
    "            j_loc = j_loc + step_y\n",
    "            j_loc_max = j_loc+window_size\n",
    "        \n",
    "        j_loc = 0\n",
    "        i_loc = i_loc + step_x\n",
    "        i_loc_max = i_loc+window_size\n",
    "    \n",
    "    my_df = pd.DataFrame(my_entropy)\n",
    "    name_csv = 'entropy_window_' + str(window_size) + '.csv'\n",
    "    my_df.to_csv(name_csv, index=False, header=False)\n",
    "    print(\"Saved glcm values of window size \", str(window_size))\n",
    "    del my_df, name_csv   \n",
    "    print(\"Completed Calculations for Window \", str(window_size), \". The number of iterations is \", str(total_iter))"
   ]
  },
  {
   "cell_type": "code",
   "execution_count": 3,
   "metadata": {},
   "outputs": [
    {
     "data": {
      "text/plain": [
       "4"
      ]
     },
     "execution_count": 3,
     "metadata": {},
     "output_type": "execute_result"
    }
   ],
   "source": [
    "x = [0, 255, 0, 255, 255, 255]\n",
    "\n",
    "x.count(255)"
   ]
  },
  {
   "cell_type": "markdown",
   "metadata": {},
   "source": [
    "#### Only to be used for window sizes 600, 700, 800, 900"
   ]
  },
  {
   "cell_type": "code",
   "execution_count": null,
   "metadata": {},
   "outputs": [],
   "source": [
    "%%time\n",
    "mask_x = 1000\n",
    "mask_y = 1000\n",
    "mask_z = 1000\n",
    "\n",
    "u_window_size = [1000, 900, 800, 700, 600, 700, 600] \n",
    "global window_size, total_iter, expect_iter, i_loc, j_loc, z_loc, bb, correctedMask, croppedImage, croppedMask, glcm_window\n",
    "for window_size in u_window_size:     \n",
    "    total_iter = 0\n",
    "    my_entropy = []\n",
    "    \n",
    "    i_loc=0\n",
    "    j_loc=0\n",
    "    z_loc=0\n",
    "    i_loc_max = window_size\n",
    "    j_loc_max = window_size\n",
    "    z_loc_max = window_size\n",
    "    \n",
    "    #print(\"Z loop\", str(i_loc), str(i_loc_max), str(j_loc), str(j_loc_max), str(z_loc), str(z_loc_max))\n",
    "    full_mask = np.zeros((mask_x, mask_y, mask_z), dtype = np.uint8)\n",
    "    full_mask[i_loc:i_loc_max,j_loc:j_loc_max,z_loc:z_loc_max] = 255\n",
    "    #print(full_mask)\n",
    "\n",
    "    label_1 = sitk.GetImageFromArray(full_mask, isVector=False)\n",
    "    del full_mask\n",
    "\n",
    "    bb, correctedMask = imageoperations.checkMask(image_1, label_1, label=255)\n",
    "    if correctedMask is not None:\n",
    "        label_1 = correctedMask\n",
    "    croppedImage, croppedMask = imageoperations.cropToTumorMask(image_1, label_1, bb)\n",
    "    del correctedMask, label_1\n",
    "\n",
    "    #calculate secondorder stats\n",
    "    glcmFeatures = glcm.RadiomicsGLCM(croppedImage, croppedMask, **settings)\n",
    "    glcmFeatures.enableFeatureByName('JointEntropy', True)\n",
    "    result = glcmFeatures.execute()\n",
    "\n",
    "    #print('Calculated GLCM features: ')\n",
    "    for (key, val) in six.iteritems(result):\n",
    "        my_entropy.append(val)\n",
    "    del key, val, result, glcmFeatures\n",
    "    \n",
    "    my_df = pd.DataFrame(my_entropy)\n",
    "    name_csv = 'entropy_window_' + str(window_size) + '.csv'\n",
    "    my_df.to_csv(name_csv, index=False, header=False)\n",
    "    print(\"Saved glcm values of window size \", str(window_size))\n",
    "    del my_df, name_csv   \n",
    "    print(\"Completed Calculations for Window \", str(window_size), \". The number of iterations is \", str(total_iter))"
   ]
  }
 ],
 "metadata": {
  "kernelspec": {
   "display_name": "Python 3",
   "language": "python",
   "name": "python3"
  },
  "language_info": {
   "codemirror_mode": {
    "name": "ipython",
    "version": 3
   },
   "file_extension": ".py",
   "mimetype": "text/x-python",
   "name": "python",
   "nbconvert_exporter": "python",
   "pygments_lexer": "ipython3",
   "version": "3.6.8"
  }
 },
 "nbformat": 4,
 "nbformat_minor": 2
}
