{
 "cells": [
  {
   "cell_type": "markdown",
   "metadata": {},
   "source": [
    "#### Import all libraries"
   ]
  },
  {
   "cell_type": "code",
   "execution_count": 8,
   "metadata": {},
   "outputs": [],
   "source": [
    "from __future__ import print_function\n",
    "import os\n",
    "import collections\n",
    "import SimpleITK as sitk\n",
    "import numpy as np\n",
    "import six\n",
    "import radiomics\n",
    "from radiomics import firstorder, glcm, imageoperations, shape, glrlm, glszm, getTestCase\n",
    "import scipy as sp\n",
    "import matplotlib as mpl\n",
    "import matplotlib.pyplot as plt\n",
    "from pathlib import Path\n",
    "import sys\n",
    "import logging as logger\n",
    "import time\n",
    "import json\n",
    "import os\n",
    "import logging.config\n",
    "import pandas as pd\n",
    "import gc\n",
    "import math"
   ]
  },
  {
   "cell_type": "markdown",
   "metadata": {},
   "source": [
    "#### Extraction Settings"
   ]
  },
  {
   "cell_type": "code",
   "execution_count": 28,
   "metadata": {
    "scrolled": true
   },
   "outputs": [
    {
     "name": "stdout",
     "output_type": "stream",
     "text": [
      "Completely Overlapping Window Itertaions:\n",
      "Expected Calculations for Window 40 . The expected of iterations is  887503681\n",
      "Expected Calculations for Window 50 . The expected of iterations is  860085351\n",
      "Expected Calculations for Window 80 . The expected of iterations is  781229961\n",
      "Expected Calculations for Window 100 . The expected of iterations is  731432701\n",
      "Expected Calculations for Window 150 . The expected of iterations is  616295051\n",
      "Expected Calculations for Window 200 . The expected of iterations is  513922401\n",
      "Expected Calculations for Window 250 . The expected of iterations is  423564751\n",
      "Expected Calculations for Window 300 . The expected of iterations is  344472101\n",
      "Expected Calculations for Window 350 . The expected of iterations is  275894451\n",
      "Expected Calculations for Window 400 . The expected of iterations is  217081801\n",
      "Expected Calculations for Window 450 . The expected of iterations is  167284151\n",
      "Expected Calculations for Window 500 . The expected of iterations is  125751501\n",
      "Expected Calculations for Window 600 . The expected of iterations is  64481201\n",
      "Expected Calculations for Window 700 . The expected of iterations is  27270901\n",
      "Expected Calculations for Window 800 . The expected of iterations is  8120601\n",
      "Expected Calculations for Window 900 . The expected of iterations is  1030301\n",
      "Expected Calculations for Window 1000 . The expected of iterations is  1\n",
      "\n",
      "\n",
      "Only one pixel overlapping Window Itertaions:\n",
      "Expected Calculations for Window  40 . The number of iterations is  15625\n",
      "Expected Calculations for Window  50 . The number of iterations is  8000\n",
      "Expected Calculations for Window  80 . The number of iterations is  1728\n",
      "Expected Calculations for Window  100 . The number of iterations is  1000\n",
      "Expected Calculations for Window  150 . The number of iterations is  343\n",
      "Expected Calculations for Window  200 . The number of iterations is  125\n",
      "Expected Calculations for Window  250 . The number of iterations is  64\n",
      "Expected Calculations for Window  300 . The number of iterations is  27\n",
      "Expected Calculations for Window  350 . The number of iterations is  27\n",
      "Expected Calculations for Window  400 . The number of iterations is  8\n",
      "Expected Calculations for Window  450 . The number of iterations is  8\n",
      "Expected Calculations for Window  500 . The number of iterations is  8\n",
      "Expected Calculations for Window  600 . The number of iterations is  8\n",
      "Expected Calculations for Window  700 . The number of iterations is  1\n",
      "Expected Calculations for Window  800 . The number of iterations is  1\n",
      "Expected Calculations for Window  900 . The number of iterations is  1\n",
      "Expected Calculations for Window  1000 . The number of iterations is  1\n",
      "Wall time: 5 ms\n"
     ]
    }
   ],
   "source": [
    "%%time\n",
    "mask_x = 1000\n",
    "mask_y = 1000\n",
    "mask_z = 1000\n",
    "\n",
    "u_window_size = [40, 50, 80, 100, 150, 200, 250, 300, 350, 400, 450, 500, 600, 700, 800, 900, 1000]\n",
    "\n",
    "print(\"Completely Overlapping Window Itertaions:\")\n",
    "for window_size in u_window_size:\n",
    "    expect_iter = (mask_x - window_size + 1)**3\n",
    "    print(\"Expected Calculations for Window\", str(window_size), \". The expected of iterations is \", str(expect_iter))       \n",
    "    \n",
    "print(\"\\n\")\n",
    "print(\"Only one pixel overlapping Window Itertaions:\")\n",
    "for window_size in u_window_size:\n",
    "    remainder = mask_x % window_size\n",
    "    expect_iter = (round(mask_x / window_size))**3\n",
    "    print(\"Expected Calculations for Window \", str(window_size), \". The number of iterations is \", str(expect_iter))"
   ]
  },
  {
   "cell_type": "code",
   "execution_count": 29,
   "metadata": {},
   "outputs": [
    {
     "name": "stdout",
     "output_type": "stream",
     "text": [
      "Completely Overlapping Window Itertaions:\n",
      "Expected Calculations for Window 4 . The expected of iterations is  343\n",
      "\n",
      "\n",
      "Only one pixel overlapping Window Itertaions:\n",
      "Expected Calculations for Window  4 . The number of iterations is  8\n",
      "Wall time: 472 µs\n"
     ]
    }
   ],
   "source": [
    "%%time\n",
    "mask_x = 10\n",
    "mask_y = 10\n",
    "mask_z = 10\n",
    "\n",
    "u_window_size = [4]\n",
    "\n",
    "print(\"Completely Overlapping Window Itertaions:\")\n",
    "for window_size in u_window_size:\n",
    "    expect_iter = (mask_x - window_size + 1)**3\n",
    "    print(\"Expected Calculations for Window\", str(window_size), \". The expected of iterations is \", str(expect_iter))       \n",
    "    \n",
    "print(\"\\n\")\n",
    "print(\"Only one pixel overlapping Window Itertaions:\")\n",
    "for window_size in u_window_size:\n",
    "    remainder = mask_x % window_size\n",
    "    expect_iter = (round(mask_x / window_size))**3\n",
    "    print(\"Expected Calculations for Window \", str(window_size), \". The number of iterations is \", str(expect_iter))"
   ]
  },
  {
   "cell_type": "code",
   "execution_count": 40,
   "metadata": {},
   "outputs": [
    {
     "name": "stdout",
     "output_type": "stream",
     "text": [
      "Completely Overlapping Window Itertaions:\n",
      "Expected Calculations for Window 4 . The expected of iterations is  13\n",
      "\n",
      "\n",
      "Only one pixel overlapping Window Itertaions:\n",
      "0\n",
      "Expected Calculations for Window  4 . The number of iterations is  4.0\n",
      "Wall time: 500 µs\n"
     ]
    }
   ],
   "source": [
    "%%time\n",
    "mask_x = 16\n",
    "u_window_size = [4]\n",
    "\n",
    "print(\"Completely Overlapping Window Itertaions:\")\n",
    "for window_size in u_window_size:\n",
    "    expect_iter = (mask_x - window_size + 1)\n",
    "    print(\"Expected Calculations for Window\", str(window_size), \". The expected of iterations is \", str(expect_iter))       \n",
    "    \n",
    "print(\"\\n\")\n",
    "print(\"Only one pixel overlapping Window Itertaions:\")\n",
    "for window_size in u_window_size:\n",
    "    remainder = mask_x % window_size\n",
    "    expect_iter = ((mask_x / window_size))\n",
    "    print(remainder)\n",
    "    print(\"Expected Calculations for Window \", str(window_size), \". The number of iterations is \", str(expect_iter))"
   ]
  },
  {
   "cell_type": "code",
   "execution_count": null,
   "metadata": {},
   "outputs": [],
   "source": []
  }
 ],
 "metadata": {
  "kernelspec": {
   "display_name": "Python 3",
   "language": "python",
   "name": "python3"
  },
  "language_info": {
   "codemirror_mode": {
    "name": "ipython",
    "version": 3
   },
   "file_extension": ".py",
   "mimetype": "text/x-python",
   "name": "python",
   "nbconvert_exporter": "python",
   "pygments_lexer": "ipython3",
   "version": "3.6.8"
  }
 },
 "nbformat": 4,
 "nbformat_minor": 2
}
