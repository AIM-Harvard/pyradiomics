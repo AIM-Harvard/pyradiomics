{
 "cells": [
  {
   "cell_type": "markdown",
   "metadata": {},
   "source": [
    "#### Import all libraries"
   ]
  },
  {
   "cell_type": "code",
   "execution_count": 7,
   "metadata": {},
   "outputs": [],
   "source": [
    "from __future__ import print_function\n",
    "import os\n",
    "import collections\n",
    "import SimpleITK as sitk\n",
    "import numpy as np\n",
    "import six\n",
    "import radiomics\n",
    "from radiomics import firstorder, glcm, imageoperations, shape, glrlm, glszm, getTestCase\n",
    "import scipy as sp\n",
    "import matplotlib as mpl\n",
    "import matplotlib.pyplot as plt\n",
    "from pathlib import Path\n",
    "import sys\n",
    "import logging as logger\n",
    "import time\n",
    "import json\n",
    "import os\n",
    "import logging.config\n",
    "import pandas as pd\n",
    "import gc\n",
    "import math"
   ]
  },
  {
   "cell_type": "code",
   "execution_count": 8,
   "metadata": {},
   "outputs": [],
   "source": [
    "from IPython.core.interactiveshell import InteractiveShell\n",
    "InteractiveShell.ast_node_interactivity = \"all\""
   ]
  },
  {
   "cell_type": "code",
   "execution_count": 9,
   "metadata": {},
   "outputs": [],
   "source": [
    "#Read the entire Benthiemer sandstone\n",
    "global image_1, label_1\n",
    "#change the path to the correct directory before running the code\n",
    "# please note: the dimensions of the image is 800 x 800 x 800\n",
    "image_1 = sitk.ReadImage('D:\\\\Ankita PhD\\\\pyradiomics\\\\data\\\\sandpack_nrrd_16bit_800cube.nrrd')"
   ]
  },
  {
   "cell_type": "markdown",
   "metadata": {},
   "source": [
    "#### Extraction Settings"
   ]
  },
  {
   "cell_type": "code",
   "execution_count": 10,
   "metadata": {},
   "outputs": [],
   "source": [
    "settings = {}\n",
    "settings['label'] = 255\n",
    "settings['binWidth'] = 710\n",
    "settings['padDistance'] = 0\n",
    "settings['distances'] = [1]"
   ]
  },
  {
   "cell_type": "markdown",
   "metadata": {},
   "source": [
    "#### Log messages"
   ]
  },
  {
   "cell_type": "code",
   "execution_count": 11,
   "metadata": {},
   "outputs": [],
   "source": [
    "log_file = 'D:\\\\Ankita PhD\\\\pyradiomics\\\\log_messages\\\\log_sandpack_16bit_b710.txt'\n",
    "handler = logging.FileHandler(filename=log_file, mode='w')  # overwrites log_files from previous runs. Change mode to 'a' to append.\n",
    "formatter = logging.Formatter(\"%(levelname)s:%(name)s: %(message)s\")  # format string for log messages\n",
    "handler.setFormatter(formatter)\n",
    "radiomics.logger.addHandler(handler)\n",
    "\n",
    "# Control the amount of logging stored by setting the level of the logger. N.B. if the level is higher than the\n",
    "# Verbositiy level, the logger level will also determine the amount of information printed to the output\n",
    "radiomics.logger.setLevel(logging.DEBUG)"
   ]
  },
  {
   "cell_type": "code",
   "execution_count": 12,
   "metadata": {
    "scrolled": true
   },
   "outputs": [
    {
     "name": "stdout",
     "output_type": "stream",
     "text": [
      "Calculating GLSZM features...\n",
      "done\n",
      "Calculated GLSZM features: \n",
      "Completed Domain Calculations for Window  10\n",
      "Calculating GLSZM features...\n",
      "done\n",
      "Calculated GLSZM features: \n",
      "Completed Domain Calculations for Window  20\n",
      "Calculating GLSZM features...\n",
      "done\n",
      "Calculated GLSZM features: \n",
      "Completed Domain Calculations for Window  30\n",
      "Calculating GLSZM features...\n",
      "done\n",
      "Calculated GLSZM features: \n",
      "Completed Domain Calculations for Window  40\n",
      "Calculating GLSZM features...\n",
      "done\n",
      "Calculated GLSZM features: \n",
      "Completed Domain Calculations for Window  50\n",
      "Calculating GLSZM features...\n",
      "done\n",
      "Calculated GLSZM features: \n",
      "Completed Domain Calculations for Window  60\n",
      "Calculating GLSZM features...\n",
      "done\n",
      "Calculated GLSZM features: \n",
      "Completed Domain Calculations for Window  100\n",
      "Calculating GLSZM features...\n",
      "done\n",
      "Calculated GLSZM features: \n",
      "Completed Domain Calculations for Window  150\n",
      "Calculating GLSZM features...\n",
      "done\n",
      "Calculated GLSZM features: \n",
      "Completed Domain Calculations for Window  200\n",
      "Calculating GLSZM features...\n",
      "done\n",
      "Calculated GLSZM features: \n",
      "Completed Domain Calculations for Window  250\n",
      "Calculating GLSZM features...\n",
      "done\n",
      "Calculated GLSZM features: \n",
      "Completed Domain Calculations for Window  300\n",
      "Calculating GLSZM features...\n",
      "done\n",
      "Calculated GLSZM features: \n",
      "Completed Domain Calculations for Window  350\n",
      "Calculating GLSZM features...\n",
      "done\n",
      "Calculated GLSZM features: \n",
      "Completed Domain Calculations for Window  400\n",
      "Calculating GLSZM features...\n",
      "done\n",
      "Calculated GLSZM features: \n",
      "Completed Domain Calculations for Window  450\n",
      "Calculating GLSZM features...\n"
     ]
    },
    {
     "ename": "RuntimeError",
     "evalue": "Number of elements in GLSZM would overflow index variable! Increase bin width to prevent this error.",
     "output_type": "error",
     "traceback": [
      "\u001b[1;31m---------------------------------------------------------------------------\u001b[0m",
      "\u001b[1;31mRuntimeError\u001b[0m                              Traceback (most recent call last)",
      "\u001b[1;32m<timed exec>\u001b[0m in \u001b[0;36m<module>\u001b[1;34m\u001b[0m\n",
      "\u001b[1;32m~\\Anaconda3\\envs\\Pyratomo\\lib\\site-packages\\radiomics\\base.py\u001b[0m in \u001b[0;36mexecute\u001b[1;34m(self)\u001b[0m\n\u001b[0;32m    183\u001b[0m       \u001b[0mself\u001b[0m\u001b[1;33m.\u001b[0m\u001b[0m_calculateVoxels\u001b[0m\u001b[1;33m(\u001b[0m\u001b[1;33m)\u001b[0m\u001b[1;33m\u001b[0m\u001b[1;33m\u001b[0m\u001b[0m\n\u001b[0;32m    184\u001b[0m     \u001b[1;32melse\u001b[0m\u001b[1;33m:\u001b[0m\u001b[1;33m\u001b[0m\u001b[1;33m\u001b[0m\u001b[0m\n\u001b[1;32m--> 185\u001b[1;33m       \u001b[0mself\u001b[0m\u001b[1;33m.\u001b[0m\u001b[0m_calculateSegment\u001b[0m\u001b[1;33m(\u001b[0m\u001b[1;33m)\u001b[0m\u001b[1;33m\u001b[0m\u001b[1;33m\u001b[0m\u001b[0m\n\u001b[0m\u001b[0;32m    186\u001b[0m \u001b[1;33m\u001b[0m\u001b[0m\n\u001b[0;32m    187\u001b[0m     \u001b[1;32mreturn\u001b[0m \u001b[0mself\u001b[0m\u001b[1;33m.\u001b[0m\u001b[0mfeatureValues\u001b[0m\u001b[1;33m\u001b[0m\u001b[1;33m\u001b[0m\u001b[0m\n",
      "\u001b[1;32m~\\Anaconda3\\envs\\Pyratomo\\lib\\site-packages\\radiomics\\base.py\u001b[0m in \u001b[0;36m_calculateSegment\u001b[1;34m(self)\u001b[0m\n\u001b[0;32m    225\u001b[0m   \u001b[1;32mdef\u001b[0m \u001b[0m_calculateSegment\u001b[0m\u001b[1;33m(\u001b[0m\u001b[0mself\u001b[0m\u001b[1;33m)\u001b[0m\u001b[1;33m:\u001b[0m\u001b[1;33m\u001b[0m\u001b[1;33m\u001b[0m\u001b[0m\n\u001b[0;32m    226\u001b[0m     \u001b[1;31m# Get the feature values using the current segment.\u001b[0m\u001b[1;33m\u001b[0m\u001b[1;33m\u001b[0m\u001b[1;33m\u001b[0m\u001b[0m\n\u001b[1;32m--> 227\u001b[1;33m     \u001b[1;32mfor\u001b[0m \u001b[0msuccess\u001b[0m\u001b[1;33m,\u001b[0m \u001b[0mfeatureName\u001b[0m\u001b[1;33m,\u001b[0m \u001b[0mfeatureValue\u001b[0m \u001b[1;32min\u001b[0m \u001b[0mself\u001b[0m\u001b[1;33m.\u001b[0m\u001b[0m_calculateFeatures\u001b[0m\u001b[1;33m(\u001b[0m\u001b[1;33m)\u001b[0m\u001b[1;33m:\u001b[0m\u001b[1;33m\u001b[0m\u001b[1;33m\u001b[0m\u001b[0m\n\u001b[0m\u001b[0;32m    228\u001b[0m       \u001b[1;31m# Always store the result. In case of an error, featureValue will be NaN\u001b[0m\u001b[1;33m\u001b[0m\u001b[1;33m\u001b[0m\u001b[1;33m\u001b[0m\u001b[0m\n\u001b[0;32m    229\u001b[0m       \u001b[0mself\u001b[0m\u001b[1;33m.\u001b[0m\u001b[0mfeatureValues\u001b[0m\u001b[1;33m[\u001b[0m\u001b[0mfeatureName\u001b[0m\u001b[1;33m]\u001b[0m \u001b[1;33m=\u001b[0m \u001b[0mnumpy\u001b[0m\u001b[1;33m.\u001b[0m\u001b[0msqueeze\u001b[0m\u001b[1;33m(\u001b[0m\u001b[0mfeatureValue\u001b[0m\u001b[1;33m)\u001b[0m\u001b[1;33m\u001b[0m\u001b[1;33m\u001b[0m\u001b[0m\n",
      "\u001b[1;32m~\\Anaconda3\\envs\\Pyratomo\\lib\\site-packages\\radiomics\\base.py\u001b[0m in \u001b[0;36m_calculateFeatures\u001b[1;34m(self, voxelCoordinates)\u001b[0m\n\u001b[0;32m    232\u001b[0m     \u001b[1;31m# Initialize the calculation\u001b[0m\u001b[1;33m\u001b[0m\u001b[1;33m\u001b[0m\u001b[1;33m\u001b[0m\u001b[0m\n\u001b[0;32m    233\u001b[0m     \u001b[1;31m# This function serves to calculate the texture matrices where applicable\u001b[0m\u001b[1;33m\u001b[0m\u001b[1;33m\u001b[0m\u001b[1;33m\u001b[0m\u001b[0m\n\u001b[1;32m--> 234\u001b[1;33m     \u001b[0mself\u001b[0m\u001b[1;33m.\u001b[0m\u001b[0m_initCalculation\u001b[0m\u001b[1;33m(\u001b[0m\u001b[0mvoxelCoordinates\u001b[0m\u001b[1;33m)\u001b[0m\u001b[1;33m\u001b[0m\u001b[1;33m\u001b[0m\u001b[0m\n\u001b[0m\u001b[0;32m    235\u001b[0m \u001b[1;33m\u001b[0m\u001b[0m\n\u001b[0;32m    236\u001b[0m     \u001b[0mself\u001b[0m\u001b[1;33m.\u001b[0m\u001b[0mlogger\u001b[0m\u001b[1;33m.\u001b[0m\u001b[0mdebug\u001b[0m\u001b[1;33m(\u001b[0m\u001b[1;34m'Calculating features'\u001b[0m\u001b[1;33m)\u001b[0m\u001b[1;33m\u001b[0m\u001b[1;33m\u001b[0m\u001b[0m\n",
      "\u001b[1;32m~\\Anaconda3\\envs\\Pyratomo\\lib\\site-packages\\radiomics\\glszm.py\u001b[0m in \u001b[0;36m_initCalculation\u001b[1;34m(self, voxelCoordinates)\u001b[0m\n\u001b[0;32m     63\u001b[0m \u001b[1;33m\u001b[0m\u001b[0m\n\u001b[0;32m     64\u001b[0m   \u001b[1;32mdef\u001b[0m \u001b[0m_initCalculation\u001b[0m\u001b[1;33m(\u001b[0m\u001b[0mself\u001b[0m\u001b[1;33m,\u001b[0m \u001b[0mvoxelCoordinates\u001b[0m\u001b[1;33m=\u001b[0m\u001b[1;32mNone\u001b[0m\u001b[1;33m)\u001b[0m\u001b[1;33m:\u001b[0m\u001b[1;33m\u001b[0m\u001b[1;33m\u001b[0m\u001b[0m\n\u001b[1;32m---> 65\u001b[1;33m     \u001b[0mself\u001b[0m\u001b[1;33m.\u001b[0m\u001b[0mP_glszm\u001b[0m \u001b[1;33m=\u001b[0m \u001b[0mself\u001b[0m\u001b[1;33m.\u001b[0m\u001b[0m_calculateMatrix\u001b[0m\u001b[1;33m(\u001b[0m\u001b[0mvoxelCoordinates\u001b[0m\u001b[1;33m)\u001b[0m\u001b[1;33m\u001b[0m\u001b[1;33m\u001b[0m\u001b[0m\n\u001b[0m\u001b[0;32m     66\u001b[0m \u001b[1;33m\u001b[0m\u001b[0m\n\u001b[0;32m     67\u001b[0m     \u001b[0mself\u001b[0m\u001b[1;33m.\u001b[0m\u001b[0m_calculateCoefficients\u001b[0m\u001b[1;33m(\u001b[0m\u001b[1;33m)\u001b[0m\u001b[1;33m\u001b[0m\u001b[1;33m\u001b[0m\u001b[0m\n",
      "\u001b[1;32m~\\Anaconda3\\envs\\Pyratomo\\lib\\site-packages\\radiomics\\glszm.py\u001b[0m in \u001b[0;36m_calculateMatrix\u001b[1;34m(self, voxelCoordinates)\u001b[0m\n\u001b[0;32m     91\u001b[0m       \u001b[0mmatrix_args\u001b[0m \u001b[1;33m+=\u001b[0m \u001b[1;33m[\u001b[0m\u001b[0mself\u001b[0m\u001b[1;33m.\u001b[0m\u001b[0msettings\u001b[0m\u001b[1;33m.\u001b[0m\u001b[0mget\u001b[0m\u001b[1;33m(\u001b[0m\u001b[1;34m'kernelRadius'\u001b[0m\u001b[1;33m,\u001b[0m \u001b[1;36m1\u001b[0m\u001b[1;33m)\u001b[0m\u001b[1;33m,\u001b[0m \u001b[0mvoxelCoordinates\u001b[0m\u001b[1;33m]\u001b[0m\u001b[1;33m\u001b[0m\u001b[1;33m\u001b[0m\u001b[0m\n\u001b[0;32m     92\u001b[0m \u001b[1;33m\u001b[0m\u001b[0m\n\u001b[1;32m---> 93\u001b[1;33m     \u001b[0mP_glszm\u001b[0m \u001b[1;33m=\u001b[0m \u001b[0mcMatrices\u001b[0m\u001b[1;33m.\u001b[0m\u001b[0mcalculate_glszm\u001b[0m\u001b[1;33m(\u001b[0m\u001b[1;33m*\u001b[0m\u001b[0mmatrix_args\u001b[0m\u001b[1;33m)\u001b[0m  \u001b[1;31m# shape (Nvox, Ng, Ns)\u001b[0m\u001b[1;33m\u001b[0m\u001b[1;33m\u001b[0m\u001b[0m\n\u001b[0m\u001b[0;32m     94\u001b[0m \u001b[1;33m\u001b[0m\u001b[0m\n\u001b[0;32m     95\u001b[0m     \u001b[1;31m# Delete rows that specify gray levels not present in the ROI\u001b[0m\u001b[1;33m\u001b[0m\u001b[1;33m\u001b[0m\u001b[1;33m\u001b[0m\u001b[0m\n",
      "\u001b[1;31mRuntimeError\u001b[0m: Number of elements in GLSZM would overflow index variable! Increase bin width to prevent this error."
     ]
    }
   ],
   "source": [
    "%%time\n",
    "# the size of the mask should be the same as that of the image\n",
    "mask_x = 800\n",
    "mask_y = 800\n",
    "mask_z = 800\n",
    "\n",
    "v1 = []\n",
    "v2 = []\n",
    "v3 = []\n",
    "v4 = []\n",
    "v5 = []\n",
    "v6 = []\n",
    "v7 = []\n",
    "v8 = []\n",
    "v9 = []\n",
    "v10 = []\n",
    "v11 = []\n",
    "v12 = []\n",
    "v13 = []\n",
    "v14 = []\n",
    "v15 = []\n",
    "v16 = []\n",
    "\n",
    "# here the window_size refers to the region of mask that will be used to segment the ROI from the image. The window\n",
    "# sizes increase with every iteration\n",
    "u_window_size = [10, 20, 30, 40, 50, 60, 100, 150, 200, 250, 300, 350, 400, 450, 500, 550, 600, 650, 700, 750, 800]\n",
    "global window_size, total_iter, expect_iter, i_loc, j_loc, z_loc, bb, correctedMask, croppedImage, croppedMask, glcm_window\n",
    "for window_size in u_window_size:  \n",
    "    \n",
    "    i_loc = int((mask_x - window_size)/2)\n",
    "    j_loc = int((mask_y - window_size)/2)\n",
    "    k_loc = int((mask_z - window_size)/2)\n",
    "    \n",
    "    # Generate the mask\n",
    "    full_mask = np.zeros((mask_x, mask_y, mask_z), dtype = np.uint8)\n",
    "    full_mask[i_loc:i_loc+window_size,j_loc:j_loc+window_size,k_loc:k_loc+window_size] = 255\n",
    "    #print(\"Window Location\", str(i_loc), str(i_loc+window_size), str(j_loc), str(j_loc+window_size), str(k_loc), str(k_loc+window_size))\n",
    "    label_1 = sitk.GetImageFromArray(full_mask, isVector=False)\n",
    "    del full_mask\n",
    "\n",
    "    bb, correctedMask = imageoperations.checkMask(image_1, label_1, label=255)\n",
    "    if correctedMask is not None:\n",
    "        label_1 = correctedMask\n",
    "    croppedImage, croppedMask = imageoperations.cropToTumorMask(image_1, label_1, bb)\n",
    "    del correctedMask, label_1\n",
    "\n",
    "    #calculate secondorder stats\n",
    "    glszmFeatures = glszm.RadiomicsGLSZM(croppedImage, croppedMask, **settings)\n",
    "    glszmFeatures.enableAllFeatures()\n",
    "    print('Calculating GLSZM features...',)\n",
    "    result = glszmFeatures.execute()\n",
    "    print('done')\n",
    "\n",
    "    print('Calculated GLSZM features: ')\n",
    "    for (key, val) in six.iteritems(result):\n",
    "        if key =='GrayLevelNonUniformity':\n",
    "            v1.append(val)\n",
    "        if key =='GrayLevelNonUniformityNormalized':\n",
    "            v2.append(val)\n",
    "        if key =='GrayLevelVariance':\n",
    "            v3.append(val)\n",
    "        if key =='HighGrayLevelZoneEmphasis':\n",
    "            v4.append(val)\n",
    "        if key == 'LargeAreaEmphasis':\n",
    "            v5.append(val)\n",
    "        if key == 'LargeAreaHighGrayLevelEmphasis':\n",
    "            v6.append(val)\n",
    "        if key == 'LargeAreaLowGrayLevelEmphasis':\n",
    "            v7.append(val)\n",
    "        if key == 'LowGrayLevelZoneEmphasis':\n",
    "            v8.append(val) \n",
    "        if key == 'SizeZoneNonUniformity':\n",
    "            v9.append(val)\n",
    "        if key == 'SizeZoneNonUniformityNormalized':\n",
    "            v10.append(val)\n",
    "        if key == 'SmallAreaEmphasis':\n",
    "            v11.append(val)\n",
    "        if key == 'SmallAreaHighGrayLevelEmphasis':\n",
    "            v12.append(val)\n",
    "        if key == 'SmallAreaLowGrayLevelEmphasis':\n",
    "            v13.append(val)\n",
    "        if key == 'ZoneEntropy':\n",
    "            v14.append(val)\n",
    "        if key == 'ZonePercentage':\n",
    "            v15.append(val)\n",
    "        if key == 'ZoneVariance':\n",
    "            v16.append(val)\n",
    "\n",
    "    print(\"Completed Domain Calculations for Window \", str(window_size))"
   ]
  },
  {
   "cell_type": "code",
   "execution_count": 7,
   "metadata": {},
   "outputs": [
    {
     "data": {
      "text/plain": [
       "array([[[1., 0., 0., ..., 0., 0., 0.],\n",
       "        [2., 0., 0., ..., 0., 0., 0.],\n",
       "        [2., 1., 0., ..., 0., 0., 0.],\n",
       "        ...,\n",
       "        [0., 2., 1., ..., 0., 0., 0.],\n",
       "        [1., 0., 0., ..., 0., 0., 0.],\n",
       "        [2., 0., 0., ..., 0., 0., 0.]]])"
      ]
     },
     "execution_count": 7,
     "metadata": {},
     "output_type": "execute_result"
    }
   ],
   "source": [
    "glszmFeatures.P_glszm"
   ]
  },
  {
   "cell_type": "code",
   "execution_count": 8,
   "metadata": {},
   "outputs": [
    {
     "data": {
      "text/plain": [
       "array([ 1,  2,  3,  4,  5,  6,  7,  8,  9, 10, 11, 12, 13, 14, 15, 16, 17,\n",
       "       18, 19, 20, 21, 22, 23, 24, 25, 26, 27, 28, 29, 30, 31, 32, 33, 34,\n",
       "       35, 36, 37, 38, 39, 40, 41, 42, 43, 44, 45, 46, 47, 48, 49, 50, 51,\n",
       "       52, 53, 54, 55, 56, 57, 58], dtype=uint16)"
      ]
     },
     "execution_count": 8,
     "metadata": {},
     "output_type": "execute_result"
    }
   ],
   "source": [
    "graylevels = glszmFeatures.coefficients['grayLevels']\n",
    "graylevels"
   ]
  },
  {
   "cell_type": "raw",
   "metadata": {},
   "source": [
    "my_df = pd.DataFrame(list(zip(v1, v2, v3, v4, v5, v6, v7, v8, v9, v10, v11, v12, v13, v14, v15, v16)))\n",
    "name_csv = 'glszm_sandpack_16bit_dc_b2000.csv'\n",
    "my_df.to_csv(name_csv, index=False, header=False)"
   ]
  },
  {
   "cell_type": "code",
   "execution_count": null,
   "metadata": {},
   "outputs": [],
   "source": []
  }
 ],
 "metadata": {
  "kernelspec": {
   "display_name": "Pyratomo",
   "language": "python",
   "name": "pyratomo"
  },
  "language_info": {
   "codemirror_mode": {
    "name": "ipython",
    "version": 3
   },
   "file_extension": ".py",
   "mimetype": "text/x-python",
   "name": "python",
   "nbconvert_exporter": "python",
   "pygments_lexer": "ipython3",
   "version": "3.6.8"
  }
 },
 "nbformat": 4,
 "nbformat_minor": 2
}
