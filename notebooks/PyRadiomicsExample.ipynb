{
 "cells": [
  {
   "cell_type": "markdown",
   "metadata": {},
   "source": [
    "# Example of using the PyRadiomics toolbox in Python"
   ]
  },
  {
   "cell_type": "markdown",
   "metadata": {},
   "source": [
    "First, import some built-in Python modules needed to get our testing data.\n",
    "Second, import the toolbox, only the `featureextractor` is needed, this module handles the interaction with other parts of the toolbox."
   ]
  },
  {
   "cell_type": "code",
   "execution_count": 1,
   "metadata": {
    "collapsed": true
   },
   "outputs": [],
   "source": [
    "from __future__ import print_function\n",
    "import six\n",
    "import os  # needed navigate the system to get the input data\n",
    "\n",
    "import radiomics\n",
    "from radiomics import featureextractor  # This module is used for interaction with pyradiomics"
   ]
  },
  {
   "cell_type": "markdown",
   "metadata": {},
   "source": [
    "### Setting up data"
   ]
  },
  {
   "cell_type": "markdown",
   "metadata": {},
   "source": [
    "Before we can extract features, we need to get the input data, define the parameters for the extraction and instantiate the class contained within `featureextractor`.\n",
    "\n",
    "In the next cell we get our testing data, this consists of an image and corresponding segmentation. This is also available from the PyRadiomics repository and is stored in `\\pyradiomics\\data`. The test case can be obtained using `radiomic.getTestCase`. This function returns the file location of the image and mask of the requested test case. If no locally available test case can be found, PyRadiomics downloads it from GitHub and stores it in temporary files. By specifying the (relative) path to the repository root, PyRadiomics is able to find test data included in the repository, preventing unnecessary downloads. If the this path is invalid (test case files not found), PyRadiomics will also revert to downloading it."
   ]
  },
  {
   "cell_type": "code",
   "execution_count": 2,
   "metadata": {
    "collapsed": false
   },
   "outputs": [
    {
     "name": "stdout",
     "output_type": "stream",
     "text": [
      "repositoryRoot, relative path: E:\\Git-Repos\\pyradiomics\\notebooks\\..\n",
      "repositoryRoot, absolute path: E:\\Git-Repos\\pyradiomics\n",
      "Parameter file, absolute path: E:\\Git-Repos\\pyradiomics\\examples\\exampleSettings\\Params.yaml\n"
     ]
    }
   ],
   "source": [
    "# Get the location of the repository, relative to this Notebook (assumes it is run from \\pyradiomics\\bin\\Notebooks)\n",
    "repositoryRoot = os.path.join(os.getcwd(), '..')\n",
    "print('repositoryRoot, relative path:', repositoryRoot)\n",
    "print('repositoryRoot, absolute path:', os.path.abspath(repositoryRoot))\n",
    "\n",
    "# Get the testCase\n",
    "imagePath, maskPath = radiomics.getTestCase('brain1', repositoryRoot)\n",
    "\n",
    "if imagePath is None or maskPath is None:  # Something went wrong, in this case PyRadiomics will also log an error\n",
    "    raise Exception('Error getting testcase!')  # Raise exception to prevent cells below from running in case of \"run all\"\n",
    "\n",
    "# Additonally, store the location of the example parameter file, stored in \\pyradiomics\\examples/exampleSettings\n",
    "paramPath = os.path.join(os.getcwd(), '..', 'examples', 'exampleSettings', 'Params.yaml')\n",
    "print('Parameter file, absolute path:', os.path.abspath(paramPath))"
   ]
  },
  {
   "cell_type": "markdown",
   "metadata": {},
   "source": [
    "### Instantiating the extractor"
   ]
  },
  {
   "cell_type": "markdown",
   "metadata": {},
   "source": [
    "Now that we have our input, we need to define the parameters and instantiate the extractor.\n",
    "For this there are three possibilities:\n",
    "\n",
    "1. Use defaults, don't define custom settings\n",
    "\n",
    "2. Define parameters in a dictionary, control filters and features after initialisation\n",
    "\n",
    "3. Use a parameter file"
   ]
  },
  {
   "cell_type": "markdown",
   "metadata": {},
   "source": [
    "##### Method 1, use defaults"
   ]
  },
  {
   "cell_type": "code",
   "execution_count": 3,
   "metadata": {
    "collapsed": false
   },
   "outputs": [
    {
     "name": "stdout",
     "output_type": "stream",
     "text": [
      "Extraction parameters:\n",
      "\t {'distances': [1], 'additionalInfo': True, 'enableCExtensions': True, 'force2D': False, 'interpolator': 'sitkBSpline', 'resampledPixelSpacing': None, 'label': 1, 'normalizeScale': 1, 'normalize': False, 'force2Ddimension': 0, 'removeOutliers': None, 'minimumROISize': None, 'minimumROIDimensions': 1, 'padDistance': 5}\n",
      "Enabled filters:\n",
      "\t {'Original': {}}\n",
      "Enabled features:\n",
      "\t {'firstorder': [], 'glcm': [], 'shape': [], 'glrlm': [], 'glszm': []}\n"
     ]
    }
   ],
   "source": [
    "# Instantiate the extractor\n",
    "extractor = featureextractor.RadiomicsFeaturesExtractor()\n",
    "\n",
    "print('Extraction parameters:\\n\\t', extractor.settings)\n",
    "print('Enabled filters:\\n\\t', extractor._enabledImagetypes)\n",
    "print('Enabled features:\\n\\t', extractor._enabledFeatures)"
   ]
  },
  {
   "cell_type": "markdown",
   "metadata": {},
   "source": [
    "##### Method 2, hard-coded settings:"
   ]
  },
  {
   "cell_type": "code",
   "execution_count": 4,
   "metadata": {
    "collapsed": false
   },
   "outputs": [
    {
     "name": "stdout",
     "output_type": "stream",
     "text": [
      "Extraction parameters:\n",
      "\t {'distances': [1], 'additionalInfo': True, 'enableCExtensions': True, 'force2D': False, 'interpolator': 'sitkBSpline', 'resampledPixelSpacing': None, 'label': 1, 'normalizeScale': 1, 'normalize': False, 'force2Ddimension': 0, 'removeOutliers': None, 'minimumROISize': None, 'binWidth': 20, 'minimumROIDimensions': 1, 'sigma': [1, 2, 3], 'padDistance': 5}\n",
      "Enabled filters:\n",
      "\t {'Original': {}}\n",
      "Enabled features:\n",
      "\t {'firstorder': [], 'glcm': [], 'shape': [], 'glrlm': [], 'glszm': []}\n"
     ]
    }
   ],
   "source": [
    "# First define the settings\n",
    "settings = {}\n",
    "settings['binWidth'] = 20\n",
    "settings['sigma'] = [1, 2, 3]\n",
    "\n",
    "# Instantiate the extractor\n",
    "extractor = featureextractor.RadiomicsFeaturesExtractor(**settings)  # ** 'unpacks' the dictionary in the function call\n",
    "\n",
    "print('Extraction parameters:\\n\\t', extractor.settings)\n",
    "print('Enabled filters:\\n\\t', extractor._enabledImagetypes)  # Still the default parameters\n",
    "print('Enabled features:\\n\\t', extractor._enabledFeatures)  # Still the default parameters"
   ]
  },
  {
   "cell_type": "code",
   "execution_count": 5,
   "metadata": {
    "collapsed": false
   },
   "outputs": [
    {
     "name": "stdout",
     "output_type": "stream",
     "text": [
      "Extraction parameters:\n",
      "\t {'distances': [1], 'additionalInfo': True, 'enableCExtensions': True, 'force2D': False, 'interpolator': 'sitkBSpline', 'resampledPixelSpacing': None, 'label': 1, 'normalizeScale': 1, 'normalize': False, 'force2Ddimension': 0, 'removeOutliers': None, 'minimumROISize': None, 'binWidth': 20, 'minimumROIDimensions': 1, 'sigma': [1, 2, 3], 'padDistance': 5}\n",
      "Enabled filters:\n",
      "\t {'Original': {}}\n",
      "Enabled features:\n",
      "\t {'firstorder': [], 'glcm': [], 'shape': [], 'glrlm': [], 'glszm': []}\n"
     ]
    }
   ],
   "source": [
    "# This cell is equivalent to the previous cell\n",
    "extractor = featureextractor.RadiomicsFeaturesExtractor(binWidth=20, sigma=[1, 2, 3])  # Equivalent of code above\n",
    "\n",
    "print('Extraction parameters:\\n\\t', extractor.settings)\n",
    "print('Enabled filters:\\n\\t', extractor._enabledImagetypes)  # Still the default parameters\n",
    "print('Enabled features:\\n\\t', extractor._enabledFeatures)  # Still the default parameters"
   ]
  },
  {
   "cell_type": "code",
   "execution_count": 6,
   "metadata": {
    "collapsed": false
   },
   "outputs": [
    {
     "name": "stdout",
     "output_type": "stream",
     "text": [
      "\n",
      "Enabled filters:\n",
      "\t {'Original': {}, 'LoG': {}}\n",
      "\n",
      "Enabled features:\n",
      "\t {'firstorder': []}\n",
      "\n",
      "Enabled features:\n",
      "\t {'firstorder': [], 'glcm': ['Autocorrelation', 'Homogeneity1', 'SumSquares']}\n"
     ]
    }
   ],
   "source": [
    "# Enable a filter (in addition to the 'Original' filter already enabled)\n",
    "extractor.enableImageTypeByName('LoG')\n",
    "print('')\n",
    "print('Enabled filters:\\n\\t', extractor._enabledImagetypes)\n",
    "\n",
    "# Disable all feature classes, save firstorder\n",
    "extractor.disableAllFeatures()\n",
    "extractor.enableFeatureClassByName('firstorder')\n",
    "print('')\n",
    "print('Enabled features:\\n\\t', extractor._enabledFeatures)\n",
    "\n",
    "# Specify some additional features in the GLCM feature class\n",
    "extractor.enableFeaturesByName(glcm=['Autocorrelation', 'Homogeneity1', 'SumSquares'])\n",
    "print('')\n",
    "print('Enabled features:\\n\\t', extractor._enabledFeatures)"
   ]
  },
  {
   "cell_type": "markdown",
   "metadata": {},
   "source": [
    "##### Method 3, using a parameter file"
   ]
  },
  {
   "cell_type": "code",
   "execution_count": 7,
   "metadata": {
    "collapsed": false
   },
   "outputs": [
    {
     "name": "stdout",
     "output_type": "stream",
     "text": [
      "Extraction parameters:\n",
      "\t {'distances': [1], 'additionalInfo': True, 'enableCExtensions': True, 'weightingNorm': None, 'force2D': False, 'interpolator': 'sitkBSpline', 'resampledPixelSpacing': None, 'label': 1, 'normalizeScale': 1, 'normalize': False, 'force2Ddimension': 0, 'removeOutliers': None, 'minimumROISize': None, 'binWidth': 25, 'minimumROIDimensions': 1, 'padDistance': 5}\n",
      "Enabled filters:\n",
      "\t {'Original': {}}\n",
      "Enabled features:\n",
      "\t {'firstorder': [], 'glcm': None, 'shape': ['Volume', 'SurfaceArea', 'SurfaceVolumeRatio', 'Sphericity', 'SphericalDisproportion', 'Maximum3DDiameter', 'Maximum2DDiameterSlice', 'Maximum2DDiameterColumn', 'Maximum2DDiameterRow', 'MajorAxis', 'MinorAxis', 'LeastAxis', 'Elongation', 'Flatness'], 'glrlm': None, 'glszm': None}\n"
     ]
    }
   ],
   "source": [
    "# Instantiate the extractor\n",
    "extractor = featureextractor.RadiomicsFeaturesExtractor(paramPath)\n",
    "\n",
    "print('Extraction parameters:\\n\\t', extractor.settings)\n",
    "print('Enabled filters:\\n\\t', extractor._enabledImagetypes)\n",
    "print('Enabled features:\\n\\t', extractor._enabledFeatures)"
   ]
  },
  {
   "cell_type": "markdown",
   "metadata": {
    "collapsed": true
   },
   "source": [
    "### Extract features"
   ]
  },
  {
   "cell_type": "markdown",
   "metadata": {},
   "source": [
    "Now that we have our extractor set up with the correct parameters, we can start extracting features:"
   ]
  },
  {
   "cell_type": "code",
   "execution_count": 8,
   "metadata": {
    "collapsed": false
   },
   "outputs": [],
   "source": [
    "result = extractor.execute(imagePath, maskPath)"
   ]
  },
  {
   "cell_type": "code",
   "execution_count": 9,
   "metadata": {
    "collapsed": false,
    "scrolled": false
   },
   "outputs": [
    {
     "name": "stdout",
     "output_type": "stream",
     "text": [
      "Result type: <class 'collections.OrderedDict'>\n",
      "\n",
      "Calculated features\n",
      "\t general_info_BoundingBox : (162, 84, 11, 47, 70, 7)\n",
      "\t general_info_EnabledImageTypes : {'Original': {}}\n",
      "\t general_info_GeneralSettings : {'distances': [1], 'additionalInfo': True, 'enableCExtensions': True, 'weightingNorm': None, 'force2D': False, 'interpolator': 'sitkBSpline', 'resampledPixelSpacing': None, 'label': 1, 'normalizeScale': 1, 'normalize': False, 'force2Ddimension': 0, 'removeOutliers': None, 'minimumROISize': None, 'binWidth': 25, 'minimumROIDimensions': 1, 'padDistance': 5}\n",
      "\t general_info_ImageHash : 5c9ce3ca174f0f8324aa4d277e0fef82dc5ac566\n",
      "\t general_info_ImageSpacing : (0.7812499999999999, 0.7812499999999999, 6.499999999999998)\n",
      "\t general_info_MaskHash : 9dc2c3137b31fd872997d92c9a92d5178126d9d3\n",
      "\t general_info_Version : 1.2.0.post53.dev0+gfd36b18\n",
      "\t general_info_VolumeNum : 2\n",
      "\t general_info_VoxelNum : 4137\n",
      "\t original_shape_SphericalDisproportion : 2.06159321347\n",
      "\t original_shape_Maximum2DDiameterSlice : 47.2187913633\n",
      "\t original_shape_Sphericity : 0.485061744222\n",
      "\t original_shape_MinorAxis : 34.8497016669\n",
      "\t original_shape_Elongation : 0.562117162717\n",
      "\t original_shape_SurfaceVolumeRatio : 0.392308261863\n",
      "\t original_shape_Volume : 16412.6586914\n",
      "\t original_shape_Maximum3DDiameter : 65.5366145873\n",
      "\t original_shape_MajorAxis : 61.9972204698\n",
      "\t original_shape_SurfaceArea : 6438.82160378\n",
      "\t original_shape_Flatness : 0.461059753466\n",
      "\t original_shape_LeastAxis : 28.5844231854\n",
      "\t original_shape_Maximum2DDiameterColumn : 44.5487904052\n",
      "\t original_shape_Maximum2DDiameterRow : 61.5801767135\n",
      "\t original_firstorder_InterquartileRange : 253.0\n",
      "\t original_firstorder_Skewness : 0.275650859086\n",
      "\t original_firstorder_Uniformity : 0.0451569635559\n",
      "\t original_firstorder_MeanAbsoluteDeviation : 133.447261953\n",
      "\t original_firstorder_Energy : 2918821481.0\n",
      "\t original_firstorder_RobustMeanAbsoluteDeviation : 103.00138343\n",
      "\t original_firstorder_Median : 812.0\n",
      "\t original_firstorder_TotalEnergy : 11579797135.3\n",
      "\t original_firstorder_Maximum : 1266.0\n",
      "\t original_firstorder_RootMeanSquared : 839.964644818\n",
      "\t original_firstorder_90Percentile : 1044.4\n",
      "\t original_firstorder_Minimum : 468.0\n",
      "\t original_firstorder_Entropy : 4.6019355539\n",
      "\t original_firstorder_StandardDeviation : 156.611235894\n",
      "\t original_firstorder_Range : 798.0\n",
      "\t original_firstorder_Variance : 24527.0792084\n",
      "\t original_firstorder_10Percentile : 632.0\n",
      "\t original_firstorder_Kurtosis : 2.18077293939\n",
      "\t original_firstorder_Mean : 825.235436307\n",
      "\t original_glcm_SumVariance : 108.731393255\n",
      "\t original_glcm_Homogeneity1 : 0.28722572383\n",
      "\t original_glcm_Homogeneity2 : 0.200222556405\n",
      "\t original_glcm_ClusterShade : 19.6050834273\n",
      "\t original_glcm_MaximumProbability : 0.00735239226629\n",
      "\t original_glcm_Idmn : 0.961402169623\n",
      "\t original_glcm_Contrast : 47.4921251144\n",
      "\t original_glcm_DifferenceEntropy : 3.74406097807\n",
      "\t original_glcm_InverseVariance : 0.198818841971\n",
      "\t original_glcm_Dissimilarity : 5.28446878987\n",
      "\t original_glcm_SumAverage : 33.1076154489\n",
      "\t original_glcm_DifferenceVariance : 16.6556370503\n",
      "\t original_glcm_Idn : 0.87260521574\n",
      "\t original_glcm_Idm : 0.200222556405\n",
      "\t original_glcm_Correlation : 0.39175220067\n",
      "\t original_glcm_Autocorrelation : 289.543699402\n",
      "\t original_glcm_SumEntropy : 5.35424132149\n",
      "\t original_glcm_AverageIntensity : 16.5538077244\n",
      "\t original_glcm_Energy : 0.00289314924299\n",
      "\t original_glcm_SumSquares : 39.0558795922\n",
      "\t original_glcm_ClusterProminence : 27995.9375919\n",
      "\t original_glcm_Entropy : 8.79969627025\n",
      "\t original_glcm_Imc2 : 0.694224902067\n",
      "\t original_glcm_Imc1 : -0.0943893880874\n",
      "\t original_glcm_DifferenceAverage : 5.28446878987\n",
      "\t original_glcm_Id : 0.28722572383\n",
      "\t original_glcm_ClusterTendency : 108.731393255\n",
      "\t original_glrlm_ShortRunLowGrayLevelEmphasis : 0.00822976624416\n",
      "\t original_glrlm_GrayLevelVariance : 39.118151022\n",
      "\t original_glrlm_LowGrayLevelRunEmphasis : 0.00860039789166\n",
      "\t original_glrlm_GrayLevelNonUniformityNormalized : 0.0451412381498\n",
      "\t original_glrlm_RunVariance : 0.0847945778959\n",
      "\t original_glrlm_GrayLevelNonUniformity : 175.635192315\n",
      "\t original_glrlm_LongRunEmphasis : 1.22684403826\n",
      "\t original_glrlm_ShortRunHighGrayLevelEmphasis : 268.974179841\n",
      "\t original_glrlm_RunLengthNonUniformity : 3500.04323157\n",
      "\t original_glrlm_ShortRunEmphasis : 0.955939173141\n",
      "\t original_glrlm_LongRunHighGrayLevelEmphasis : 341.286579098\n",
      "\t original_glrlm_RunPercentage : 0.940406463249\n",
      "\t original_glrlm_LongRunLowGrayLevelEmphasis : 0.0106011704787\n",
      "\t original_glrlm_RunEntropy : 4.91503800316\n",
      "\t original_glrlm_HighGrayLevelRunEmphasis : 281.066493909\n",
      "\t original_glrlm_RunLengthNonUniformityNormalized : 0.895049465948\n",
      "\t original_glszm_GrayLevelVariance : 40.6031399239\n",
      "\t original_glszm_SmallAreaHighGrayLevelEmphasis : 193.438051926\n",
      "\t original_glszm_GrayLevelNonUniformityNormalized : 0.0440573079013\n",
      "\t original_glszm_SizeZoneNonUniformityNormalized : 0.399784380451\n",
      "\t original_glszm_SizeZoneNonUniformity : 747.596791444\n",
      "\t original_glszm_GrayLevelNonUniformity : 82.3871657754\n",
      "\t original_glszm_LargeAreaEmphasis : 13.6155080214\n",
      "\t original_glszm_ZoneVariance : 8.72123909749\n",
      "\t original_glszm_ZonePercentage : 0.4520183708\n",
      "\t original_glszm_LargeAreaLowGrayLevelEmphasis : 0.127238415533\n",
      "\t original_glszm_LargeAreaHighGrayLevelEmphasis : 3514.76149733\n",
      "\t original_glszm_HighGrayLevelZoneEmphasis : 288.623529412\n",
      "\t original_glszm_SmallAreaEmphasis : 0.656447899959\n",
      "\t original_glszm_LowGrayLevelZoneEmphasis : 0.00910094202771\n",
      "\t original_glszm_ZoneEntropy : 6.5082149862\n",
      "\t original_glszm_SmallAreaLowGrayLevelEmphasis : 0.0064169820551\n"
     ]
    }
   ],
   "source": [
    "print('Result type:', type(result))  # result is returned in a Python ordered dictionary)\n",
    "print('')\n",
    "print('Calculated features')\n",
    "for key, value in six.iteritems(result):\n",
    "    print('\\t', key, ':', value)"
   ]
  },
  {
   "cell_type": "code",
   "execution_count": null,
   "metadata": {
    "collapsed": true
   },
   "outputs": [],
   "source": []
  }
 ],
 "metadata": {
  "kernelspec": {
   "display_name": "Python 2",
   "language": "python",
   "name": "python2"
  },
  "language_info": {
   "codemirror_mode": {
    "name": "ipython",
    "version": 2
   },
   "file_extension": ".py",
   "mimetype": "text/x-python",
   "name": "python",
   "nbconvert_exporter": "python",
   "pygments_lexer": "ipython2",
   "version": "2.7.11"
  }
 },
 "nbformat": 4,
 "nbformat_minor": 0
}
